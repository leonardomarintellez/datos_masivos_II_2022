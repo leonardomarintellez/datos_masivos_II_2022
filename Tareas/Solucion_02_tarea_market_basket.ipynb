{
 "cells": [
  {
   "cell_type": "markdown",
   "metadata": {
    "collapsed": true,
    "id": "_k0AYgTYfZIC"
   },
   "source": [
    "## Tarea 2 Reglas de Asociación"
   ]
  },
  {
   "cell_type": "markdown",
   "metadata": {
    "collapsed": true,
    "id": "A4cnJZhNfZIG"
   },
   "source": [
    "Utilizaremos datos de la Encuesta Nacional de Ingresos y Gastos de los Hogares (ENIGH). 2018 Nueva serie."
   ]
  },
  {
   "cell_type": "markdown",
   "metadata": {
    "collapsed": true,
    "id": "BH_WhHH9fZIH"
   },
   "source": [
    "> La Encuesta Nacional de Ingresos y Gastos de los Hogares 2018 se llevó a cabo del 21 de agosto al 28 de noviembre de 2018. Su objetivo es proporcionar un panorama estadístico del comportamiento de los ingresos y gastos de los hogares en cuanto a su monto, procedencia y distribución; adicionalmente, ofrece información sobre las características ocupacionales y sociodemográficas de los integrantes del hogar, así como las características de la infraestructura de la vivienda y el equipamiento del hogar"
   ]
  },
  {
   "cell_type": "markdown",
   "metadata": {
    "collapsed": true,
    "id": "Z_zSpMI5fZIJ"
   },
   "source": [
    "Para descargar los datos de la tarea  entrar  en la carpeta de datos del repositorio de la clase."
   ]
  },
  {
   "cell_type": "markdown",
   "metadata": {
    "id": "2Wy6jfwSfZIK"
   },
   "source": [
    "Los datos para la tarea constande 2 tablas, la tabla de gastos y la tabla de hogares. La primera incluye los gastos de los hogares y la segunda datos sociodemograficos de los hogares (notar que dentro de una vivienda puede haber más de un hogar)."
   ]
  },
  {
   "cell_type": "markdown",
   "metadata": {
    "id": "wv6BH7wLfZIL"
   },
   "source": [
    "**Objetivo de la tarea**. Identificar reglas de asociación asociadas a ingresos altos de los hogares. Nota: Ustedes decidirán a partir de que valor se considera ingreso alto para un hogar"
   ]
  },
  {
   "cell_type": "markdown",
   "metadata": {
    "collapsed": true,
    "id": "vdB3EYWUfZIL"
   },
   "source": [
    "Si desean consultar mayor detalle de la encuesta ir al siguiente link [ENIGH](https://www.inegi.org.mx/programas/enigh/nc/2018/)"
   ]
  },
  {
   "cell_type": "code",
   "execution_count": null,
   "metadata": {
    "id": "e9qn5OFFfZIM"
   },
   "outputs": [],
   "source": [
    "# Librerías\n",
    "import pandas as pd\n",
    "import numpy as np"
   ]
  },
  {
   "cell_type": "code",
   "execution_count": null,
   "metadata": {
    "id": "sUZC0d9UfZIP",
    "outputId": "bd978006-227e-4217-b5ac-eeb205e90c10"
   },
   "outputs": [
    {
     "data": {
      "text/html": [
       "<div>\n",
       "<style scoped>\n",
       "    .dataframe tbody tr th:only-of-type {\n",
       "        vertical-align: middle;\n",
       "    }\n",
       "\n",
       "    .dataframe tbody tr th {\n",
       "        vertical-align: top;\n",
       "    }\n",
       "\n",
       "    .dataframe thead th {\n",
       "        text-align: right;\n",
       "    }\n",
       "</style>\n",
       "<table border=\"1\" class=\"dataframe\">\n",
       "  <thead>\n",
       "    <tr style=\"text-align: right;\">\n",
       "      <th></th>\n",
       "      <th>folioviv</th>\n",
       "      <th>foliohog</th>\n",
       "      <th>gasto</th>\n",
       "    </tr>\n",
       "  </thead>\n",
       "  <tbody>\n",
       "    <tr>\n",
       "      <th>0</th>\n",
       "      <td>100013601</td>\n",
       "      <td>1</td>\n",
       "      <td>30.0</td>\n",
       "    </tr>\n",
       "    <tr>\n",
       "      <th>1</th>\n",
       "      <td>100013601</td>\n",
       "      <td>1</td>\n",
       "      <td>84.0</td>\n",
       "    </tr>\n",
       "    <tr>\n",
       "      <th>2</th>\n",
       "      <td>100013601</td>\n",
       "      <td>1</td>\n",
       "      <td>60.0</td>\n",
       "    </tr>\n",
       "    <tr>\n",
       "      <th>3</th>\n",
       "      <td>100013601</td>\n",
       "      <td>1</td>\n",
       "      <td>33.0</td>\n",
       "    </tr>\n",
       "    <tr>\n",
       "      <th>4</th>\n",
       "      <td>100013601</td>\n",
       "      <td>1</td>\n",
       "      <td>2400.0</td>\n",
       "    </tr>\n",
       "  </tbody>\n",
       "</table>\n",
       "</div>"
      ],
      "text/plain": [
       "    folioviv  foliohog   gasto\n",
       "0  100013601         1    30.0\n",
       "1  100013601         1    84.0\n",
       "2  100013601         1    60.0\n",
       "3  100013601         1    33.0\n",
       "4  100013601         1  2400.0"
      ]
     },
     "execution_count": 296,
     "metadata": {},
     "output_type": "execute_result"
    }
   ],
   "source": [
    "# Leer los datos de Gasto\n",
    "valores_missing = ['', ' ']\n",
    "gasto = pd.read_csv(\"/home/leonardo/Documentos/Acatlan/enigh/conjunto_de_datos_gastoshogar_enigh_2018_ns.csv\", \\\n",
    "                    usecols= [0,1,14], na_values = valores_missing)\n",
    "gasto.head()"
   ]
  },
  {
   "cell_type": "code",
   "execution_count": null,
   "metadata": {
    "id": "gHwiDUrVfZIQ",
    "outputId": "8a6826f7-d29a-49b4-cd0e-2cbec0697974"
   },
   "outputs": [
    {
     "data": {
      "text/plain": [
       "(1048575, 3)"
      ]
     },
     "execution_count": 297,
     "metadata": {},
     "output_type": "execute_result"
    }
   ],
   "source": [
    "gasto.shape"
   ]
  },
  {
   "cell_type": "markdown",
   "metadata": {
    "id": "sXLBordcfZIR"
   },
   "source": [
    "Colapsar la información a nivel hogar"
   ]
  },
  {
   "cell_type": "code",
   "execution_count": null,
   "metadata": {
    "id": "IC9v7IgXfZIR",
    "outputId": "19677193-22f0-4cc2-b744-7c6de2b8b647"
   },
   "outputs": [
    {
     "data": {
      "text/html": [
       "<div>\n",
       "<style scoped>\n",
       "    .dataframe tbody tr th:only-of-type {\n",
       "        vertical-align: middle;\n",
       "    }\n",
       "\n",
       "    .dataframe tbody tr th {\n",
       "        vertical-align: top;\n",
       "    }\n",
       "\n",
       "    .dataframe thead tr th {\n",
       "        text-align: left;\n",
       "    }\n",
       "\n",
       "    .dataframe thead tr:last-of-type th {\n",
       "        text-align: right;\n",
       "    }\n",
       "</style>\n",
       "<table border=\"1\" class=\"dataframe\">\n",
       "  <thead>\n",
       "    <tr>\n",
       "      <th></th>\n",
       "      <th></th>\n",
       "      <th>gasto</th>\n",
       "    </tr>\n",
       "    <tr>\n",
       "      <th></th>\n",
       "      <th></th>\n",
       "      <th>sum</th>\n",
       "    </tr>\n",
       "    <tr>\n",
       "      <th>folioviv</th>\n",
       "      <th>foliohog</th>\n",
       "      <th></th>\n",
       "    </tr>\n",
       "  </thead>\n",
       "  <tbody>\n",
       "    <tr>\n",
       "      <th>100013601</th>\n",
       "      <th>1</th>\n",
       "      <td>2607.0</td>\n",
       "    </tr>\n",
       "    <tr>\n",
       "      <th>100013602</th>\n",
       "      <th>1</th>\n",
       "      <td>23696.0</td>\n",
       "    </tr>\n",
       "    <tr>\n",
       "      <th>100013603</th>\n",
       "      <th>1</th>\n",
       "      <td>38780.0</td>\n",
       "    </tr>\n",
       "    <tr>\n",
       "      <th>100013604</th>\n",
       "      <th>1</th>\n",
       "      <td>7428.0</td>\n",
       "    </tr>\n",
       "    <tr>\n",
       "      <th>100013606</th>\n",
       "      <th>1</th>\n",
       "      <td>2547.0</td>\n",
       "    </tr>\n",
       "  </tbody>\n",
       "</table>\n",
       "</div>"
      ],
      "text/plain": [
       "                      gasto\n",
       "                        sum\n",
       "folioviv  foliohog         \n",
       "100013601 1          2607.0\n",
       "100013602 1         23696.0\n",
       "100013603 1         38780.0\n",
       "100013604 1          7428.0\n",
       "100013606 1          2547.0"
      ]
     },
     "execution_count": 350,
     "metadata": {},
     "output_type": "execute_result"
    }
   ],
   "source": [
    "# Colapsar la info a nivel hogar\n",
    "gasto_x_hogar =gasto.groupby(['folioviv','foliohog']).agg({'gasto':['sum']})\n",
    "gasto_x_hogar.head()"
   ]
  },
  {
   "cell_type": "code",
   "execution_count": null,
   "metadata": {
    "id": "Zz13gXGHfZIS",
    "outputId": "5fcddcf7-e6c2-4a09-b374-76ffd0c9bafe"
   },
   "outputs": [
    {
     "data": {
      "text/plain": [
       "(44250, 1)"
      ]
     },
     "execution_count": 351,
     "metadata": {},
     "output_type": "execute_result"
    }
   ],
   "source": [
    "gasto_x_hogar.shape"
   ]
  },
  {
   "cell_type": "markdown",
   "metadata": {
    "id": "Q08d0UdLfZIT"
   },
   "source": [
    "Crear variable indicadora para determinar un 'ingreso alto' de un hogar. Esto usualmente va alineado con las reglas del negocio o el problema que estás resolviendo "
   ]
  },
  {
   "cell_type": "markdown",
   "metadata": {
    "id": "Ht91sDW9fZIT"
   },
   "source": [
    "**Definir valor para ingreso alto**. Enuncia el porque de tu valor o incluye la referencia si utilizaste alguna"
   ]
  },
  {
   "cell_type": "code",
   "execution_count": null,
   "metadata": {
    "id": "WO2mcJEKfZIU"
   },
   "outputs": [],
   "source": [
    "# Incluye tu justificación para el ingreso aquí"
   ]
  },
  {
   "cell_type": "code",
   "execution_count": null,
   "metadata": {
    "id": "AOW5y2ZtfZIV"
   },
   "outputs": [],
   "source": [
    "ingreso_alto = 50000 #Ingresar tu valor de ingreso alto aquí"
   ]
  },
  {
   "cell_type": "code",
   "execution_count": null,
   "metadata": {
    "id": "u293YPvZfZIV"
   },
   "outputs": [],
   "source": [
    "gasto_x_hogar['ingreso_alto'] = gasto_x_hogar['gasto']['sum'].map(lambda x: x > ingreso_alto)\n",
    "\n",
    "# Borrar la variable gasto\n",
    "del gasto_x_hogar['gasto']\n"
   ]
  },
  {
   "cell_type": "code",
   "execution_count": null,
   "metadata": {
    "id": "v_vMQZQRfZIW",
    "outputId": "5e774ccf-c7ce-45a8-96ed-40fecfa835e3"
   },
   "outputs": [
    {
     "name": "stdout",
     "output_type": "stream",
     "text": [
      "<class 'pandas.core.frame.DataFrame'>\n",
      "MultiIndex: 44250 entries, (100013601, 1) to (1909929214, 1)\n",
      "Data columns (total 1 columns):\n",
      "(ingreso_alto, )    44250 non-null bool\n",
      "dtypes: bool(1)\n",
      "memory usage: 599.6 KB\n"
     ]
    }
   ],
   "source": [
    "gasto_x_hogar.info()"
   ]
  },
  {
   "cell_type": "code",
   "execution_count": null,
   "metadata": {
    "id": "i-6CLZjEfZIW"
   },
   "outputs": [],
   "source": [
    "# Hacer el aggregate de la info generó vaiables multinivel por ello se reasignó el nombre de las columnas\n",
    "# gasto_x_hogar.columns = ['foliohog', 'folioviv', 'ingreso_alto']\n",
    "gasto_x_hogar.columns = ['ingreso_alto']"
   ]
  },
  {
   "cell_type": "code",
   "execution_count": null,
   "metadata": {
    "id": "b5gG_mPXfZIW",
    "outputId": "a40a3430-0d84-407d-b599-498f4469a628"
   },
   "outputs": [
    {
     "data": {
      "text/html": [
       "<div>\n",
       "<style scoped>\n",
       "    .dataframe tbody tr th:only-of-type {\n",
       "        vertical-align: middle;\n",
       "    }\n",
       "\n",
       "    .dataframe tbody tr th {\n",
       "        vertical-align: top;\n",
       "    }\n",
       "\n",
       "    .dataframe thead th {\n",
       "        text-align: right;\n",
       "    }\n",
       "</style>\n",
       "<table border=\"1\" class=\"dataframe\">\n",
       "  <thead>\n",
       "    <tr style=\"text-align: right;\">\n",
       "      <th></th>\n",
       "      <th></th>\n",
       "      <th>ingreso_alto</th>\n",
       "    </tr>\n",
       "    <tr>\n",
       "      <th>folioviv</th>\n",
       "      <th>foliohog</th>\n",
       "      <th></th>\n",
       "    </tr>\n",
       "  </thead>\n",
       "  <tbody>\n",
       "    <tr>\n",
       "      <th>100013601</th>\n",
       "      <th>1</th>\n",
       "      <td>False</td>\n",
       "    </tr>\n",
       "    <tr>\n",
       "      <th>100013602</th>\n",
       "      <th>1</th>\n",
       "      <td>False</td>\n",
       "    </tr>\n",
       "    <tr>\n",
       "      <th>100013603</th>\n",
       "      <th>1</th>\n",
       "      <td>False</td>\n",
       "    </tr>\n",
       "    <tr>\n",
       "      <th>100013604</th>\n",
       "      <th>1</th>\n",
       "      <td>False</td>\n",
       "    </tr>\n",
       "    <tr>\n",
       "      <th>100013606</th>\n",
       "      <th>1</th>\n",
       "      <td>False</td>\n",
       "    </tr>\n",
       "    <tr>\n",
       "      <th>100026701</th>\n",
       "      <th>1</th>\n",
       "      <td>False</td>\n",
       "    </tr>\n",
       "    <tr>\n",
       "      <th>100026703</th>\n",
       "      <th>1</th>\n",
       "      <td>False</td>\n",
       "    </tr>\n",
       "    <tr>\n",
       "      <th>100026704</th>\n",
       "      <th>1</th>\n",
       "      <td>True</td>\n",
       "    </tr>\n",
       "    <tr>\n",
       "      <th>100026706</th>\n",
       "      <th>1</th>\n",
       "      <td>False</td>\n",
       "    </tr>\n",
       "    <tr>\n",
       "      <th>100027201</th>\n",
       "      <th>1</th>\n",
       "      <td>False</td>\n",
       "    </tr>\n",
       "  </tbody>\n",
       "</table>\n",
       "</div>"
      ],
      "text/plain": [
       "                    ingreso_alto\n",
       "folioviv  foliohog              \n",
       "100013601 1                False\n",
       "100013602 1                False\n",
       "100013603 1                False\n",
       "100013604 1                False\n",
       "100013606 1                False\n",
       "100026701 1                False\n",
       "100026703 1                False\n",
       "100026704 1                 True\n",
       "100026706 1                False\n",
       "100027201 1                False"
      ]
     },
     "execution_count": 304,
     "metadata": {},
     "output_type": "execute_result"
    }
   ],
   "source": [
    "gasto_x_hogar.head(10)"
   ]
  },
  {
   "cell_type": "markdown",
   "metadata": {
    "id": "6iUDcDAVfZIW"
   },
   "source": [
    "Sólo utilizaremos ciertas variables de la tabla de hogares. El detalle de las variables de la tabla de hogares puede ser cnsultado en el diccionario de datos ubicado en la carpeta de los datos"
   ]
  },
  {
   "cell_type": "markdown",
   "metadata": {
    "id": "Bs8r6I6WfZIX"
   },
   "source": [
    "Las variables autilizar son:\n",
    "\n",
    "- folioviv: Identificador de la vivienda compuesto por dos dígitos con la clave de la entidad federativa, uno con el ámbito (urbano, código diferente a 6; rural, código 6), cuatro dígitos del número consecutivo de la upm, un dígito de la decena de levantamiento y dos dígitos con un número consecutivo para la vivienda seleccionada.\n",
    "- foliohog:\tEl código 1 identifica al hogar principal y del 2 al 5 los hogares adicionales.\n",
    "- alim17_1:\tNúmero de días que comieron alimentos hechos de maíz, trigo, arroz, avena, salvado, etcétera, durante la última semana.\n",
    "- alim17_2:\tNúmero de días que comieron alimentos provenientes de raíces o tubérculos, durante la última semana.\n",
    "- alim17_3:\tNúmero de días que comieron verduras durante la última semana.\n",
    "- alim17_4:\tNúmero de días que comieron frutas durante la última semana.\n",
    "- alim17_5:\tNúmero de días que comieron carne durante la última semana.\n",
    "- alim17_6:\tNúmero de días que comieron huevo durante la última semana.\n",
    "- alim17_7:\tNúmero de días que comieron pescado o mariscos durante la última semana.\n",
    "- alim17_8:\tNúmero de días que comieron leguminosas o semillas durante la última semana.\n",
    "- alim17_9:\tNúmero de días que comieron productos lácteos durante la última semana.\n",
    "- alim17_10:\tNúmero de días que comieron aceites o grasas durante la última semana.\n",
    "- alim17_11:\tNúmero de días que comieron azúcar o mieles durante la última semana.\n",
    "- alim17_12:\tNúmero de días que comieron otros alimentos como condimentos, café, té durante la última semana.\n",
    "\n",
    "- telefono:\tServicio de línea telefónica en el hogar ya sea con instalación alámbrica o satelital (antena). \n",
    "- celular:\tHogares que cuentan con el servicio de teléfono móvil aunque sea un sólo integrante del hogar.\n",
    "- tv_paga:\tHogares que cuentan con los servicios de televisión por pago, considerando que el servicio está en funcionamiento.\n",
    "- conex_inte:\tHogares que cuentan con el servicio de línea telefónica, tarjeta prepagada o telecable.\n",
    "\n",
    "- num_auto:\tNúmero de automóviles con los que cuenta el hogar.\n",
    "- num_van:\tNúmero de camionetas cerradas o con cabina (van o minivan) con las que cuenta el hogar.\n",
    "- num_pickup:\tNúmero de camionetas con caja con las que cuenta el hogar.\n",
    "- num_moto:\tNúmero de motocicletas o motonetas con las que cuenta el hogar.\n",
    "- num_bici:\tNúmero de bicicletas que se utilicen como medio de transporte en el hogar.\n",
    "- num_trici:\tNúmero de triciclos que se utilicen como medio de transporte en el hogar.\n",
    "- num_carret:\tNúmero de carretas, calandrias u otros vehículos de tracción animal con los que cuenta el hogar.\n",
    "- num_canoa:\tNúmero de canoas, lanchas, trajineras u otros vehículos para navegar con los que cuenta el hogar.\n",
    "- num_otro:\tNúmero de otro tipo de vehículos con los que cuenta el hogar.\n",
    "- num_ester:\tNúmero de estéreos, modulares o minicomponentes con los que cuenta el hogar.\n",
    "- num_grab:\tNúmero de grabadoras con las que cuenta el hogar.\n",
    "- num_radio:\tNúmero de radios con las que cuenta el hogar.\n",
    "- num_tva:\tNúmero de televisores analógicos con los que cuenta el hogar.\n",
    "- num_tvd:\tNúmero de televisores digitales con los que cuenta el hogar.\n",
    "- num_dvd:\tNúmero de DVDs, Blu-ray (reproductores de discos de video) con los que cuenta el hogar.\n",
    "- num_video:\tNúmero de videocaseteras con las que cuenta el hogar.\n",
    "- num_licua:\tNúmero de licuadoras con las que cuenta el hogar.\n",
    "- num_tosta:\tNúmero de tostadores con los que cuenta el hogar.\n",
    "- num_micro:\tNúmero de hornos de microondas con los que cuenta el hogar.\n",
    "- num_refri:\tNúmero de refrigeradores con los que cuenta el hogar.\n",
    "- num_estuf:\tNúmero de estufas de gas o eléctricas con las que cuenta el hogar.\n",
    "- num_lavad:\tNúmero de lavadoras con las que cuenta el hogar.\n",
    "- num_planc:\tNúmero de planchas eléctricas con las que cuenta el hogar.\n",
    "- num_maqui:\tNúmero de máquinas de coser con las que cuenta el hogar.\n",
    "- num_venti:\tNúmero de ventiladores con los que cuenta el hogar.\n",
    "- num_aspir:\tNúmero de aspiradoras con las que cuenta el hogar.\n",
    "- num_compu:\tNúmero de computadoras con las que cuenta el hogar.\n",
    "- num_impre:\tNúmero de impresoras con las que cuenta el hogar.\n",
    "- num_juego:\tNúmero de videojuegos (Wii, Playstation, Xbox, otros) con los que cuenta el hogar.\n"
   ]
  },
  {
   "cell_type": "code",
   "execution_count": null,
   "metadata": {
    "id": "tulMxw2XfZIY",
    "outputId": "9fd4c013-ff36-4052-b065-bc6b421f8f9f",
    "scrolled": true
   },
   "outputs": [
    {
     "data": {
      "text/html": [
       "<div>\n",
       "<style scoped>\n",
       "    .dataframe tbody tr th:only-of-type {\n",
       "        vertical-align: middle;\n",
       "    }\n",
       "\n",
       "    .dataframe tbody tr th {\n",
       "        vertical-align: top;\n",
       "    }\n",
       "\n",
       "    .dataframe thead th {\n",
       "        text-align: right;\n",
       "    }\n",
       "</style>\n",
       "<table border=\"1\" class=\"dataframe\">\n",
       "  <thead>\n",
       "    <tr style=\"text-align: right;\">\n",
       "      <th></th>\n",
       "      <th></th>\n",
       "      <th>alim17_1</th>\n",
       "      <th>alim17_2</th>\n",
       "      <th>alim17_3</th>\n",
       "      <th>alim17_4</th>\n",
       "      <th>alim17_5</th>\n",
       "      <th>alim17_6</th>\n",
       "      <th>alim17_7</th>\n",
       "      <th>alim17_8</th>\n",
       "      <th>alim17_9</th>\n",
       "      <th>alim17_10</th>\n",
       "      <th>...</th>\n",
       "      <th>num_refri</th>\n",
       "      <th>num_estuf</th>\n",
       "      <th>num_lavad</th>\n",
       "      <th>num_planc</th>\n",
       "      <th>num_maqui</th>\n",
       "      <th>num_venti</th>\n",
       "      <th>num_aspir</th>\n",
       "      <th>num_compu</th>\n",
       "      <th>num_impre</th>\n",
       "      <th>num_juego</th>\n",
       "    </tr>\n",
       "    <tr>\n",
       "      <th>folioviv</th>\n",
       "      <th>foliohog</th>\n",
       "      <th></th>\n",
       "      <th></th>\n",
       "      <th></th>\n",
       "      <th></th>\n",
       "      <th></th>\n",
       "      <th></th>\n",
       "      <th></th>\n",
       "      <th></th>\n",
       "      <th></th>\n",
       "      <th></th>\n",
       "      <th></th>\n",
       "      <th></th>\n",
       "      <th></th>\n",
       "      <th></th>\n",
       "      <th></th>\n",
       "      <th></th>\n",
       "      <th></th>\n",
       "      <th></th>\n",
       "      <th></th>\n",
       "      <th></th>\n",
       "      <th></th>\n",
       "    </tr>\n",
       "  </thead>\n",
       "  <tbody>\n",
       "    <tr>\n",
       "      <th>100013601</th>\n",
       "      <th>1</th>\n",
       "      <td>7</td>\n",
       "      <td>1</td>\n",
       "      <td>7</td>\n",
       "      <td>7</td>\n",
       "      <td>4</td>\n",
       "      <td>7</td>\n",
       "      <td>1</td>\n",
       "      <td>7</td>\n",
       "      <td>7</td>\n",
       "      <td>7</td>\n",
       "      <td>...</td>\n",
       "      <td>1.0</td>\n",
       "      <td>1.0</td>\n",
       "      <td>1.0</td>\n",
       "      <td>1.0</td>\n",
       "      <td>1</td>\n",
       "      <td>1.0</td>\n",
       "      <td>1</td>\n",
       "      <td>1</td>\n",
       "      <td>0</td>\n",
       "      <td>0</td>\n",
       "    </tr>\n",
       "    <tr>\n",
       "      <th>100013602</th>\n",
       "      <th>1</th>\n",
       "      <td>7</td>\n",
       "      <td>3</td>\n",
       "      <td>4</td>\n",
       "      <td>3</td>\n",
       "      <td>3</td>\n",
       "      <td>2</td>\n",
       "      <td>0</td>\n",
       "      <td>5</td>\n",
       "      <td>7</td>\n",
       "      <td>5</td>\n",
       "      <td>...</td>\n",
       "      <td>1.0</td>\n",
       "      <td>1.0</td>\n",
       "      <td>1.0</td>\n",
       "      <td>1.0</td>\n",
       "      <td>1</td>\n",
       "      <td>1.0</td>\n",
       "      <td>1</td>\n",
       "      <td>2</td>\n",
       "      <td>1</td>\n",
       "      <td>1</td>\n",
       "    </tr>\n",
       "    <tr>\n",
       "      <th>100013603</th>\n",
       "      <th>1</th>\n",
       "      <td>4</td>\n",
       "      <td>2</td>\n",
       "      <td>5</td>\n",
       "      <td>4</td>\n",
       "      <td>5</td>\n",
       "      <td>3</td>\n",
       "      <td>2</td>\n",
       "      <td>2</td>\n",
       "      <td>3</td>\n",
       "      <td>4</td>\n",
       "      <td>...</td>\n",
       "      <td>1.0</td>\n",
       "      <td>1.0</td>\n",
       "      <td>1.0</td>\n",
       "      <td>1.0</td>\n",
       "      <td>0</td>\n",
       "      <td>1.0</td>\n",
       "      <td>0</td>\n",
       "      <td>1</td>\n",
       "      <td>0</td>\n",
       "      <td>0</td>\n",
       "    </tr>\n",
       "    <tr>\n",
       "      <th>100013604</th>\n",
       "      <th>1</th>\n",
       "      <td>7</td>\n",
       "      <td>3</td>\n",
       "      <td>7</td>\n",
       "      <td>7</td>\n",
       "      <td>4</td>\n",
       "      <td>7</td>\n",
       "      <td>1</td>\n",
       "      <td>5</td>\n",
       "      <td>2</td>\n",
       "      <td>7</td>\n",
       "      <td>...</td>\n",
       "      <td>1.0</td>\n",
       "      <td>1.0</td>\n",
       "      <td>1.0</td>\n",
       "      <td>1.0</td>\n",
       "      <td>1</td>\n",
       "      <td>5.0</td>\n",
       "      <td>0</td>\n",
       "      <td>0</td>\n",
       "      <td>0</td>\n",
       "      <td>0</td>\n",
       "    </tr>\n",
       "    <tr>\n",
       "      <th>100013606</th>\n",
       "      <th>1</th>\n",
       "      <td>7</td>\n",
       "      <td>1</td>\n",
       "      <td>1</td>\n",
       "      <td>7</td>\n",
       "      <td>3</td>\n",
       "      <td>7</td>\n",
       "      <td>0</td>\n",
       "      <td>2</td>\n",
       "      <td>7</td>\n",
       "      <td>7</td>\n",
       "      <td>...</td>\n",
       "      <td>1.0</td>\n",
       "      <td>1.0</td>\n",
       "      <td>1.0</td>\n",
       "      <td>1.0</td>\n",
       "      <td>0</td>\n",
       "      <td>0.0</td>\n",
       "      <td>0</td>\n",
       "      <td>0</td>\n",
       "      <td>0</td>\n",
       "      <td>0</td>\n",
       "    </tr>\n",
       "  </tbody>\n",
       "</table>\n",
       "<p>5 rows × 45 columns</p>\n",
       "</div>"
      ],
      "text/plain": [
       "                    alim17_1  alim17_2  alim17_3  alim17_4  alim17_5  \\\n",
       "folioviv  foliohog                                                     \n",
       "100013601 1                7         1         7         7         4   \n",
       "100013602 1                7         3         4         3         3   \n",
       "100013603 1                4         2         5         4         5   \n",
       "100013604 1                7         3         7         7         4   \n",
       "100013606 1                7         1         1         7         3   \n",
       "\n",
       "                    alim17_6  alim17_7  alim17_8  alim17_9  alim17_10  ...  \\\n",
       "folioviv  foliohog                                                     ...   \n",
       "100013601 1                7         1         7         7          7  ...   \n",
       "100013602 1                2         0         5         7          5  ...   \n",
       "100013603 1                3         2         2         3          4  ...   \n",
       "100013604 1                7         1         5         2          7  ...   \n",
       "100013606 1                7         0         2         7          7  ...   \n",
       "\n",
       "                    num_refri  num_estuf  num_lavad  num_planc  num_maqui  \\\n",
       "folioviv  foliohog                                                          \n",
       "100013601 1               1.0        1.0        1.0        1.0          1   \n",
       "100013602 1               1.0        1.0        1.0        1.0          1   \n",
       "100013603 1               1.0        1.0        1.0        1.0          0   \n",
       "100013604 1               1.0        1.0        1.0        1.0          1   \n",
       "100013606 1               1.0        1.0        1.0        1.0          0   \n",
       "\n",
       "                    num_venti  num_aspir  num_compu  num_impre  num_juego  \n",
       "folioviv  foliohog                                                         \n",
       "100013601 1               1.0          1          1          0          0  \n",
       "100013602 1               1.0          1          2          1          1  \n",
       "100013603 1               1.0          0          1          0          0  \n",
       "100013604 1               5.0          0          0          0          0  \n",
       "100013606 1               0.0          0          0          0          0  \n",
       "\n",
       "[5 rows x 45 columns]"
      ]
     },
     "execution_count": 305,
     "metadata": {},
     "output_type": "execute_result"
    }
   ],
   "source": [
    "# Leer los datos de los hogares\n",
    "valores_missing = ['', ' ']\n",
    "hogares = pd.read_csv(\"/home/leonardo/Documentos/Acatlan/enigh/conjunto_de_datos_hogares_enigh_2018_ns.csv\", \\\n",
    "                    index_col= [0,1], \\\n",
    "                    usecols= [0, 1, 22, 23, 24, 25, 26, 27, 28, 29, 30, 31, 32, 33, 35, 36, 37, 38, 39, \\\n",
    "                              41, 43, 45, 47, 49, 51, 53, 55, 57, 59, 61, 63, 65, 67, 69, 71, 73, 75, \\\n",
    "                              77, 79, 81, 83, 85, 87, 89, 91, 93, 95], \\\n",
    "                      na_values = valores_missing)\n",
    "hogares.head()"
   ]
  },
  {
   "cell_type": "code",
   "execution_count": null,
   "metadata": {
    "id": "6TarF-7CfZIZ",
    "outputId": "6916b059-2cb5-4152-813b-3a89a9f935c7"
   },
   "outputs": [
    {
     "data": {
      "text/plain": [
       "(74647, 45)"
      ]
     },
     "execution_count": 306,
     "metadata": {},
     "output_type": "execute_result"
    }
   ],
   "source": [
    "hogares.shape"
   ]
  },
  {
   "cell_type": "markdown",
   "metadata": {
    "id": "lxSeGlKsfZIZ"
   },
   "source": [
    "La librería que usaremos para obtener las reglas de asociación requiere un Data Frame con variables Booleanas por tal motivo las transformaremos "
   ]
  },
  {
   "cell_type": "markdown",
   "metadata": {
    "id": "VOYIY3PMfZIZ"
   },
   "source": [
    "**Nota.** Recordar que en reglas de asociación, nos interesa que la 'canasta' contenga el item y no el número de items"
   ]
  },
  {
   "cell_type": "code",
   "execution_count": null,
   "metadata": {
    "id": "tzwjg5azfZIa"
   },
   "outputs": [],
   "source": [
    "# Transformar a valores Booleanos\n",
    "hogares_bool = hogares > 0"
   ]
  },
  {
   "cell_type": "markdown",
   "metadata": {
    "id": "7AwZFYTRfZIa"
   },
   "source": [
    "Unir el valor de gasto por hogar a la tabla de hogares"
   ]
  },
  {
   "cell_type": "code",
   "execution_count": null,
   "metadata": {
    "id": "NuD80EJSfZIa"
   },
   "outputs": [],
   "source": [
    "#help(pd.merge)"
   ]
  },
  {
   "cell_type": "code",
   "execution_count": null,
   "metadata": {
    "id": "BXluqJ5OfZIa",
    "outputId": "ebbb2af5-5008-48fc-c143-f64ce43bb260"
   },
   "outputs": [
    {
     "data": {
      "text/plain": [
       "(74647, 46)"
      ]
     },
     "execution_count": 309,
     "metadata": {},
     "output_type": "execute_result"
    }
   ],
   "source": [
    "#union = hogares.merge(gasto_x_hogar, how='left', left_on= ['folioviv','foliohog'], right_on=['folioviv','foliohog'])\n",
    "union = hogares_bool.merge(gasto_x_hogar, how='left', left_index=True, right_index=True)\n",
    "union.shape"
   ]
  },
  {
   "cell_type": "code",
   "execution_count": null,
   "metadata": {
    "id": "TmCdTR5mfZIb",
    "outputId": "c37ca3b4-df79-4d77-c0be-6fe65ea8ec83"
   },
   "outputs": [
    {
     "data": {
      "text/html": [
       "<div>\n",
       "<style scoped>\n",
       "    .dataframe tbody tr th:only-of-type {\n",
       "        vertical-align: middle;\n",
       "    }\n",
       "\n",
       "    .dataframe tbody tr th {\n",
       "        vertical-align: top;\n",
       "    }\n",
       "\n",
       "    .dataframe thead th {\n",
       "        text-align: right;\n",
       "    }\n",
       "</style>\n",
       "<table border=\"1\" class=\"dataframe\">\n",
       "  <thead>\n",
       "    <tr style=\"text-align: right;\">\n",
       "      <th></th>\n",
       "      <th></th>\n",
       "      <th>alim17_1</th>\n",
       "      <th>alim17_2</th>\n",
       "      <th>alim17_3</th>\n",
       "      <th>alim17_4</th>\n",
       "      <th>alim17_5</th>\n",
       "      <th>alim17_6</th>\n",
       "      <th>alim17_7</th>\n",
       "      <th>alim17_8</th>\n",
       "      <th>alim17_9</th>\n",
       "      <th>alim17_10</th>\n",
       "      <th>...</th>\n",
       "      <th>num_estuf</th>\n",
       "      <th>num_lavad</th>\n",
       "      <th>num_planc</th>\n",
       "      <th>num_maqui</th>\n",
       "      <th>num_venti</th>\n",
       "      <th>num_aspir</th>\n",
       "      <th>num_compu</th>\n",
       "      <th>num_impre</th>\n",
       "      <th>num_juego</th>\n",
       "      <th>ingreso_alto</th>\n",
       "    </tr>\n",
       "    <tr>\n",
       "      <th>folioviv</th>\n",
       "      <th>foliohog</th>\n",
       "      <th></th>\n",
       "      <th></th>\n",
       "      <th></th>\n",
       "      <th></th>\n",
       "      <th></th>\n",
       "      <th></th>\n",
       "      <th></th>\n",
       "      <th></th>\n",
       "      <th></th>\n",
       "      <th></th>\n",
       "      <th></th>\n",
       "      <th></th>\n",
       "      <th></th>\n",
       "      <th></th>\n",
       "      <th></th>\n",
       "      <th></th>\n",
       "      <th></th>\n",
       "      <th></th>\n",
       "      <th></th>\n",
       "      <th></th>\n",
       "      <th></th>\n",
       "    </tr>\n",
       "  </thead>\n",
       "  <tbody>\n",
       "    <tr>\n",
       "      <th>100013601</th>\n",
       "      <th>1</th>\n",
       "      <td>True</td>\n",
       "      <td>True</td>\n",
       "      <td>True</td>\n",
       "      <td>True</td>\n",
       "      <td>True</td>\n",
       "      <td>True</td>\n",
       "      <td>True</td>\n",
       "      <td>True</td>\n",
       "      <td>True</td>\n",
       "      <td>True</td>\n",
       "      <td>...</td>\n",
       "      <td>True</td>\n",
       "      <td>True</td>\n",
       "      <td>True</td>\n",
       "      <td>True</td>\n",
       "      <td>True</td>\n",
       "      <td>True</td>\n",
       "      <td>True</td>\n",
       "      <td>False</td>\n",
       "      <td>False</td>\n",
       "      <td>False</td>\n",
       "    </tr>\n",
       "    <tr>\n",
       "      <th>100013602</th>\n",
       "      <th>1</th>\n",
       "      <td>True</td>\n",
       "      <td>True</td>\n",
       "      <td>True</td>\n",
       "      <td>True</td>\n",
       "      <td>True</td>\n",
       "      <td>True</td>\n",
       "      <td>False</td>\n",
       "      <td>True</td>\n",
       "      <td>True</td>\n",
       "      <td>True</td>\n",
       "      <td>...</td>\n",
       "      <td>True</td>\n",
       "      <td>True</td>\n",
       "      <td>True</td>\n",
       "      <td>True</td>\n",
       "      <td>True</td>\n",
       "      <td>True</td>\n",
       "      <td>True</td>\n",
       "      <td>True</td>\n",
       "      <td>True</td>\n",
       "      <td>False</td>\n",
       "    </tr>\n",
       "    <tr>\n",
       "      <th>100013603</th>\n",
       "      <th>1</th>\n",
       "      <td>True</td>\n",
       "      <td>True</td>\n",
       "      <td>True</td>\n",
       "      <td>True</td>\n",
       "      <td>True</td>\n",
       "      <td>True</td>\n",
       "      <td>True</td>\n",
       "      <td>True</td>\n",
       "      <td>True</td>\n",
       "      <td>True</td>\n",
       "      <td>...</td>\n",
       "      <td>True</td>\n",
       "      <td>True</td>\n",
       "      <td>True</td>\n",
       "      <td>False</td>\n",
       "      <td>True</td>\n",
       "      <td>False</td>\n",
       "      <td>True</td>\n",
       "      <td>False</td>\n",
       "      <td>False</td>\n",
       "      <td>False</td>\n",
       "    </tr>\n",
       "    <tr>\n",
       "      <th>100013604</th>\n",
       "      <th>1</th>\n",
       "      <td>True</td>\n",
       "      <td>True</td>\n",
       "      <td>True</td>\n",
       "      <td>True</td>\n",
       "      <td>True</td>\n",
       "      <td>True</td>\n",
       "      <td>True</td>\n",
       "      <td>True</td>\n",
       "      <td>True</td>\n",
       "      <td>True</td>\n",
       "      <td>...</td>\n",
       "      <td>True</td>\n",
       "      <td>True</td>\n",
       "      <td>True</td>\n",
       "      <td>True</td>\n",
       "      <td>True</td>\n",
       "      <td>False</td>\n",
       "      <td>False</td>\n",
       "      <td>False</td>\n",
       "      <td>False</td>\n",
       "      <td>False</td>\n",
       "    </tr>\n",
       "    <tr>\n",
       "      <th>100013606</th>\n",
       "      <th>1</th>\n",
       "      <td>True</td>\n",
       "      <td>True</td>\n",
       "      <td>True</td>\n",
       "      <td>True</td>\n",
       "      <td>True</td>\n",
       "      <td>True</td>\n",
       "      <td>False</td>\n",
       "      <td>True</td>\n",
       "      <td>True</td>\n",
       "      <td>True</td>\n",
       "      <td>...</td>\n",
       "      <td>True</td>\n",
       "      <td>True</td>\n",
       "      <td>True</td>\n",
       "      <td>False</td>\n",
       "      <td>False</td>\n",
       "      <td>False</td>\n",
       "      <td>False</td>\n",
       "      <td>False</td>\n",
       "      <td>False</td>\n",
       "      <td>False</td>\n",
       "    </tr>\n",
       "  </tbody>\n",
       "</table>\n",
       "<p>5 rows × 46 columns</p>\n",
       "</div>"
      ],
      "text/plain": [
       "                    alim17_1  alim17_2  alim17_3  alim17_4  alim17_5  \\\n",
       "folioviv  foliohog                                                     \n",
       "100013601 1             True      True      True      True      True   \n",
       "100013602 1             True      True      True      True      True   \n",
       "100013603 1             True      True      True      True      True   \n",
       "100013604 1             True      True      True      True      True   \n",
       "100013606 1             True      True      True      True      True   \n",
       "\n",
       "                    alim17_6  alim17_7  alim17_8  alim17_9  alim17_10  ...  \\\n",
       "folioviv  foliohog                                                     ...   \n",
       "100013601 1             True      True      True      True       True  ...   \n",
       "100013602 1             True     False      True      True       True  ...   \n",
       "100013603 1             True      True      True      True       True  ...   \n",
       "100013604 1             True      True      True      True       True  ...   \n",
       "100013606 1             True     False      True      True       True  ...   \n",
       "\n",
       "                    num_estuf  num_lavad  num_planc  num_maqui  num_venti  \\\n",
       "folioviv  foliohog                                                          \n",
       "100013601 1              True       True       True       True       True   \n",
       "100013602 1              True       True       True       True       True   \n",
       "100013603 1              True       True       True      False       True   \n",
       "100013604 1              True       True       True       True       True   \n",
       "100013606 1              True       True       True      False      False   \n",
       "\n",
       "                    num_aspir  num_compu  num_impre  num_juego  ingreso_alto  \n",
       "folioviv  foliohog                                                            \n",
       "100013601 1              True       True      False      False         False  \n",
       "100013602 1              True       True       True       True         False  \n",
       "100013603 1             False       True      False      False         False  \n",
       "100013604 1             False      False      False      False         False  \n",
       "100013606 1             False      False      False      False         False  \n",
       "\n",
       "[5 rows x 46 columns]"
      ]
     },
     "execution_count": 310,
     "metadata": {},
     "output_type": "execute_result"
    }
   ],
   "source": [
    "union.head()"
   ]
  },
  {
   "cell_type": "code",
   "execution_count": null,
   "metadata": {
    "id": "j7FuFBMcfZIb",
    "outputId": "b9ef82d6-b2df-4b1b-dda3-a1c4deef67c0"
   },
   "outputs": [
    {
     "data": {
      "text/plain": [
       "30397"
      ]
     },
     "execution_count": 311,
     "metadata": {},
     "output_type": "execute_result"
    }
   ],
   "source": [
    "# Checar la cantidad de missings para la variable gasto\n",
    "union.ingreso_alto.isnull().sum()"
   ]
  },
  {
   "cell_type": "code",
   "execution_count": null,
   "metadata": {
    "id": "BL1iiI2GfZIc",
    "outputId": "fce29c50-d0c5-4416-bd4f-271729a5516e"
   },
   "outputs": [
    {
     "name": "stderr",
     "output_type": "stream",
     "text": [
      "/home/leonardo/anaconda3/lib/python3.7/site-packages/ipykernel_launcher.py:3: SettingWithCopyWarning: \n",
      "A value is trying to be set on a copy of a slice from a DataFrame.\n",
      "Try using .loc[row_indexer,col_indexer] = value instead\n",
      "\n",
      "See the caveats in the documentation: http://pandas.pydata.org/pandas-docs/stable/user_guide/indexing.html#returning-a-view-versus-a-copy\n",
      "  This is separate from the ipykernel package so we can avoid doing imports until\n"
     ]
    },
    {
     "data": {
      "text/plain": [
       "(44250, 46)"
      ]
     },
     "execution_count": 312,
     "metadata": {},
     "output_type": "execute_result"
    }
   ],
   "source": [
    "# filtrar donde no haya missings\n",
    "datos = union[union.ingreso_alto.notnull()]\n",
    "datos[\"ingreso_alto\"] = datos[\"ingreso_alto\"].astype(bool)\n",
    "datos.shape"
   ]
  },
  {
   "cell_type": "code",
   "execution_count": null,
   "metadata": {
    "id": "jbjUd3awfZId",
    "outputId": "6c8459e0-e770-4281-c8f5-4f428955bfc4"
   },
   "outputs": [
    {
     "data": {
      "text/html": [
       "<div>\n",
       "<style scoped>\n",
       "    .dataframe tbody tr th:only-of-type {\n",
       "        vertical-align: middle;\n",
       "    }\n",
       "\n",
       "    .dataframe tbody tr th {\n",
       "        vertical-align: top;\n",
       "    }\n",
       "\n",
       "    .dataframe thead th {\n",
       "        text-align: right;\n",
       "    }\n",
       "</style>\n",
       "<table border=\"1\" class=\"dataframe\">\n",
       "  <thead>\n",
       "    <tr style=\"text-align: right;\">\n",
       "      <th></th>\n",
       "      <th></th>\n",
       "      <th>alim17_1</th>\n",
       "      <th>alim17_2</th>\n",
       "      <th>alim17_3</th>\n",
       "      <th>alim17_4</th>\n",
       "      <th>alim17_5</th>\n",
       "      <th>alim17_6</th>\n",
       "      <th>alim17_7</th>\n",
       "      <th>alim17_8</th>\n",
       "      <th>alim17_9</th>\n",
       "      <th>alim17_10</th>\n",
       "      <th>...</th>\n",
       "      <th>num_estuf</th>\n",
       "      <th>num_lavad</th>\n",
       "      <th>num_planc</th>\n",
       "      <th>num_maqui</th>\n",
       "      <th>num_venti</th>\n",
       "      <th>num_aspir</th>\n",
       "      <th>num_compu</th>\n",
       "      <th>num_impre</th>\n",
       "      <th>num_juego</th>\n",
       "      <th>ingreso_alto</th>\n",
       "    </tr>\n",
       "    <tr>\n",
       "      <th>folioviv</th>\n",
       "      <th>foliohog</th>\n",
       "      <th></th>\n",
       "      <th></th>\n",
       "      <th></th>\n",
       "      <th></th>\n",
       "      <th></th>\n",
       "      <th></th>\n",
       "      <th></th>\n",
       "      <th></th>\n",
       "      <th></th>\n",
       "      <th></th>\n",
       "      <th></th>\n",
       "      <th></th>\n",
       "      <th></th>\n",
       "      <th></th>\n",
       "      <th></th>\n",
       "      <th></th>\n",
       "      <th></th>\n",
       "      <th></th>\n",
       "      <th></th>\n",
       "      <th></th>\n",
       "      <th></th>\n",
       "    </tr>\n",
       "  </thead>\n",
       "  <tbody>\n",
       "    <tr>\n",
       "      <th>100013601</th>\n",
       "      <th>1</th>\n",
       "      <td>True</td>\n",
       "      <td>True</td>\n",
       "      <td>True</td>\n",
       "      <td>True</td>\n",
       "      <td>True</td>\n",
       "      <td>True</td>\n",
       "      <td>True</td>\n",
       "      <td>True</td>\n",
       "      <td>True</td>\n",
       "      <td>True</td>\n",
       "      <td>...</td>\n",
       "      <td>True</td>\n",
       "      <td>True</td>\n",
       "      <td>True</td>\n",
       "      <td>True</td>\n",
       "      <td>True</td>\n",
       "      <td>True</td>\n",
       "      <td>True</td>\n",
       "      <td>False</td>\n",
       "      <td>False</td>\n",
       "      <td>False</td>\n",
       "    </tr>\n",
       "    <tr>\n",
       "      <th>100013602</th>\n",
       "      <th>1</th>\n",
       "      <td>True</td>\n",
       "      <td>True</td>\n",
       "      <td>True</td>\n",
       "      <td>True</td>\n",
       "      <td>True</td>\n",
       "      <td>True</td>\n",
       "      <td>False</td>\n",
       "      <td>True</td>\n",
       "      <td>True</td>\n",
       "      <td>True</td>\n",
       "      <td>...</td>\n",
       "      <td>True</td>\n",
       "      <td>True</td>\n",
       "      <td>True</td>\n",
       "      <td>True</td>\n",
       "      <td>True</td>\n",
       "      <td>True</td>\n",
       "      <td>True</td>\n",
       "      <td>True</td>\n",
       "      <td>True</td>\n",
       "      <td>False</td>\n",
       "    </tr>\n",
       "    <tr>\n",
       "      <th>100013603</th>\n",
       "      <th>1</th>\n",
       "      <td>True</td>\n",
       "      <td>True</td>\n",
       "      <td>True</td>\n",
       "      <td>True</td>\n",
       "      <td>True</td>\n",
       "      <td>True</td>\n",
       "      <td>True</td>\n",
       "      <td>True</td>\n",
       "      <td>True</td>\n",
       "      <td>True</td>\n",
       "      <td>...</td>\n",
       "      <td>True</td>\n",
       "      <td>True</td>\n",
       "      <td>True</td>\n",
       "      <td>False</td>\n",
       "      <td>True</td>\n",
       "      <td>False</td>\n",
       "      <td>True</td>\n",
       "      <td>False</td>\n",
       "      <td>False</td>\n",
       "      <td>False</td>\n",
       "    </tr>\n",
       "    <tr>\n",
       "      <th>100013604</th>\n",
       "      <th>1</th>\n",
       "      <td>True</td>\n",
       "      <td>True</td>\n",
       "      <td>True</td>\n",
       "      <td>True</td>\n",
       "      <td>True</td>\n",
       "      <td>True</td>\n",
       "      <td>True</td>\n",
       "      <td>True</td>\n",
       "      <td>True</td>\n",
       "      <td>True</td>\n",
       "      <td>...</td>\n",
       "      <td>True</td>\n",
       "      <td>True</td>\n",
       "      <td>True</td>\n",
       "      <td>True</td>\n",
       "      <td>True</td>\n",
       "      <td>False</td>\n",
       "      <td>False</td>\n",
       "      <td>False</td>\n",
       "      <td>False</td>\n",
       "      <td>False</td>\n",
       "    </tr>\n",
       "    <tr>\n",
       "      <th>100013606</th>\n",
       "      <th>1</th>\n",
       "      <td>True</td>\n",
       "      <td>True</td>\n",
       "      <td>True</td>\n",
       "      <td>True</td>\n",
       "      <td>True</td>\n",
       "      <td>True</td>\n",
       "      <td>False</td>\n",
       "      <td>True</td>\n",
       "      <td>True</td>\n",
       "      <td>True</td>\n",
       "      <td>...</td>\n",
       "      <td>True</td>\n",
       "      <td>True</td>\n",
       "      <td>True</td>\n",
       "      <td>False</td>\n",
       "      <td>False</td>\n",
       "      <td>False</td>\n",
       "      <td>False</td>\n",
       "      <td>False</td>\n",
       "      <td>False</td>\n",
       "      <td>False</td>\n",
       "    </tr>\n",
       "  </tbody>\n",
       "</table>\n",
       "<p>5 rows × 46 columns</p>\n",
       "</div>"
      ],
      "text/plain": [
       "                    alim17_1  alim17_2  alim17_3  alim17_4  alim17_5  \\\n",
       "folioviv  foliohog                                                     \n",
       "100013601 1             True      True      True      True      True   \n",
       "100013602 1             True      True      True      True      True   \n",
       "100013603 1             True      True      True      True      True   \n",
       "100013604 1             True      True      True      True      True   \n",
       "100013606 1             True      True      True      True      True   \n",
       "\n",
       "                    alim17_6  alim17_7  alim17_8  alim17_9  alim17_10  ...  \\\n",
       "folioviv  foliohog                                                     ...   \n",
       "100013601 1             True      True      True      True       True  ...   \n",
       "100013602 1             True     False      True      True       True  ...   \n",
       "100013603 1             True      True      True      True       True  ...   \n",
       "100013604 1             True      True      True      True       True  ...   \n",
       "100013606 1             True     False      True      True       True  ...   \n",
       "\n",
       "                    num_estuf  num_lavad  num_planc  num_maqui  num_venti  \\\n",
       "folioviv  foliohog                                                          \n",
       "100013601 1              True       True       True       True       True   \n",
       "100013602 1              True       True       True       True       True   \n",
       "100013603 1              True       True       True      False       True   \n",
       "100013604 1              True       True       True       True       True   \n",
       "100013606 1              True       True       True      False      False   \n",
       "\n",
       "                    num_aspir  num_compu  num_impre  num_juego  ingreso_alto  \n",
       "folioviv  foliohog                                                            \n",
       "100013601 1              True       True      False      False         False  \n",
       "100013602 1              True       True       True       True         False  \n",
       "100013603 1             False       True      False      False         False  \n",
       "100013604 1             False      False      False      False         False  \n",
       "100013606 1             False      False      False      False         False  \n",
       "\n",
       "[5 rows x 46 columns]"
      ]
     },
     "execution_count": 313,
     "metadata": {},
     "output_type": "execute_result"
    }
   ],
   "source": [
    "datos.head()"
   ]
  },
  {
   "cell_type": "code",
   "execution_count": null,
   "metadata": {
    "id": "BAv2h2HnfZId",
    "outputId": "25bb52f7-53d9-479c-ce68-448830f40b0c"
   },
   "outputs": [
    {
     "data": {
      "text/plain": [
       "1605"
      ]
     },
     "execution_count": 314,
     "metadata": {},
     "output_type": "execute_result"
    }
   ],
   "source": [
    "# Revisar cuantos registros tienen ingreso alto\n",
    "datos.ingreso_alto.sum()"
   ]
  },
  {
   "cell_type": "markdown",
   "metadata": {
    "id": "G6tEKKELfZId"
   },
   "source": [
    "Para comenzar a hacer pruebas pueden trabajar con una muestra de los datos."
   ]
  },
  {
   "cell_type": "code",
   "execution_count": null,
   "metadata": {
    "id": "G2OkDVVYfZIe"
   },
   "outputs": [],
   "source": [
    "# help(pd.DataFrame.sample)"
   ]
  },
  {
   "cell_type": "code",
   "execution_count": null,
   "metadata": {
    "id": "9dWEXXARfZIe"
   },
   "outputs": [],
   "source": [
    "datos_muestra = datos.sample(n=10000, random_state = 202011)"
   ]
  },
  {
   "cell_type": "markdown",
   "metadata": {
    "id": "W8c7z4YkfZIe"
   },
   "source": [
    "**Ejercicio 1**"
   ]
  },
  {
   "cell_type": "markdown",
   "metadata": {
    "id": "0R2xUH_0fZIe"
   },
   "source": [
    "Experimentar con diferentes niveles de soporte, confianza y lift para encotrar reglas de asociación que les hagan sentido considerando la variable ingreso_alto como **consecuente**"
   ]
  },
  {
   "cell_type": "code",
   "execution_count": null,
   "metadata": {
    "id": "tYjI43-pfZIf"
   },
   "outputs": [],
   "source": [
    "#!pip install mlxtend "
   ]
  },
  {
   "cell_type": "code",
   "execution_count": null,
   "metadata": {
    "id": "o6eKQ2WwfZIf"
   },
   "outputs": [],
   "source": [
    "# Importat las funciones a utilizar\n",
    "from mlxtend.frequent_patterns import apriori, association_rules"
   ]
  },
  {
   "cell_type": "markdown",
   "metadata": {
    "id": "70K1mw0EfZIf"
   },
   "source": [
    "Experimentar con distintos niveles de soporte y el máximo número elementos en los itemsets.\n",
    "\n",
    "Nota. Para saber el soporte de cada variable individual se puede ejecutar datos.mean()"
   ]
  },
  {
   "cell_type": "markdown",
   "metadata": {
    "id": "s-1EjrgWfZIf"
   },
   "source": [
    "La opción de low_memory nos permite ejecutar el algoritmo para datos 'grandes' cuando nuestros recursos de memoria son limitados pero toma más tiempo ejecutarse"
   ]
  },
  {
   "cell_type": "code",
   "execution_count": null,
   "metadata": {
    "id": "Dkyve_PjfZIf"
   },
   "outputs": [],
   "source": [
    "#help(apriori)"
   ]
  },
  {
   "cell_type": "code",
   "execution_count": null,
   "metadata": {
    "id": "IxqZVZk4fZIg"
   },
   "outputs": [],
   "source": [
    "# Usar el algoritmo Apriori para obtener itemsets frecuentes\n",
    "frequent_itemsets = apriori(datos, \n",
    "                            min_support = 0.01, \n",
    "                            max_len = 4, \n",
    "                            use_colnames = True,\n",
    "                            low_memory = True) "
   ]
  },
  {
   "cell_type": "code",
   "execution_count": null,
   "metadata": {
    "id": "a5TM2flXfZIg",
    "outputId": "43d327a2-a5bb-4fb5-c03e-a866095c52b3"
   },
   "outputs": [
    {
     "name": "stdout",
     "output_type": "stream",
     "text": [
      "(99366, 2)\n",
      "    support    itemsets\n",
      "0  0.995458  (alim17_1)\n",
      "1  0.836565  (alim17_2)\n",
      "2  0.943119  (alim17_3)\n",
      "3  0.895706  (alim17_4)\n",
      "4  0.925605  (alim17_5)\n"
     ]
    }
   ],
   "source": [
    "print(frequent_itemsets.shape)\n",
    "print(frequent_itemsets.head())"
   ]
  },
  {
   "cell_type": "markdown",
   "metadata": {
    "id": "S2DFp36HfZIg"
   },
   "source": [
    "Experimentar con distintos valores (pueden variar la métrica si lo consideran adecuado)"
   ]
  },
  {
   "cell_type": "code",
   "execution_count": null,
   "metadata": {
    "id": "AVqDf_e6fZIh"
   },
   "outputs": [],
   "source": [
    "# Generar reglas de asociación con un nivel mínimo de confianza\n",
    "rules = association_rules(frequent_itemsets, metric = 'support', min_threshold = 0.01)"
   ]
  },
  {
   "cell_type": "code",
   "execution_count": null,
   "metadata": {
    "id": "xAv9HlqWfZIh",
    "outputId": "2f13266c-08c0-4fc0-a1b6-dd7a6e86c89e"
   },
   "outputs": [
    {
     "name": "stdout",
     "output_type": "stream",
     "text": [
      "(1297244, 9)\n",
      "  antecedents consequents  antecedent support  consequent support   support  \\\n",
      "0  (alim17_1)  (alim17_2)            0.995458            0.836565  0.835096   \n",
      "1  (alim17_2)  (alim17_1)            0.836565            0.995458  0.835096   \n",
      "2  (alim17_1)  (alim17_3)            0.995458            0.943119  0.940972   \n",
      "3  (alim17_3)  (alim17_1)            0.943119            0.995458  0.940972   \n",
      "4  (alim17_4)  (alim17_1)            0.895706            0.995458  0.893401   \n",
      "\n",
      "   confidence      lift  leverage  conviction  \n",
      "0    0.838907  1.002799  0.002331    1.014536  \n",
      "1    0.998244  1.002799  0.002331    2.586916  \n",
      "2    0.945265  1.002276  0.002137    1.039223  \n",
      "3    0.997724  1.002276  0.002137    1.995440  \n",
      "4    0.997427  1.001978  0.001764    1.765068  \n"
     ]
    }
   ],
   "source": [
    "print(rules.shape)\n",
    "print(rules.head())"
   ]
  },
  {
   "cell_type": "markdown",
   "metadata": {
    "id": "r2AmIvD0fZIi"
   },
   "source": [
    "Notar que el número de reglas puede ser mucho mayor que el número de itemsets frecuentes"
   ]
  },
  {
   "cell_type": "markdown",
   "metadata": {
    "id": "kZ1hj9TnfZIi"
   },
   "source": [
    "Filtrar las reglas donde el consecuente es la variable ingreso alto"
   ]
  },
  {
   "cell_type": "code",
   "execution_count": null,
   "metadata": {
    "id": "kYYl51aJfZIi",
    "outputId": "3e1ab64d-1f59-4849-cb2d-8816a6314f72"
   },
   "outputs": [
    {
     "data": {
      "text/html": [
       "<div>\n",
       "<style scoped>\n",
       "    .dataframe tbody tr th:only-of-type {\n",
       "        vertical-align: middle;\n",
       "    }\n",
       "\n",
       "    .dataframe tbody tr th {\n",
       "        vertical-align: top;\n",
       "    }\n",
       "\n",
       "    .dataframe thead th {\n",
       "        text-align: right;\n",
       "    }\n",
       "</style>\n",
       "<table border=\"1\" class=\"dataframe\">\n",
       "  <thead>\n",
       "    <tr style=\"text-align: right;\">\n",
       "      <th></th>\n",
       "      <th>antecedents</th>\n",
       "      <th>consequents</th>\n",
       "      <th>antecedent support</th>\n",
       "      <th>consequent support</th>\n",
       "      <th>support</th>\n",
       "      <th>confidence</th>\n",
       "      <th>lift</th>\n",
       "      <th>leverage</th>\n",
       "      <th>conviction</th>\n",
       "    </tr>\n",
       "  </thead>\n",
       "  <tbody>\n",
       "    <tr>\n",
       "      <th>80</th>\n",
       "      <td>(alim17_1)</td>\n",
       "      <td>(ingreso_alto)</td>\n",
       "      <td>0.995458</td>\n",
       "      <td>0.036271</td>\n",
       "      <td>0.035977</td>\n",
       "      <td>0.036142</td>\n",
       "      <td>0.996426</td>\n",
       "      <td>-0.000129</td>\n",
       "      <td>0.999866</td>\n",
       "    </tr>\n",
       "    <tr>\n",
       "      <th>160</th>\n",
       "      <td>(alim17_2)</td>\n",
       "      <td>(ingreso_alto)</td>\n",
       "      <td>0.836565</td>\n",
       "      <td>0.036271</td>\n",
       "      <td>0.031345</td>\n",
       "      <td>0.037468</td>\n",
       "      <td>1.033003</td>\n",
       "      <td>0.001001</td>\n",
       "      <td>1.001244</td>\n",
       "    </tr>\n",
       "    <tr>\n",
       "      <th>238</th>\n",
       "      <td>(alim17_3)</td>\n",
       "      <td>(ingreso_alto)</td>\n",
       "      <td>0.943119</td>\n",
       "      <td>0.036271</td>\n",
       "      <td>0.035684</td>\n",
       "      <td>0.037836</td>\n",
       "      <td>1.043136</td>\n",
       "      <td>0.001476</td>\n",
       "      <td>1.001626</td>\n",
       "    </tr>\n",
       "    <tr>\n",
       "      <th>314</th>\n",
       "      <td>(alim17_4)</td>\n",
       "      <td>(ingreso_alto)</td>\n",
       "      <td>0.895706</td>\n",
       "      <td>0.036271</td>\n",
       "      <td>0.035051</td>\n",
       "      <td>0.039132</td>\n",
       "      <td>1.078875</td>\n",
       "      <td>0.002563</td>\n",
       "      <td>1.002977</td>\n",
       "    </tr>\n",
       "    <tr>\n",
       "      <th>388</th>\n",
       "      <td>(alim17_5)</td>\n",
       "      <td>(ingreso_alto)</td>\n",
       "      <td>0.925605</td>\n",
       "      <td>0.036271</td>\n",
       "      <td>0.035548</td>\n",
       "      <td>0.038405</td>\n",
       "      <td>1.058835</td>\n",
       "      <td>0.001975</td>\n",
       "      <td>1.002219</td>\n",
       "    </tr>\n",
       "  </tbody>\n",
       "</table>\n",
       "</div>"
      ],
      "text/plain": [
       "    antecedents     consequents  antecedent support  consequent support  \\\n",
       "80   (alim17_1)  (ingreso_alto)            0.995458            0.036271   \n",
       "160  (alim17_2)  (ingreso_alto)            0.836565            0.036271   \n",
       "238  (alim17_3)  (ingreso_alto)            0.943119            0.036271   \n",
       "314  (alim17_4)  (ingreso_alto)            0.895706            0.036271   \n",
       "388  (alim17_5)  (ingreso_alto)            0.925605            0.036271   \n",
       "\n",
       "      support  confidence      lift  leverage  conviction  \n",
       "80   0.035977    0.036142  0.996426 -0.000129    0.999866  \n",
       "160  0.031345    0.037468  1.033003  0.001001    1.001244  \n",
       "238  0.035684    0.037836  1.043136  0.001476    1.001626  \n",
       "314  0.035051    0.039132  1.078875  0.002563    1.002977  \n",
       "388  0.035548    0.038405  1.058835  0.001975    1.002219  "
      ]
     },
     "execution_count": 324,
     "metadata": {},
     "output_type": "execute_result"
    }
   ],
   "source": [
    "rules_income_consecuent = rules[rules['consequents'] == {'ingreso_alto'}]\n",
    "rules_income_consecuent.head()"
   ]
  },
  {
   "cell_type": "code",
   "execution_count": null,
   "metadata": {
    "id": "ZnGv-nv2fZIj",
    "outputId": "54bcdad5-ad48-4b53-eb64-6b5cd618179c"
   },
   "outputs": [
    {
     "data": {
      "text/plain": [
       "(4854, 9)"
      ]
     },
     "execution_count": 325,
     "metadata": {},
     "output_type": "execute_result"
    }
   ],
   "source": [
    "rules_income_consecuent.shape"
   ]
  },
  {
   "cell_type": "markdown",
   "metadata": {
    "id": "roEAqYOjfZIj"
   },
   "source": [
    "Notar que el número de reglas puede ser mucho mayor que el número de itemsets frecuentes"
   ]
  },
  {
   "cell_type": "markdown",
   "metadata": {
    "id": "aZLWaFUFfZIj"
   },
   "source": [
    "La siguiente gráfica puede servir para identificar puntos de corte para filtrar reglas. "
   ]
  },
  {
   "cell_type": "code",
   "execution_count": null,
   "metadata": {
    "id": "j4loqO2mfZIj"
   },
   "outputs": [],
   "source": [
    "# Librerías para graficar\n",
    "import matplotlib.pyplot as plt\n",
    "import seaborn as sns"
   ]
  },
  {
   "cell_type": "code",
   "execution_count": null,
   "metadata": {
    "id": "_tUtWjqvfZIk",
    "outputId": "0342d37d-b739-41fe-875c-d484df3db793"
   },
   "outputs": [
    {
     "data": {
      "image/png": "[encoded data removed]",
      "text/plain": [
       "<Figure size 720x720 with 1 Axes>"
      ]
     },
     "metadata": {
      "needs_background": "light"
     },
     "output_type": "display_data"
    }
   ],
   "source": [
    "plt.figure(figsize=(10,10))\n",
    "sns.scatterplot(x = \"support\", y = \"confidence\", size = \"lift\", data = rules_income_consecuent)\n",
    "\n",
    "plt.show()"
   ]
  },
  {
   "cell_type": "markdown",
   "metadata": {
    "collapsed": true,
    "id": "fz8AqZGZfZIk"
   },
   "source": [
    "Experimentar con distintos niveles de de soporte, confianza y lift"
   ]
  },
  {
   "cell_type": "code",
   "execution_count": null,
   "metadata": {
    "id": "HJ4Ctt4TfZIk"
   },
   "outputs": [],
   "source": [
    "filtered_rules = rules_income_consecuent[(rules_income_consecuent['support'] > 0.00) &\n",
    "                (rules_income_consecuent['confidence'] > 0.10) &\n",
    "                (rules_income_consecuent['lift'] >= 2)]"
   ]
  },
  {
   "cell_type": "code",
   "execution_count": null,
   "metadata": {
    "id": "bSIjIXXefZIk",
    "outputId": "6e7274da-3525-4ef7-b1af-e16ec53cab8f"
   },
   "outputs": [
    {
     "name": "stdout",
     "output_type": "stream",
     "text": [
      "(1168, 9)\n"
     ]
    }
   ],
   "source": [
    "print(filtered_rules.shape)"
   ]
  },
  {
   "cell_type": "code",
   "execution_count": null,
   "metadata": {
    "id": "lsqUEzzXfZIl",
    "outputId": "c570660b-31f9-4c9b-c35d-f8440d69c88e"
   },
   "outputs": [
    {
     "name": "stdout",
     "output_type": "stream",
     "text": [
      "                               antecedents     consequents  \\\n",
      "1673                           (num_aspir)  (ingreso_alto)   \n",
      "1682                           (num_impre)  (ingreso_alto)   \n",
      "1684                           (num_juego)  (ingreso_alto)   \n",
      "6457                 (alim17_1, num_aspir)  (ingreso_alto)   \n",
      "6486                 (num_impre, alim17_1)  (ingreso_alto)   \n",
      "...                                    ...             ...   \n",
      "1296796  (num_impre, num_compu, num_lavad)  (ingreso_alto)   \n",
      "1296992  (num_planc, num_venti, num_compu)  (ingreso_alto)   \n",
      "1297020  (num_planc, num_impre, num_venti)  (ingreso_alto)   \n",
      "1297090  (num_planc, num_impre, num_compu)  (ingreso_alto)   \n",
      "1297216  (num_impre, num_venti, num_compu)  (ingreso_alto)   \n",
      "\n",
      "         antecedent support  consequent support   support  confidence  \\\n",
      "1673               0.067186            0.036271  0.010282    0.153044   \n",
      "1682               0.102282            0.036271  0.013379    0.130800   \n",
      "1684               0.098079            0.036271  0.010531    0.107373   \n",
      "6457               0.066825            0.036271  0.010215    0.152858   \n",
      "6486               0.101740            0.036271  0.013311    0.130831   \n",
      "...                     ...                 ...       ...         ...   \n",
      "1296796            0.092226            0.036271  0.012384    0.134281   \n",
      "1296992            0.152045            0.036271  0.016814    0.110583   \n",
      "1297020            0.069017            0.036271  0.010124    0.146693   \n",
      "1297090            0.092678            0.036271  0.012429    0.134114   \n",
      "1297216            0.069763            0.036271  0.010260    0.147068   \n",
      "\n",
      "             lift  leverage  conviction  \n",
      "1673     4.219439  0.007846    1.137874  \n",
      "1682     3.606163  0.009669    1.108754  \n",
      "1684     2.960291  0.006974    1.079655  \n",
      "6457     4.214299  0.007791    1.137623  \n",
      "6486     3.607016  0.009620    1.108793  \n",
      "...           ...       ...         ...  \n",
      "1296796  3.702135  0.009039    1.113212  \n",
      "1296992  3.048774  0.011299    1.083551  \n",
      "1297020  4.044336  0.007621    1.129404  \n",
      "1297090  3.697525  0.009068    1.112997  \n",
      "1297216  4.054688  0.007730    1.129902  \n",
      "\n",
      "[1168 rows x 9 columns]\n"
     ]
    }
   ],
   "source": [
    "print(filtered_rules)"
   ]
  },
  {
   "cell_type": "markdown",
   "metadata": {
    "collapsed": true,
    "id": "WOyoTQB6fZIl"
   },
   "source": [
    "**Describir hallazgos**"
   ]
  },
  {
   "cell_type": "code",
   "execution_count": null,
   "metadata": {
    "id": "3mo5viVcfZIl"
   },
   "outputs": [],
   "source": [
    "## Redactar aquí"
   ]
  },
  {
   "cell_type": "code",
   "execution_count": null,
   "metadata": {
    "id": "TzW48qbxfZIl"
   },
   "outputs": [],
   "source": []
  },
  {
   "cell_type": "markdown",
   "metadata": {
    "collapsed": true,
    "id": "gnRHWLPkfZIl"
   },
   "source": [
    "**Ejercicio 2**"
   ]
  },
  {
   "cell_type": "markdown",
   "metadata": {
    "id": "0CkkN99KfZIm"
   },
   "source": [
    "La siguiente métrica propuesta por Zhang T. permite medir un grado de asociación entre el antecedente y el consecuente. Un par de propiedades para está métrica son:\n",
    "\n",
    "- Toma valores entre -1 y +1\n",
    "- Valores cercanos a +1 indican asociación positiva alta\n",
    "- Valores cercanos a -1 indican asociación negativa alta\n",
    "- Sólo se requiere utilizar el soporte para construirla"
   ]
  },
  {
   "cell_type": "markdown",
   "metadata": {
    "id": "huDlKdJXfZIm"
   },
   "source": [
    "**Calcular la métrica de Zhang a la tabla rules_income_consecuent**"
   ]
  },
  {
   "cell_type": "markdown",
   "metadata": {
    "id": "SOdcX48ffZIm"
   },
   "source": [
    "$$zhang(A \\to B) = \\frac{support(A \\cup B) - support(A)*support(B)}{max[support(A \\cup B)*(1 - support(A)),support(A)*(support(B) - support(A \\cup B))]}$$"
   ]
  },
  {
   "cell_type": "code",
   "execution_count": null,
   "metadata": {
    "id": "DYmZ0qlbfZIm"
   },
   "outputs": [],
   "source": [
    "#import numpy as np\n",
    "\n",
    "#def zhang(data):\n",
    "#    support_AB = data['support'].copy()\n",
    "#    support_A = data['antecedent support'].copy()\n",
    "#    support_B = data['consequent support'].copy()\n",
    "#    numerador = support_AB - support_A*support_B\n",
    "#    denominador = np.max((support_AB*(1-support_A).values,support_A*(support_B-support_AB).values), axis = 0)\n",
    "#    return numerador / denominador  \n"
   ]
  },
  {
   "cell_type": "code",
   "execution_count": null,
   "metadata": {
    "id": "0qvaMW_SfZIn"
   },
   "outputs": [],
   "source": [
    "support_AB = rules_income_consecuent['support'].copy()\n",
    "support_A = rules_income_consecuent['antecedent support'].copy()\n",
    "support_B = rules_income_consecuent['consequent support'].copy()\n",
    "    "
   ]
  },
  {
   "cell_type": "code",
   "execution_count": null,
   "metadata": {
    "id": "-6H8YA0lfZIn"
   },
   "outputs": [],
   "source": [
    "numerador = support_AB - support_A*support_B\n",
    "denominador = np.max((support_AB*(1-support_A).values,support_A*(support_B-support_AB).values), axis = 0)\n",
    "    "
   ]
  },
  {
   "cell_type": "code",
   "execution_count": null,
   "metadata": {
    "id": "DoHu06iefZIn"
   },
   "outputs": [],
   "source": [
    "zhang = numerador / denominador"
   ]
  },
  {
   "cell_type": "code",
   "execution_count": null,
   "metadata": {
    "id": "Wvyw4r1nfZIn",
    "outputId": "6780bec2-9dc7-4e50-a6b7-492c4f02a857"
   },
   "outputs": [
    {
     "data": {
      "text/plain": [
       "(4854,)"
      ]
     },
     "execution_count": 336,
     "metadata": {},
     "output_type": "execute_result"
    }
   ],
   "source": [
    "zhang.shape"
   ]
  },
  {
   "cell_type": "code",
   "execution_count": null,
   "metadata": {
    "id": "nNORhLg4fZIo",
    "outputId": "86fcc36d-1abf-41c9-d8aa-1da595ca61a5"
   },
   "outputs": [
    {
     "name": "stdout",
     "output_type": "stream",
     "text": [
      "-0.44119573132718515\n",
      "0.8332027413861551\n",
      "0.6533617301635309\n"
     ]
    }
   ],
   "source": [
    "print(zhang.min())\n",
    "print(zhang.max())\n",
    "print(zhang.mean())"
   ]
  },
  {
   "cell_type": "code",
   "execution_count": null,
   "metadata": {
    "id": "SV8zZYuvfZIo"
   },
   "outputs": [],
   "source": [
    "#zhang > 0.8"
   ]
  },
  {
   "cell_type": "code",
   "execution_count": null,
   "metadata": {
    "id": "nrr8qoSFfZIo"
   },
   "outputs": [],
   "source": [
    "#zhang < - 0.9"
   ]
  },
  {
   "cell_type": "code",
   "execution_count": null,
   "metadata": {
    "id": "Az7wExcRfZIo",
    "outputId": "e8335177-2e54-4647-9518-9ae0f0e94bd6"
   },
   "outputs": [
    {
     "data": {
      "text/plain": [
       "Int64Index([     80,     160,     238,     314,     388,     460,     530,\n",
       "                598,     664,     728,\n",
       "            ...\n",
       "            1296390, 1296474, 1296502, 1296698, 1296726, 1296796, 1296992,\n",
       "            1297020, 1297090, 1297216],\n",
       "           dtype='int64', length=4854)"
      ]
     },
     "execution_count": 340,
     "metadata": {},
     "output_type": "execute_result"
    }
   ],
   "source": [
    "zhang.index"
   ]
  },
  {
   "cell_type": "code",
   "execution_count": null,
   "metadata": {
    "id": "2jceWXnjfZIp",
    "outputId": "5f572b9e-efa2-45bf-f265-925e8b9a8823"
   },
   "outputs": [
    {
     "data": {
      "text/plain": [
       "Int64Index([     80,     160,     238,     314,     388,     460,     530,\n",
       "                598,     664,     728,\n",
       "            ...\n",
       "            1296390, 1296474, 1296502, 1296698, 1296726, 1296796, 1296992,\n",
       "            1297020, 1297090, 1297216],\n",
       "           dtype='int64', length=4854)"
      ]
     },
     "execution_count": 341,
     "metadata": {},
     "output_type": "execute_result"
    }
   ],
   "source": [
    "rules_income_consecuent.index"
   ]
  },
  {
   "cell_type": "markdown",
   "metadata": {
    "id": "uvay1EAcfZIp"
   },
   "source": [
    "**Utilizar la métrica de Zhang para encontrar asociaciones negativas altas y asociaciones positivas altas**"
   ]
  },
  {
   "cell_type": "code",
   "execution_count": null,
   "metadata": {
    "id": "t4E8n2n-fZIp",
    "outputId": "ed811973-55f7-47f1-cab0-0e53f80f7441"
   },
   "outputs": [
    {
     "name": "stderr",
     "output_type": "stream",
     "text": [
      "/home/leonardo/anaconda3/lib/python3.7/site-packages/ipykernel_launcher.py:1: SettingWithCopyWarning: \n",
      "A value is trying to be set on a copy of a slice from a DataFrame.\n",
      "Try using .loc[row_indexer,col_indexer] = value instead\n",
      "\n",
      "See the caveats in the documentation: http://pandas.pydata.org/pandas-docs/stable/user_guide/indexing.html#returning-a-view-versus-a-copy\n",
      "  \"\"\"Entry point for launching an IPython kernel.\n"
     ]
    }
   ],
   "source": [
    "rules_income_consecuent['zhangs_metric'] = zhang"
   ]
  },
  {
   "cell_type": "code",
   "execution_count": null,
   "metadata": {
    "id": "yWR7NNOZfZIp",
    "outputId": "12b82c3c-f6b6-4fae-bcc1-6fac6fd3d978"
   },
   "outputs": [
    {
     "data": {
      "text/html": [
       "<div>\n",
       "<style scoped>\n",
       "    .dataframe tbody tr th:only-of-type {\n",
       "        vertical-align: middle;\n",
       "    }\n",
       "\n",
       "    .dataframe tbody tr th {\n",
       "        vertical-align: top;\n",
       "    }\n",
       "\n",
       "    .dataframe thead th {\n",
       "        text-align: right;\n",
       "    }\n",
       "</style>\n",
       "<table border=\"1\" class=\"dataframe\">\n",
       "  <thead>\n",
       "    <tr style=\"text-align: right;\">\n",
       "      <th></th>\n",
       "      <th>antecedents</th>\n",
       "      <th>consequents</th>\n",
       "      <th>antecedent support</th>\n",
       "      <th>consequent support</th>\n",
       "      <th>support</th>\n",
       "      <th>confidence</th>\n",
       "      <th>lift</th>\n",
       "      <th>leverage</th>\n",
       "      <th>conviction</th>\n",
       "      <th>zhangs_metric</th>\n",
       "    </tr>\n",
       "  </thead>\n",
       "  <tbody>\n",
       "    <tr>\n",
       "      <th>1452</th>\n",
       "      <td>(num_tvd)</td>\n",
       "      <td>(ingreso_alto)</td>\n",
       "      <td>0.708723</td>\n",
       "      <td>0.036271</td>\n",
       "      <td>0.033627</td>\n",
       "      <td>0.047447</td>\n",
       "      <td>1.308131</td>\n",
       "      <td>0.007921</td>\n",
       "      <td>1.011733</td>\n",
       "      <td>0.808683</td>\n",
       "    </tr>\n",
       "    <tr>\n",
       "      <th>1673</th>\n",
       "      <td>(num_aspir)</td>\n",
       "      <td>(ingreso_alto)</td>\n",
       "      <td>0.067186</td>\n",
       "      <td>0.036271</td>\n",
       "      <td>0.010282</td>\n",
       "      <td>0.153044</td>\n",
       "      <td>4.219439</td>\n",
       "      <td>0.007846</td>\n",
       "      <td>1.137874</td>\n",
       "      <td>0.817957</td>\n",
       "    </tr>\n",
       "    <tr>\n",
       "      <th>1678</th>\n",
       "      <td>(num_compu)</td>\n",
       "      <td>(ingreso_alto)</td>\n",
       "      <td>0.242667</td>\n",
       "      <td>0.036271</td>\n",
       "      <td>0.023164</td>\n",
       "      <td>0.095455</td>\n",
       "      <td>2.631714</td>\n",
       "      <td>0.014362</td>\n",
       "      <td>1.065430</td>\n",
       "      <td>0.818688</td>\n",
       "    </tr>\n",
       "    <tr>\n",
       "      <th>1682</th>\n",
       "      <td>(num_impre)</td>\n",
       "      <td>(ingreso_alto)</td>\n",
       "      <td>0.102282</td>\n",
       "      <td>0.036271</td>\n",
       "      <td>0.013379</td>\n",
       "      <td>0.130800</td>\n",
       "      <td>3.606163</td>\n",
       "      <td>0.009669</td>\n",
       "      <td>1.108754</td>\n",
       "      <td>0.805038</td>\n",
       "    </tr>\n",
       "    <tr>\n",
       "      <th>6457</th>\n",
       "      <td>(alim17_1, num_aspir)</td>\n",
       "      <td>(ingreso_alto)</td>\n",
       "      <td>0.066825</td>\n",
       "      <td>0.036271</td>\n",
       "      <td>0.010215</td>\n",
       "      <td>0.152858</td>\n",
       "      <td>4.214299</td>\n",
       "      <td>0.007791</td>\n",
       "      <td>1.137623</td>\n",
       "      <td>0.817331</td>\n",
       "    </tr>\n",
       "    <tr>\n",
       "      <th>...</th>\n",
       "      <td>...</td>\n",
       "      <td>...</td>\n",
       "      <td>...</td>\n",
       "      <td>...</td>\n",
       "      <td>...</td>\n",
       "      <td>...</td>\n",
       "      <td>...</td>\n",
       "      <td>...</td>\n",
       "      <td>...</td>\n",
       "      <td>...</td>\n",
       "    </tr>\n",
       "    <tr>\n",
       "      <th>1296726</th>\n",
       "      <td>(num_impre, num_venti, num_lavad)</td>\n",
       "      <td>(ingreso_alto)</td>\n",
       "      <td>0.069130</td>\n",
       "      <td>0.036271</td>\n",
       "      <td>0.010169</td>\n",
       "      <td>0.147107</td>\n",
       "      <td>4.055751</td>\n",
       "      <td>0.007662</td>\n",
       "      <td>1.129953</td>\n",
       "      <td>0.809390</td>\n",
       "    </tr>\n",
       "    <tr>\n",
       "      <th>1296796</th>\n",
       "      <td>(num_impre, num_compu, num_lavad)</td>\n",
       "      <td>(ingreso_alto)</td>\n",
       "      <td>0.092226</td>\n",
       "      <td>0.036271</td>\n",
       "      <td>0.012384</td>\n",
       "      <td>0.134281</td>\n",
       "      <td>3.702135</td>\n",
       "      <td>0.009039</td>\n",
       "      <td>1.113212</td>\n",
       "      <td>0.804039</td>\n",
       "    </tr>\n",
       "    <tr>\n",
       "      <th>1297020</th>\n",
       "      <td>(num_planc, num_impre, num_venti)</td>\n",
       "      <td>(ingreso_alto)</td>\n",
       "      <td>0.069017</td>\n",
       "      <td>0.036271</td>\n",
       "      <td>0.010124</td>\n",
       "      <td>0.146693</td>\n",
       "      <td>4.044336</td>\n",
       "      <td>0.007621</td>\n",
       "      <td>1.129404</td>\n",
       "      <td>0.808544</td>\n",
       "    </tr>\n",
       "    <tr>\n",
       "      <th>1297090</th>\n",
       "      <td>(num_planc, num_impre, num_compu)</td>\n",
       "      <td>(ingreso_alto)</td>\n",
       "      <td>0.092678</td>\n",
       "      <td>0.036271</td>\n",
       "      <td>0.012429</td>\n",
       "      <td>0.134114</td>\n",
       "      <td>3.697525</td>\n",
       "      <td>0.009068</td>\n",
       "      <td>1.112997</td>\n",
       "      <td>0.804068</td>\n",
       "    </tr>\n",
       "    <tr>\n",
       "      <th>1297216</th>\n",
       "      <td>(num_impre, num_venti, num_compu)</td>\n",
       "      <td>(ingreso_alto)</td>\n",
       "      <td>0.069763</td>\n",
       "      <td>0.036271</td>\n",
       "      <td>0.010260</td>\n",
       "      <td>0.147068</td>\n",
       "      <td>4.054688</td>\n",
       "      <td>0.007730</td>\n",
       "      <td>1.129902</td>\n",
       "      <td>0.809871</td>\n",
       "    </tr>\n",
       "  </tbody>\n",
       "</table>\n",
       "<p>693 rows × 10 columns</p>\n",
       "</div>"
      ],
      "text/plain": [
       "                               antecedents     consequents  \\\n",
       "1452                             (num_tvd)  (ingreso_alto)   \n",
       "1673                           (num_aspir)  (ingreso_alto)   \n",
       "1678                           (num_compu)  (ingreso_alto)   \n",
       "1682                           (num_impre)  (ingreso_alto)   \n",
       "6457                 (alim17_1, num_aspir)  (ingreso_alto)   \n",
       "...                                    ...             ...   \n",
       "1296726  (num_impre, num_venti, num_lavad)  (ingreso_alto)   \n",
       "1296796  (num_impre, num_compu, num_lavad)  (ingreso_alto)   \n",
       "1297020  (num_planc, num_impre, num_venti)  (ingreso_alto)   \n",
       "1297090  (num_planc, num_impre, num_compu)  (ingreso_alto)   \n",
       "1297216  (num_impre, num_venti, num_compu)  (ingreso_alto)   \n",
       "\n",
       "         antecedent support  consequent support   support  confidence  \\\n",
       "1452               0.708723            0.036271  0.033627    0.047447   \n",
       "1673               0.067186            0.036271  0.010282    0.153044   \n",
       "1678               0.242667            0.036271  0.023164    0.095455   \n",
       "1682               0.102282            0.036271  0.013379    0.130800   \n",
       "6457               0.066825            0.036271  0.010215    0.152858   \n",
       "...                     ...                 ...       ...         ...   \n",
       "1296726            0.069130            0.036271  0.010169    0.147107   \n",
       "1296796            0.092226            0.036271  0.012384    0.134281   \n",
       "1297020            0.069017            0.036271  0.010124    0.146693   \n",
       "1297090            0.092678            0.036271  0.012429    0.134114   \n",
       "1297216            0.069763            0.036271  0.010260    0.147068   \n",
       "\n",
       "             lift  leverage  conviction  zhangs_metric  \n",
       "1452     1.308131  0.007921    1.011733       0.808683  \n",
       "1673     4.219439  0.007846    1.137874       0.817957  \n",
       "1678     2.631714  0.014362    1.065430       0.818688  \n",
       "1682     3.606163  0.009669    1.108754       0.805038  \n",
       "6457     4.214299  0.007791    1.137623       0.817331  \n",
       "...           ...       ...         ...            ...  \n",
       "1296726  4.055751  0.007662    1.129953       0.809390  \n",
       "1296796  3.702135  0.009039    1.113212       0.804039  \n",
       "1297020  4.044336  0.007621    1.129404       0.808544  \n",
       "1297090  3.697525  0.009068    1.112997       0.804068  \n",
       "1297216  4.054688  0.007730    1.129902       0.809871  \n",
       "\n",
       "[693 rows x 10 columns]"
      ]
     },
     "execution_count": 343,
     "metadata": {},
     "output_type": "execute_result"
    }
   ],
   "source": [
    "rules_income_consecuent[zhang > 0.8]"
   ]
  },
  {
   "cell_type": "code",
   "execution_count": null,
   "metadata": {
    "id": "fjUgH2wFfZIq",
    "outputId": "f7721df5-f10e-46af-8428-9101460dc5f7"
   },
   "outputs": [
    {
     "data": {
      "text/html": [
       "<div>\n",
       "<style scoped>\n",
       "    .dataframe tbody tr th:only-of-type {\n",
       "        vertical-align: middle;\n",
       "    }\n",
       "\n",
       "    .dataframe tbody tr th {\n",
       "        vertical-align: top;\n",
       "    }\n",
       "\n",
       "    .dataframe thead th {\n",
       "        text-align: right;\n",
       "    }\n",
       "</style>\n",
       "<table border=\"1\" class=\"dataframe\">\n",
       "  <thead>\n",
       "    <tr style=\"text-align: right;\">\n",
       "      <th></th>\n",
       "      <th>antecedents</th>\n",
       "      <th>consequents</th>\n",
       "      <th>antecedent support</th>\n",
       "      <th>consequent support</th>\n",
       "      <th>support</th>\n",
       "      <th>confidence</th>\n",
       "      <th>lift</th>\n",
       "      <th>leverage</th>\n",
       "      <th>conviction</th>\n",
       "      <th>zhangs_metric</th>\n",
       "    </tr>\n",
       "  </thead>\n",
       "  <tbody>\n",
       "    <tr>\n",
       "      <th>80</th>\n",
       "      <td>(alim17_1)</td>\n",
       "      <td>(ingreso_alto)</td>\n",
       "      <td>0.995458</td>\n",
       "      <td>0.036271</td>\n",
       "      <td>0.035977</td>\n",
       "      <td>0.036142</td>\n",
       "      <td>0.996426</td>\n",
       "      <td>-0.000129</td>\n",
       "      <td>0.999866</td>\n",
       "      <td>-0.441196</td>\n",
       "    </tr>\n",
       "    <tr>\n",
       "      <th>4164</th>\n",
       "      <td>(telefono, alim17_1)</td>\n",
       "      <td>(ingreso_alto)</td>\n",
       "      <td>0.995458</td>\n",
       "      <td>0.036271</td>\n",
       "      <td>0.035977</td>\n",
       "      <td>0.036142</td>\n",
       "      <td>0.996426</td>\n",
       "      <td>-0.000129</td>\n",
       "      <td>0.999866</td>\n",
       "      <td>-0.441196</td>\n",
       "    </tr>\n",
       "    <tr>\n",
       "      <th>4332</th>\n",
       "      <td>(alim17_1, celular)</td>\n",
       "      <td>(ingreso_alto)</td>\n",
       "      <td>0.995458</td>\n",
       "      <td>0.036271</td>\n",
       "      <td>0.035977</td>\n",
       "      <td>0.036142</td>\n",
       "      <td>0.996426</td>\n",
       "      <td>-0.000129</td>\n",
       "      <td>0.999866</td>\n",
       "      <td>-0.441196</td>\n",
       "    </tr>\n",
       "    <tr>\n",
       "      <th>4494</th>\n",
       "      <td>(tv_paga, alim17_1)</td>\n",
       "      <td>(ingreso_alto)</td>\n",
       "      <td>0.995458</td>\n",
       "      <td>0.036271</td>\n",
       "      <td>0.035977</td>\n",
       "      <td>0.036142</td>\n",
       "      <td>0.996426</td>\n",
       "      <td>-0.000129</td>\n",
       "      <td>0.999866</td>\n",
       "      <td>-0.441196</td>\n",
       "    </tr>\n",
       "    <tr>\n",
       "      <th>4650</th>\n",
       "      <td>(conex_inte, alim17_1)</td>\n",
       "      <td>(ingreso_alto)</td>\n",
       "      <td>0.995458</td>\n",
       "      <td>0.036271</td>\n",
       "      <td>0.035977</td>\n",
       "      <td>0.036142</td>\n",
       "      <td>0.996426</td>\n",
       "      <td>-0.000129</td>\n",
       "      <td>0.999866</td>\n",
       "      <td>-0.441196</td>\n",
       "    </tr>\n",
       "    <tr>\n",
       "      <th>153444</th>\n",
       "      <td>(telefono, alim17_1, celular)</td>\n",
       "      <td>(ingreso_alto)</td>\n",
       "      <td>0.995458</td>\n",
       "      <td>0.036271</td>\n",
       "      <td>0.035977</td>\n",
       "      <td>0.036142</td>\n",
       "      <td>0.996426</td>\n",
       "      <td>-0.000129</td>\n",
       "      <td>0.999866</td>\n",
       "      <td>-0.441196</td>\n",
       "    </tr>\n",
       "    <tr>\n",
       "      <th>153822</th>\n",
       "      <td>(telefono, tv_paga, alim17_1)</td>\n",
       "      <td>(ingreso_alto)</td>\n",
       "      <td>0.995458</td>\n",
       "      <td>0.036271</td>\n",
       "      <td>0.035977</td>\n",
       "      <td>0.036142</td>\n",
       "      <td>0.996426</td>\n",
       "      <td>-0.000129</td>\n",
       "      <td>0.999866</td>\n",
       "      <td>-0.441196</td>\n",
       "    </tr>\n",
       "    <tr>\n",
       "      <th>154186</th>\n",
       "      <td>(telefono, conex_inte, alim17_1)</td>\n",
       "      <td>(ingreso_alto)</td>\n",
       "      <td>0.995458</td>\n",
       "      <td>0.036271</td>\n",
       "      <td>0.035977</td>\n",
       "      <td>0.036142</td>\n",
       "      <td>0.996426</td>\n",
       "      <td>-0.000129</td>\n",
       "      <td>0.999866</td>\n",
       "      <td>-0.441196</td>\n",
       "    </tr>\n",
       "    <tr>\n",
       "      <th>158862</th>\n",
       "      <td>(tv_paga, alim17_1, celular)</td>\n",
       "      <td>(ingreso_alto)</td>\n",
       "      <td>0.995458</td>\n",
       "      <td>0.036271</td>\n",
       "      <td>0.035977</td>\n",
       "      <td>0.036142</td>\n",
       "      <td>0.996426</td>\n",
       "      <td>-0.000129</td>\n",
       "      <td>0.999866</td>\n",
       "      <td>-0.441196</td>\n",
       "    </tr>\n",
       "    <tr>\n",
       "      <th>159226</th>\n",
       "      <td>(conex_inte, alim17_1, celular)</td>\n",
       "      <td>(ingreso_alto)</td>\n",
       "      <td>0.995458</td>\n",
       "      <td>0.036271</td>\n",
       "      <td>0.035977</td>\n",
       "      <td>0.036142</td>\n",
       "      <td>0.996426</td>\n",
       "      <td>-0.000129</td>\n",
       "      <td>0.999866</td>\n",
       "      <td>-0.441196</td>\n",
       "    </tr>\n",
       "    <tr>\n",
       "      <th>163888</th>\n",
       "      <td>(tv_paga, alim17_1, conex_inte)</td>\n",
       "      <td>(ingreso_alto)</td>\n",
       "      <td>0.995458</td>\n",
       "      <td>0.036271</td>\n",
       "      <td>0.035977</td>\n",
       "      <td>0.036142</td>\n",
       "      <td>0.996426</td>\n",
       "      <td>-0.000129</td>\n",
       "      <td>0.999866</td>\n",
       "      <td>-0.441196</td>\n",
       "    </tr>\n",
       "  </tbody>\n",
       "</table>\n",
       "</div>"
      ],
      "text/plain": [
       "                             antecedents     consequents  antecedent support  \\\n",
       "80                            (alim17_1)  (ingreso_alto)            0.995458   \n",
       "4164                (telefono, alim17_1)  (ingreso_alto)            0.995458   \n",
       "4332                 (alim17_1, celular)  (ingreso_alto)            0.995458   \n",
       "4494                 (tv_paga, alim17_1)  (ingreso_alto)            0.995458   \n",
       "4650              (conex_inte, alim17_1)  (ingreso_alto)            0.995458   \n",
       "153444     (telefono, alim17_1, celular)  (ingreso_alto)            0.995458   \n",
       "153822     (telefono, tv_paga, alim17_1)  (ingreso_alto)            0.995458   \n",
       "154186  (telefono, conex_inte, alim17_1)  (ingreso_alto)            0.995458   \n",
       "158862      (tv_paga, alim17_1, celular)  (ingreso_alto)            0.995458   \n",
       "159226   (conex_inte, alim17_1, celular)  (ingreso_alto)            0.995458   \n",
       "163888   (tv_paga, alim17_1, conex_inte)  (ingreso_alto)            0.995458   \n",
       "\n",
       "        consequent support   support  confidence      lift  leverage  \\\n",
       "80                0.036271  0.035977    0.036142  0.996426 -0.000129   \n",
       "4164              0.036271  0.035977    0.036142  0.996426 -0.000129   \n",
       "4332              0.036271  0.035977    0.036142  0.996426 -0.000129   \n",
       "4494              0.036271  0.035977    0.036142  0.996426 -0.000129   \n",
       "4650              0.036271  0.035977    0.036142  0.996426 -0.000129   \n",
       "153444            0.036271  0.035977    0.036142  0.996426 -0.000129   \n",
       "153822            0.036271  0.035977    0.036142  0.996426 -0.000129   \n",
       "154186            0.036271  0.035977    0.036142  0.996426 -0.000129   \n",
       "158862            0.036271  0.035977    0.036142  0.996426 -0.000129   \n",
       "159226            0.036271  0.035977    0.036142  0.996426 -0.000129   \n",
       "163888            0.036271  0.035977    0.036142  0.996426 -0.000129   \n",
       "\n",
       "        conviction  zhangs_metric  \n",
       "80        0.999866      -0.441196  \n",
       "4164      0.999866      -0.441196  \n",
       "4332      0.999866      -0.441196  \n",
       "4494      0.999866      -0.441196  \n",
       "4650      0.999866      -0.441196  \n",
       "153444    0.999866      -0.441196  \n",
       "153822    0.999866      -0.441196  \n",
       "154186    0.999866      -0.441196  \n",
       "158862    0.999866      -0.441196  \n",
       "159226    0.999866      -0.441196  \n",
       "163888    0.999866      -0.441196  "
      ]
     },
     "execution_count": 344,
     "metadata": {},
     "output_type": "execute_result"
    }
   ],
   "source": [
    "rules_income_consecuent[zhang < -0.4]"
   ]
  },
  {
   "cell_type": "code",
   "execution_count": null,
   "metadata": {
    "id": "udZK6vo7fZIq",
    "outputId": "9d7af181-d6b6-4d99-9394-a2672066c914"
   },
   "outputs": [
    {
     "name": "stdout",
     "output_type": "stream",
     "text": [
      "                               antecedents     consequents  \\\n",
      "1120                            (num_auto)  (ingreso_alto)   \n",
      "1166                             (num_van)  (ingreso_alto)   \n",
      "1554                           (num_tosta)  (ingreso_alto)   \n",
      "1673                           (num_aspir)  (ingreso_alto)   \n",
      "1678                           (num_compu)  (ingreso_alto)   \n",
      "...                                    ...             ...   \n",
      "1296796  (num_impre, num_compu, num_lavad)  (ingreso_alto)   \n",
      "1296992  (num_planc, num_venti, num_compu)  (ingreso_alto)   \n",
      "1297020  (num_planc, num_impre, num_venti)  (ingreso_alto)   \n",
      "1297090  (num_planc, num_impre, num_compu)  (ingreso_alto)   \n",
      "1297216  (num_impre, num_venti, num_compu)  (ingreso_alto)   \n",
      "\n",
      "         antecedent support  consequent support   support  confidence  \\\n",
      "1120               0.296068            0.036271  0.024158    0.081597   \n",
      "1166               0.139751            0.036271  0.013763    0.098480   \n",
      "1554               0.147797            0.036271  0.014192    0.096024   \n",
      "1673               0.067186            0.036271  0.010282    0.153044   \n",
      "1678               0.242667            0.036271  0.023164    0.095455   \n",
      "...                     ...                 ...       ...         ...   \n",
      "1296796            0.092226            0.036271  0.012384    0.134281   \n",
      "1296992            0.152045            0.036271  0.016814    0.110583   \n",
      "1297020            0.069017            0.036271  0.010124    0.146693   \n",
      "1297090            0.092678            0.036271  0.012429    0.134114   \n",
      "1297216            0.069763            0.036271  0.010260    0.147068   \n",
      "\n",
      "             lift  leverage  conviction  zhangs_metric  \n",
      "1120     2.249632  0.013419    1.049353       0.789114  \n",
      "1166     2.715101  0.008694    1.069004       0.734311  \n",
      "1554     2.647403  0.008831    1.066101       0.730191  \n",
      "1673     4.219439  0.007846    1.137874       0.817957  \n",
      "1678     2.631714  0.014362    1.065430       0.818688  \n",
      "...           ...       ...         ...            ...  \n",
      "1296796  3.702135  0.009039    1.113212       0.804039  \n",
      "1296992  3.048774  0.011299    1.083551       0.792494  \n",
      "1297020  4.044336  0.007621    1.129404       0.808544  \n",
      "1297090  3.697525  0.009068    1.112997       0.804068  \n",
      "1297216  4.054688  0.007730    1.129902       0.809871  \n",
      "\n",
      "[2144 rows x 10 columns]\n"
     ]
    }
   ],
   "source": [
    "#Revisar que valor toma el valor de la métrica zhang cuando el lift es mayor a 2\n",
    "check = (rules_income_consecuent[rules_income_consecuent['lift'] > 2])\n",
    "print(check)"
   ]
  },
  {
   "cell_type": "code",
   "execution_count": null,
   "metadata": {
    "id": "Lj6hbodJfZIq",
    "outputId": "341b17b3-0c79-43f3-b8c7-b002fff6214b"
   },
   "outputs": [
    {
     "data": {
      "text/plain": [
       "alim17_1        0.995458\n",
       "alim17_2        0.836565\n",
       "alim17_3        0.943119\n",
       "alim17_4        0.895706\n",
       "alim17_5        0.925605\n",
       "alim17_6        0.943910\n",
       "alim17_7        0.510418\n",
       "alim17_8        0.966531\n",
       "alim17_9        0.901379\n",
       "alim17_10       0.985808\n",
       "alim17_11       0.950734\n",
       "alim17_12       0.896023\n",
       "telefono        1.000000\n",
       "celular         1.000000\n",
       "tv_paga         1.000000\n",
       "conex_inte      1.000000\n",
       "num_auto        0.296068\n",
       "num_van         0.139751\n",
       "num_pickup      0.124746\n",
       "num_moto        0.090147\n",
       "num_bici        0.151073\n",
       "num_trici       0.009853\n",
       "num_carret      0.002554\n",
       "num_canoa       0.002531\n",
       "num_otro        0.001672\n",
       "num_ester       0.341627\n",
       "num_grab        0.127390\n",
       "num_radio       0.207006\n",
       "num_tva         0.370418\n",
       "num_tvd         0.708723\n",
       "num_dvd         0.266305\n",
       "num_video       0.040203\n",
       "num_licua       0.872565\n",
       "num_tosta       0.147797\n",
       "num_micro       0.444136\n",
       "num_refri       0.880565\n",
       "num_estuf       0.903277\n",
       "num_lavad       0.694847\n",
       "num_planc       0.749424\n",
       "num_maqui       0.134667\n",
       "num_venti       0.541785\n",
       "num_aspir       0.067186\n",
       "num_compu       0.242667\n",
       "num_impre       0.102282\n",
       "num_juego       0.098079\n",
       "ingreso_alto    0.036271\n",
       "dtype: float64"
      ]
     },
     "execution_count": 346,
     "metadata": {},
     "output_type": "execute_result"
    }
   ],
   "source": [
    "datos.mean()"
   ]
  },
  {
   "cell_type": "code",
   "execution_count": null,
   "metadata": {
    "id": "nFP0EDbZfZIr"
   },
   "outputs": [],
   "source": [
    "check_lift = rules_income_consecuent[(rules_income_consecuent['support'] > 0.0) &\n",
    "                (rules_income_consecuent['confidence'] > 0.0) &\n",
    "                (rules_income_consecuent['lift'] >= 4.5)]"
   ]
  },
  {
   "cell_type": "code",
   "execution_count": null,
   "metadata": {
    "id": "WXfPtzaXfZIr",
    "outputId": "4e0bc62b-dcfe-42bb-b6e6-3d48f50d737a"
   },
   "outputs": [
    {
     "data": {
      "text/plain": [
       "(1, 10)"
      ]
     },
     "execution_count": 348,
     "metadata": {},
     "output_type": "execute_result"
    }
   ],
   "source": [
    "check_lift.shape"
   ]
  },
  {
   "cell_type": "code",
   "execution_count": null,
   "metadata": {
    "id": "Evv9v10VfZIr",
    "outputId": "f52919ca-3cc5-4a9c-e509-f969e62896a4"
   },
   "outputs": [
    {
     "data": {
      "text/html": [
       "<div>\n",
       "<style scoped>\n",
       "    .dataframe tbody tr th:only-of-type {\n",
       "        vertical-align: middle;\n",
       "    }\n",
       "\n",
       "    .dataframe tbody tr th {\n",
       "        vertical-align: top;\n",
       "    }\n",
       "\n",
       "    .dataframe thead th {\n",
       "        text-align: right;\n",
       "    }\n",
       "</style>\n",
       "<table border=\"1\" class=\"dataframe\">\n",
       "  <thead>\n",
       "    <tr style=\"text-align: right;\">\n",
       "      <th></th>\n",
       "      <th>antecedents</th>\n",
       "      <th>consequents</th>\n",
       "      <th>antecedent support</th>\n",
       "      <th>consequent support</th>\n",
       "      <th>support</th>\n",
       "      <th>confidence</th>\n",
       "      <th>lift</th>\n",
       "      <th>leverage</th>\n",
       "      <th>conviction</th>\n",
       "      <th>zhangs_metric</th>\n",
       "    </tr>\n",
       "  </thead>\n",
       "  <tbody>\n",
       "    <tr>\n",
       "      <th>1216674</th>\n",
       "      <td>(num_impre, num_auto, num_tvd)</td>\n",
       "      <td>(ingreso_alto)</td>\n",
       "      <td>0.061763</td>\n",
       "      <td>0.036271</td>\n",
       "      <td>0.010169</td>\n",
       "      <td>0.164654</td>\n",
       "      <td>4.539532</td>\n",
       "      <td>0.007929</td>\n",
       "      <td>1.153689</td>\n",
       "      <td>0.83104</td>\n",
       "    </tr>\n",
       "  </tbody>\n",
       "</table>\n",
       "</div>"
      ],
      "text/plain": [
       "                            antecedents     consequents  antecedent support  \\\n",
       "1216674  (num_impre, num_auto, num_tvd)  (ingreso_alto)            0.061763   \n",
       "\n",
       "         consequent support   support  confidence      lift  leverage  \\\n",
       "1216674            0.036271  0.010169    0.164654  4.539532  0.007929   \n",
       "\n",
       "         conviction  zhangs_metric  \n",
       "1216674    1.153689        0.83104  "
      ]
     },
     "execution_count": 349,
     "metadata": {},
     "output_type": "execute_result"
    }
   ],
   "source": [
    "check_lift"
   ]
  }
 ],
 "metadata": {
  "colab": {
   "collapsed_sections": [],
   "provenance": []
  },
  "kernelspec": {
   "display_name": "Python 3",
   "language": "python",
   "name": "python3"
  },
  "language_info": {
   "codemirror_mode": {
    "name": "ipython",
    "version": 3
   },
   "file_extension": ".py",
   "mimetype": "text/x-python",
   "name": "python",
   "nbconvert_exporter": "python",
   "pygments_lexer": "ipython3",
   "version": "3.8.8"
  }
 },
 "nbformat": 4,
 "nbformat_minor": 1
}

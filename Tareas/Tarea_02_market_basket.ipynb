{
 "cells": [
  {
   "cell_type": "markdown",
   "metadata": {
    "collapsed": true
   },
   "source": [
    "## Tarea 2 Reglas de Asociación"
   ]
  },
  {
   "cell_type": "markdown",
   "metadata": {
    "collapsed": true
   },
   "source": [
    "**Fecha de entrega: subir la tarea a su repositorio de github antes del lunes 8 de diciembre de 2020**"
   ]
  },
  {
   "cell_type": "markdown",
   "metadata": {
    "collapsed": true
   },
   "source": [
    "Utilizaremos datos de la Encuesta Nacional de Ingresos y Gastos de los Hogares (ENIGH). 2018 Nueva serie."
   ]
  },
  {
   "cell_type": "markdown",
   "metadata": {
    "collapsed": true
   },
   "source": [
    "> La Encuesta Nacional de Ingresos y Gastos de los Hogares 2018 se llevó a cabo del 21 de agosto al 28 de noviembre de 2018. Su objetivo es proporcionar un panorama estadístico del comportamiento de los ingresos y gastos de los hogares en cuanto a su monto, procedencia y distribución; adicionalmente, ofrece información sobre las características ocupacionales y sociodemográficas de los integrantes del hogar, así como las características de la infraestructura de la vivienda y el equipamiento del hogar"
   ]
  },
  {
   "cell_type": "markdown",
   "metadata": {
    "collapsed": true
   },
   "source": [
    "Para descargar los datos de la tarea  entrar  en la carpeta de datos del repositorio de la clase."
   ]
  },
  {
   "cell_type": "markdown",
   "metadata": {},
   "source": [
    "Los datos para la tarea constande 2 tablas, la tabla de gastos y la tabla de hogares. La primera incluye los gastos de los hogares y la segunda datos sociodemograficos de los hogares (notar que dentro de una vivienda puede haber más de un hogar)."
   ]
  },
  {
   "cell_type": "markdown",
   "metadata": {},
   "source": [
    "**Objetivo de la tarea**. Identificar reglas de asociación asociadas a ingresos altos de los hogares. Nota: Ustedes decidirán a partir de que valor se considera ingreso alto para un hogar"
   ]
  },
  {
   "cell_type": "markdown",
   "metadata": {
    "collapsed": true
   },
   "source": [
    "Si desean consultar mayor detalle de la encuesta ir al siguiente link [ENIGH](https://www.inegi.org.mx/programas/enigh/nc/2018/)"
   ]
  },
  {
   "cell_type": "code",
   "execution_count": null,
   "metadata": {},
   "outputs": [],
   "source": [
    "# Librerías\n",
    "import pandas as pd\n",
    "import numpy as np"
   ]
  },
  {
   "cell_type": "code",
   "execution_count": null,
   "metadata": {},
   "outputs": [],
   "source": [
    "# Leer los datos de Gasto\n",
    "valores_missing = ['', ' ']\n",
    "gasto = pd.read_csv(\"/home/leonardo/Documentos/Acatlan/enigh/conjunto_de_datos_gastoshogar_enigh_2018_ns.csv\", \\\n",
    "                    usecols= [0,1,14], na_values = valores_missing)\n",
    "gasto.head()"
   ]
  },
  {
   "cell_type": "code",
   "execution_count": null,
   "metadata": {},
   "outputs": [],
   "source": [
    "gasto.shape"
   ]
  },
  {
   "cell_type": "markdown",
   "metadata": {},
   "source": [
    "Colapsar la información a nivel hogar"
   ]
  },
  {
   "cell_type": "code",
   "execution_count": null,
   "metadata": {},
   "outputs": [],
   "source": [
    "# Colapsar la info a nivel hogar\n",
    "gasto_x_hogar =gasto.groupby(['folioviv','foliohog']).agg({'gasto':['sum']})\n",
    "gasto_x_hogar.head()"
   ]
  },
  {
   "cell_type": "code",
   "execution_count": null,
   "metadata": {},
   "outputs": [],
   "source": [
    "gasto_x_hogar.shape"
   ]
  },
  {
   "cell_type": "markdown",
   "metadata": {},
   "source": [
    "Crear variable indicadora para determinar un 'ingreso alto' de un hogar. Esto usualmente va alineado con las reglas del negocio o el problema que estás resolviendo "
   ]
  },
  {
   "cell_type": "markdown",
   "metadata": {},
   "source": [
    "**Definir valor para ingreso alto**. Enuncia el porque de tu valor o incluye la referencia si utilizaste alguna"
   ]
  },
  {
   "cell_type": "code",
   "execution_count": null,
   "metadata": {},
   "outputs": [],
   "source": [
    "# Incluye tu justificación para el ingreso aquí"
   ]
  },
  {
   "cell_type": "code",
   "execution_count": null,
   "metadata": {},
   "outputs": [],
   "source": [
    "ingreso_alto =  #Ingresar tu valor de ingreso alto aquí"
   ]
  },
  {
   "cell_type": "code",
   "execution_count": null,
   "metadata": {},
   "outputs": [],
   "source": [
    "gasto_x_hogar['ingreso_alto'] = gasto_x_hogar['gasto']['sum'].map(lambda x: x > ingreso_alto)\n",
    "\n",
    "# Borrar la variable gasto\n",
    "del gasto_x_hogar['gasto']\n"
   ]
  },
  {
   "cell_type": "code",
   "execution_count": null,
   "metadata": {},
   "outputs": [],
   "source": [
    "gasto_x_hogar.info()"
   ]
  },
  {
   "cell_type": "code",
   "execution_count": null,
   "metadata": {},
   "outputs": [],
   "source": [
    "# Hacer el aggregate de la info generó vaiables multinivel por ello se reasignó el nombre de las columnas\n",
    "# gasto_x_hogar.columns = ['foliohog', 'folioviv', 'ingreso_alto']\n",
    "gasto_x_hogar.columns = ['ingreso_alto']"
   ]
  },
  {
   "cell_type": "code",
   "execution_count": null,
   "metadata": {},
   "outputs": [],
   "source": [
    "gasto_x_hogar.head(10)"
   ]
  },
  {
   "cell_type": "markdown",
   "metadata": {},
   "source": [
    "Sólo utilizaremos ciertas variables de la tabla de hogares. El detalle de las variables de la tabla de hogares puede ser cnsultado en el diccionario de datos ubicado en la carpeta de los datos"
   ]
  },
  {
   "cell_type": "markdown",
   "metadata": {},
   "source": [
    "Las variables autilizar son:\n",
    "\n",
    "- folioviv: Identificador de la vivienda compuesto por dos dígitos con la clave de la entidad federativa, uno con el ámbito (urbano, código diferente a 6; rural, código 6), cuatro dígitos del número consecutivo de la upm, un dígito de la decena de levantamiento y dos dígitos con un número consecutivo para la vivienda seleccionada.\n",
    "- foliohog:\tEl código 1 identifica al hogar principal y del 2 al 5 los hogares adicionales.\n",
    "- alim17_1:\tNúmero de días que comieron alimentos hechos de maíz, trigo, arroz, avena, salvado, etcétera, durante la última semana.\n",
    "- alim17_2:\tNúmero de días que comieron alimentos provenientes de raíces o tubérculos, durante la última semana.\n",
    "- alim17_3:\tNúmero de días que comieron verduras durante la última semana.\n",
    "- alim17_4:\tNúmero de días que comieron frutas durante la última semana.\n",
    "- alim17_5:\tNúmero de días que comieron carne durante la última semana.\n",
    "- alim17_6:\tNúmero de días que comieron huevo durante la última semana.\n",
    "- alim17_7:\tNúmero de días que comieron pescado o mariscos durante la última semana.\n",
    "- alim17_8:\tNúmero de días que comieron leguminosas o semillas durante la última semana.\n",
    "- alim17_9:\tNúmero de días que comieron productos lácteos durante la última semana.\n",
    "- alim17_10:\tNúmero de días que comieron aceites o grasas durante la última semana.\n",
    "- alim17_11:\tNúmero de días que comieron azúcar o mieles durante la última semana.\n",
    "- alim17_12:\tNúmero de días que comieron otros alimentos como condimentos, café, té durante la última semana.\n",
    "\n",
    "- telefono:\tServicio de línea telefónica en el hogar ya sea con instalación alámbrica o satelital (antena). \n",
    "- celular:\tHogares que cuentan con el servicio de teléfono móvil aunque sea un sólo integrante del hogar.\n",
    "- tv_paga:\tHogares que cuentan con los servicios de televisión por pago, considerando que el servicio está en funcionamiento.\n",
    "- conex_inte:\tHogares que cuentan con el servicio de línea telefónica, tarjeta prepagada o telecable.\n",
    "\n",
    "- num_auto:\tNúmero de automóviles con los que cuenta el hogar.\n",
    "- num_van:\tNúmero de camionetas cerradas o con cabina (van o minivan) con las que cuenta el hogar.\n",
    "- num_pickup:\tNúmero de camionetas con caja con las que cuenta el hogar.\n",
    "- num_moto:\tNúmero de motocicletas o motonetas con las que cuenta el hogar.\n",
    "- num_bici:\tNúmero de bicicletas que se utilicen como medio de transporte en el hogar.\n",
    "- num_trici:\tNúmero de triciclos que se utilicen como medio de transporte en el hogar.\n",
    "- num_carret:\tNúmero de carretas, calandrias u otros vehículos de tracción animal con los que cuenta el hogar.\n",
    "- num_canoa:\tNúmero de canoas, lanchas, trajineras u otros vehículos para navegar con los que cuenta el hogar.\n",
    "- num_otro:\tNúmero de otro tipo de vehículos con los que cuenta el hogar.\n",
    "- num_ester:\tNúmero de estéreos, modulares o minicomponentes con los que cuenta el hogar.\n",
    "- num_grab:\tNúmero de grabadoras con las que cuenta el hogar.\n",
    "- num_radio:\tNúmero de radios con las que cuenta el hogar.\n",
    "- num_tva:\tNúmero de televisores analógicos con los que cuenta el hogar.\n",
    "- num_tvd:\tNúmero de televisores digitales con los que cuenta el hogar.\n",
    "- num_dvd:\tNúmero de DVDs, Blu-ray (reproductores de discos de video) con los que cuenta el hogar.\n",
    "- num_video:\tNúmero de videocaseteras con las que cuenta el hogar.\n",
    "- num_licua:\tNúmero de licuadoras con las que cuenta el hogar.\n",
    "- num_tosta:\tNúmero de tostadores con los que cuenta el hogar.\n",
    "- num_micro:\tNúmero de hornos de microondas con los que cuenta el hogar.\n",
    "- num_refri:\tNúmero de refrigeradores con los que cuenta el hogar.\n",
    "- num_estuf:\tNúmero de estufas de gas o eléctricas con las que cuenta el hogar.\n",
    "- num_lavad:\tNúmero de lavadoras con las que cuenta el hogar.\n",
    "- num_planc:\tNúmero de planchas eléctricas con las que cuenta el hogar.\n",
    "- num_maqui:\tNúmero de máquinas de coser con las que cuenta el hogar.\n",
    "- num_venti:\tNúmero de ventiladores con los que cuenta el hogar.\n",
    "- num_aspir:\tNúmero de aspiradoras con las que cuenta el hogar.\n",
    "- num_compu:\tNúmero de computadoras con las que cuenta el hogar.\n",
    "- num_impre:\tNúmero de impresoras con las que cuenta el hogar.\n",
    "- num_juego:\tNúmero de videojuegos (Wii, Playstation, Xbox, otros) con los que cuenta el hogar.\n"
   ]
  },
  {
   "cell_type": "code",
   "execution_count": null,
   "metadata": {
    "scrolled": true
   },
   "outputs": [],
   "source": [
    "# Leer los datos de los hogares\n",
    "valores_missing = ['', ' ']\n",
    "hogares = pd.read_csv(\"/home/leonardo/Documentos/Acatlan/enigh/conjunto_de_datos_hogares_enigh_2018_ns.csv\", \\\n",
    "                    index_col= [0,1], \\\n",
    "                    usecols= [0, 1, 22, 23, 24, 25, 26, 27, 28, 29, 30, 31, 32, 33, 35, 36, 37, 38, 39, \\\n",
    "                              41, 43, 45, 47, 49, 51, 53, 55, 57, 59, 61, 63, 65, 67, 69, 71, 73, 75, \\\n",
    "                              77, 79, 81, 83, 85, 87, 89, 91, 93, 95], \\\n",
    "                      na_values = valores_missing)\n",
    "hogares.head()"
   ]
  },
  {
   "cell_type": "code",
   "execution_count": null,
   "metadata": {},
   "outputs": [],
   "source": [
    "hogares.shape"
   ]
  },
  {
   "cell_type": "markdown",
   "metadata": {},
   "source": [
    "La librería que usaremos para obtener las reglas de asociación requiere un Data Frame con variables Booleanas por tal motivo las transformaremos "
   ]
  },
  {
   "cell_type": "markdown",
   "metadata": {},
   "source": [
    "**Nota.** Recordar que en reglas de asociación, nos interesa que la 'canasta' contenga el item y no el número de items"
   ]
  },
  {
   "cell_type": "code",
   "execution_count": null,
   "metadata": {},
   "outputs": [],
   "source": [
    "# Transformar a valores Booleanos\n",
    "hogares_bool = hogares > 0"
   ]
  },
  {
   "cell_type": "markdown",
   "metadata": {},
   "source": [
    "Unir el valor de gasto por hogar a la tabla de hogares"
   ]
  },
  {
   "cell_type": "code",
   "execution_count": null,
   "metadata": {},
   "outputs": [],
   "source": [
    "#help(pd.merge)"
   ]
  },
  {
   "cell_type": "code",
   "execution_count": null,
   "metadata": {},
   "outputs": [],
   "source": [
    "#union = hogares.merge(gasto_x_hogar, how='left', left_on= ['folioviv','foliohog'], right_on=['folioviv','foliohog'])\n",
    "union = hogares_bool.merge(gasto_x_hogar, how='left', left_index=True, right_index=True)\n",
    "union.shape"
   ]
  },
  {
   "cell_type": "code",
   "execution_count": null,
   "metadata": {},
   "outputs": [],
   "source": [
    "union.head()"
   ]
  },
  {
   "cell_type": "code",
   "execution_count": null,
   "metadata": {},
   "outputs": [],
   "source": [
    "# Checar la cantidad de missings para la variable gasto\n",
    "union.ingreso_alto.isnull().sum()"
   ]
  },
  {
   "cell_type": "code",
   "execution_count": null,
   "metadata": {},
   "outputs": [],
   "source": [
    "# filtrar donde no haya missings\n",
    "datos = union[union.ingreso_alto.notnull()]\n",
    "datos[\"ingreso_alto\"] = datos[\"ingreso_alto\"].astype(bool)\n",
    "datos.shape"
   ]
  },
  {
   "cell_type": "code",
   "execution_count": null,
   "metadata": {},
   "outputs": [],
   "source": [
    "datos.head()"
   ]
  },
  {
   "cell_type": "code",
   "execution_count": null,
   "metadata": {},
   "outputs": [],
   "source": [
    "# Revisar cuantos registros tienen ingreso alto\n",
    "datos.ingreso_alto.sum()"
   ]
  },
  {
   "cell_type": "markdown",
   "metadata": {},
   "source": [
    "Para comenzar a hacer pruebas pueden trabajar con una muestra de los datos."
   ]
  },
  {
   "cell_type": "code",
   "execution_count": null,
   "metadata": {},
   "outputs": [],
   "source": [
    "# help(pd.DataFrame.sample)"
   ]
  },
  {
   "cell_type": "code",
   "execution_count": null,
   "metadata": {},
   "outputs": [],
   "source": [
    "datos_muestra = datos.sample(n=10000, random_state = 202011)"
   ]
  },
  {
   "cell_type": "markdown",
   "metadata": {},
   "source": [
    "**Ejercicio 1**"
   ]
  },
  {
   "cell_type": "markdown",
   "metadata": {},
   "source": [
    "Experimentar con diferentes niveles de soporte, confianza y lift para encotrar reglas de asociación que les hagan sentido considerando la variable ingreso_alto como **consecuente**"
   ]
  },
  {
   "cell_type": "code",
   "execution_count": null,
   "metadata": {},
   "outputs": [],
   "source": [
    "#!pip install mlxtend "
   ]
  },
  {
   "cell_type": "code",
   "execution_count": null,
   "metadata": {},
   "outputs": [],
   "source": [
    "# Importat las funciones a utilizar\n",
    "from mlxtend.frequent_patterns import apriori, association_rules"
   ]
  },
  {
   "cell_type": "markdown",
   "metadata": {},
   "source": [
    "Experimentar con distintos niveles de soporte y el máximo número elementos en los itemsets.\n",
    "\n",
    "Nota. Para saber el soporte de cada variable individual se puede ejecutar datos.mean()"
   ]
  },
  {
   "cell_type": "markdown",
   "metadata": {},
   "source": [
    "La opción de low_memory nos permite ejecutar el algoritmo para datos 'grandes' cuando nuestros recursos de memoria son limitados pero toma más tiempo ejecutarse"
   ]
  },
  {
   "cell_type": "code",
   "execution_count": null,
   "metadata": {},
   "outputs": [],
   "source": [
    "#help(apriori)"
   ]
  },
  {
   "cell_type": "code",
   "execution_count": null,
   "metadata": {},
   "outputs": [],
   "source": [
    "# Usar el algoritmo Apriori para obtener itemsets frecuentes\n",
    "frequent_itemsets = apriori(datos, \n",
    "                            min_support = , #Inserta valor \n",
    "                            max_len = , #Inserta valor\n",
    "                            use_colnames = True,\n",
    "                            low_memory = True) "
   ]
  },
  {
   "cell_type": "code",
   "execution_count": null,
   "metadata": {},
   "outputs": [],
   "source": [
    "print(frequent_itemsets.shape)\n",
    "print(frequent_itemsets.head())"
   ]
  },
  {
   "cell_type": "markdown",
   "metadata": {},
   "source": [
    "Experimentar con distintos valores (pueden variar la métrica si lo consideran adecuado)"
   ]
  },
  {
   "cell_type": "code",
   "execution_count": null,
   "metadata": {},
   "outputs": [],
   "source": [
    "# Generar reglas de asociación con un nivel mínimo de confianza\n",
    "rules = association_rules(frequent_itemsets, \n",
    "                          metric = 'support', \n",
    "                          min_threshold = ) # Inserta valor"
   ]
  },
  {
   "cell_type": "code",
   "execution_count": null,
   "metadata": {},
   "outputs": [],
   "source": [
    "print(rules.shape)\n",
    "print(rules.head())"
   ]
  },
  {
   "cell_type": "markdown",
   "metadata": {},
   "source": [
    "Notar que el número de reglas puede ser mucho mayor que el número de itemsets frecuentes"
   ]
  },
  {
   "cell_type": "markdown",
   "metadata": {},
   "source": [
    "Filtrar las reglas donde el consecuente es la variable ingreso alto"
   ]
  },
  {
   "cell_type": "code",
   "execution_count": null,
   "metadata": {},
   "outputs": [],
   "source": [
    "rules_income_consecuent = rules[rules['consequents'] == {'ingreso_alto'}]\n",
    "rules_income_consecuent.head()"
   ]
  },
  {
   "cell_type": "code",
   "execution_count": null,
   "metadata": {},
   "outputs": [],
   "source": [
    "rules_income_consecuent.shape"
   ]
  },
  {
   "cell_type": "markdown",
   "metadata": {},
   "source": [
    "La siguiente gráfica puede servir para identificar puntos de corte para filtrar reglas. "
   ]
  },
  {
   "cell_type": "code",
   "execution_count": null,
   "metadata": {},
   "outputs": [],
   "source": [
    "# Librerías para graficar\n",
    "import matplotlib.pyplot as plt\n",
    "import seaborn as sns"
   ]
  },
  {
   "cell_type": "code",
   "execution_count": null,
   "metadata": {},
   "outputs": [],
   "source": [
    "plt.figure(figsize=(10,10))\n",
    "sns.scatterplot(x = \"support\", y = \"confidence\", size = \"lift\", data = rules_income_consecuent)\n",
    "\n",
    "plt.show()"
   ]
  },
  {
   "cell_type": "markdown",
   "metadata": {
    "collapsed": true
   },
   "source": [
    "Experimentar con distintos niveles de de soporte, confianza y lift"
   ]
  },
  {
   "cell_type": "code",
   "execution_count": null,
   "metadata": {},
   "outputs": [],
   "source": [
    "filtered_rules = rules_income_consecuent[(rules_income_consecuent['support'] > 0) &  # Modifca el valor\n",
    "                (rules_income_consecuent['confidence'] > 0) & # Modifica el valor\n",
    "                (rules_income_consecuent['lift'] >= 0)] # Modifica el valor"
   ]
  },
  {
   "cell_type": "code",
   "execution_count": null,
   "metadata": {},
   "outputs": [],
   "source": [
    "print(filtered_rules.shape)"
   ]
  },
  {
   "cell_type": "code",
   "execution_count": null,
   "metadata": {},
   "outputs": [],
   "source": [
    "print(filtered_rules)"
   ]
  },
  {
   "cell_type": "markdown",
   "metadata": {
    "collapsed": true
   },
   "source": [
    "**Describir hallazgos**"
   ]
  },
  {
   "cell_type": "code",
   "execution_count": null,
   "metadata": {},
   "outputs": [],
   "source": [
    "## Redactar aquí"
   ]
  },
  {
   "cell_type": "code",
   "execution_count": null,
   "metadata": {},
   "outputs": [],
   "source": []
  },
  {
   "cell_type": "markdown",
   "metadata": {
    "collapsed": true
   },
   "source": [
    "**Ejercicio 2**"
   ]
  },
  {
   "cell_type": "markdown",
   "metadata": {},
   "source": [
    "La siguiente métrica propuesta por Zhang T. permite medir un grado de asociación entre el antecedente y el consecuente. Un par de propiedades para está métrica son:\n",
    "\n",
    "- Toma valores entre -1 y +1\n",
    "- Valores cercanos a +1 indican asociación positiva alta\n",
    "- Valores cercanos a -1 indican asociación negativa alta\n",
    "- Sólo se requiere utilizar el soporte para construirla"
   ]
  },
  {
   "cell_type": "markdown",
   "metadata": {},
   "source": [
    "**Calcular la métrica de Zhang a la tabla rules_income_consecuent**"
   ]
  },
  {
   "cell_type": "markdown",
   "metadata": {},
   "source": [
    "$$zhang(A \\to B) = \\frac{support(A \\cup B) - support(A)*support(B)}{max[support(A \\cup B)*(1 - support(A)),support(A)*(support(B) - support(A \\cup B))]}$$"
   ]
  },
  {
   "cell_type": "markdown",
   "metadata": {},
   "source": [
    "**Utilizar la métrica de Zhang para encontrar asociaciones negativas altas y asociaciones positivas altas**"
   ]
  },
  {
   "cell_type": "code",
   "execution_count": null,
   "metadata": {},
   "outputs": [],
   "source": [
    "# Código y hallazgos a partir de aquí"
   ]
  }
 ],
 "metadata": {
  "kernelspec": {
   "display_name": "Python 3",
   "language": "python",
   "name": "python3"
  },
  "language_info": {
   "codemirror_mode": {
    "name": "ipython",
    "version": 3
   },
   "file_extension": ".py",
   "mimetype": "text/x-python",
   "name": "python",
   "nbconvert_exporter": "python",
   "pygments_lexer": "ipython3",
   "version": "3.7.3"
  }
 },
 "nbformat": 4,
 "nbformat_minor": 2
}

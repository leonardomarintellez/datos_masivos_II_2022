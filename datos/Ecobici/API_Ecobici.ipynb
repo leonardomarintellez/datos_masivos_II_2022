{
 "cells": [
  {
   "cell_type": "markdown",
   "metadata": {},
   "source": [
    "### API Ecobici"
   ]
  },
  {
   "cell_type": "code",
   "execution_count": 1,
   "metadata": {},
   "outputs": [],
   "source": [
    "import pandas as pd \n",
    "import datetime \n",
    "import os\n",
    "\n",
    "import json\n",
    "import requests\n"
   ]
  },
  {
   "cell_type": "code",
   "execution_count": 2,
   "metadata": {},
   "outputs": [],
   "source": [
    "# client_id = 'xxxxxxxxx'\n",
    "# client_secret = 'yyyyyyyyyy'"
   ]
  },
  {
   "cell_type": "markdown",
   "metadata": {},
   "source": [
    "---"
   ]
  },
  {
   "cell_type": "markdown",
   "metadata": {},
   "source": [
    "Revisar documentación de ecobici"
   ]
  },
  {
   "cell_type": "markdown",
   "metadata": {},
   "source": [
    "Consultar la siguiente liga para obtener el access token"
   ]
  },
  {
   "cell_type": "code",
   "execution_count": 3,
   "metadata": {},
   "outputs": [],
   "source": [
    "#https://pubsbapi-latam.smartbike.com/oauth/v2/token?client_id=xxxxxxx&client_secret=yyyyyyy&grant_type=client_credentials"
   ]
  },
  {
   "cell_type": "markdown",
   "metadata": {},
   "source": [
    "Regresará la siguiente cadena con el token de acceso. Usarlo para consultar"
   ]
  },
  {
   "cell_type": "markdown",
   "metadata": {},
   "source": [
    "{\"access_token\":\"zzzzzzzzz\",\"expires_in\":3600,\"token_type\":\"bearer\",\"scope\":null,\"refresh_token\":\"zzzzzzzzz\"}"
   ]
  },
  {
   "cell_type": "markdown",
   "metadata": {},
   "source": [
    "El token tiene una duración de 1 hr."
   ]
  },
  {
   "cell_type": "code",
   "execution_count": 4,
   "metadata": {},
   "outputs": [],
   "source": [
    "#token = 'NDg4YjkwNDg5ZDIwODU3Yzk2NWZkZjc4MTEzZDBjYjU2NGJlYTZkZGRmYjI5MmQzYjEwNDU4MjM0YmNkMjIyMA'"
   ]
  },
  {
   "cell_type": "markdown",
   "metadata": {},
   "source": [
    "---"
   ]
  },
  {
   "cell_type": "code",
   "execution_count": 5,
   "metadata": {},
   "outputs": [],
   "source": [
    "url0 = 'https://pubsbapi-latam.smartbike.com/oauth/v2/token?client_id=' + client_id + '&client_secret=' + client_secret + '&grant_type=client_credentials'"
   ]
  },
  {
   "cell_type": "code",
   "execution_count": 6,
   "metadata": {},
   "outputs": [
    {
     "data": {
      "text/plain": [
       "'https://pubsbapi-latam.smartbike.com/oauth/v2/token?client_id=2439_2xrz9y3qf2kgoc8s8w0o8o44wg08osc4s00ocsw0cwgwo0wk4k&client_secret=56s1i488mhc8kg4scc0cwkgkk0gsw4oswggcws4scoscos4k0g&grant_type=client_credentials'"
      ]
     },
     "execution_count": 6,
     "metadata": {},
     "output_type": "execute_result"
    }
   ],
   "source": [
    "url0"
   ]
  },
  {
   "cell_type": "code",
   "execution_count": 7,
   "metadata": {},
   "outputs": [],
   "source": [
    "response_token = requests.get(url0)"
   ]
  },
  {
   "cell_type": "code",
   "execution_count": 8,
   "metadata": {},
   "outputs": [
    {
     "data": {
      "text/plain": [
       "{'access_token': 'OTY4YmViY2IzNDJiN2ZmMzBjMzdiOGM3OGQ5MGE0ODVjYjdmMjI3NjA4YzE0MWFjNmVhMzU3Zjk5YjMzMjdjNw',\n",
       " 'expires_in': 3600,\n",
       " 'token_type': 'bearer',\n",
       " 'scope': None,\n",
       " 'refresh_token': 'YjY0MjExN2JmYjJjMGYwMDI4ZWFlOGM1MjA5NDU2NzQ2OTNhZjcwMTJhYTkzOWZmMDdlY2MzZDE0OWUxODMxZg'}"
      ]
     },
     "execution_count": 8,
     "metadata": {},
     "output_type": "execute_result"
    }
   ],
   "source": [
    "response_token.json()"
   ]
  },
  {
   "cell_type": "code",
   "execution_count": 9,
   "metadata": {},
   "outputs": [
    {
     "data": {
      "text/plain": [
       "dict_keys(['access_token', 'expires_in', 'token_type', 'scope', 'refresh_token'])"
      ]
     },
     "execution_count": 9,
     "metadata": {},
     "output_type": "execute_result"
    }
   ],
   "source": [
    "response_token.json().keys()"
   ]
  },
  {
   "cell_type": "code",
   "execution_count": 10,
   "metadata": {},
   "outputs": [
    {
     "data": {
      "text/plain": [
       "'OTY4YmViY2IzNDJiN2ZmMzBjMzdiOGM3OGQ5MGE0ODVjYjdmMjI3NjA4YzE0MWFjNmVhMzU3Zjk5YjMzMjdjNw'"
      ]
     },
     "execution_count": 10,
     "metadata": {},
     "output_type": "execute_result"
    }
   ],
   "source": [
    "token = response_token.json()['access_token']\n",
    "token"
   ]
  },
  {
   "cell_type": "markdown",
   "metadata": {},
   "source": [
    "---"
   ]
  },
  {
   "cell_type": "markdown",
   "metadata": {},
   "source": [
    "**Obtener listado de estaciones disponibles**"
   ]
  },
  {
   "cell_type": "code",
   "execution_count": 11,
   "metadata": {},
   "outputs": [],
   "source": [
    "#help(requests.get)"
   ]
  },
  {
   "cell_type": "markdown",
   "metadata": {},
   "source": [
    "Agregar el token dentro de la cadena"
   ]
  },
  {
   "cell_type": "code",
   "execution_count": 12,
   "metadata": {},
   "outputs": [],
   "source": [
    "url1 = 'https://pubsbapi-latam.smartbike.com/api/v1/stations.json?access_token=' + token "
   ]
  },
  {
   "cell_type": "code",
   "execution_count": 13,
   "metadata": {},
   "outputs": [],
   "source": [
    "response_listado_estaciones = requests.get(url1)"
   ]
  },
  {
   "cell_type": "markdown",
   "metadata": {},
   "source": [
    "inspeccionar los datos"
   ]
  },
  {
   "cell_type": "code",
   "execution_count": 14,
   "metadata": {},
   "outputs": [
    {
     "data": {
      "text/plain": [
       "str"
      ]
     },
     "execution_count": 14,
     "metadata": {},
     "output_type": "execute_result"
    }
   ],
   "source": [
    "type(response_listado_estaciones.text)"
   ]
  },
  {
   "cell_type": "code",
   "execution_count": 15,
   "metadata": {},
   "outputs": [
    {
     "data": {
      "text/plain": [
       "dict"
      ]
     },
     "execution_count": 15,
     "metadata": {},
     "output_type": "execute_result"
    }
   ],
   "source": [
    "type(response_listado_estaciones.json())"
   ]
  },
  {
   "cell_type": "markdown",
   "metadata": {},
   "source": [
    "Revisar las llaves del diccionario"
   ]
  },
  {
   "cell_type": "code",
   "execution_count": 16,
   "metadata": {},
   "outputs": [
    {
     "data": {
      "text/plain": [
       "dict_keys(['stations'])"
      ]
     },
     "execution_count": 16,
     "metadata": {},
     "output_type": "execute_result"
    }
   ],
   "source": [
    "response_listado_estaciones.json().keys()"
   ]
  },
  {
   "cell_type": "code",
   "execution_count": 17,
   "metadata": {},
   "outputs": [
    {
     "data": {
      "text/plain": [
       "310"
      ]
     },
     "execution_count": 17,
     "metadata": {},
     "output_type": "execute_result"
    }
   ],
   "source": [
    "len(response_listado_estaciones.json()['stations'])"
   ]
  },
  {
   "cell_type": "code",
   "execution_count": 18,
   "metadata": {},
   "outputs": [
    {
     "data": {
      "text/plain": [
       "dict_keys(['id', 'name', 'address', 'addressNumber', 'zipCode', 'districtCode', 'districtName', 'altitude', 'nearbyStations', 'location', 'stationType'])"
      ]
     },
     "execution_count": 18,
     "metadata": {},
     "output_type": "execute_result"
    }
   ],
   "source": [
    "response_listado_estaciones.json()['stations'][0].keys()"
   ]
  },
  {
   "cell_type": "code",
   "execution_count": 19,
   "metadata": {},
   "outputs": [],
   "source": [
    "# response_listado_estaciones.text"
   ]
  },
  {
   "cell_type": "code",
   "execution_count": 20,
   "metadata": {},
   "outputs": [],
   "source": [
    "# Inspeccionar los datos\n",
    "# print(json.dumps(response_listado_estaciones.json(), indent = 4))"
   ]
  },
  {
   "cell_type": "markdown",
   "metadata": {},
   "source": [
    "Así se ve el resultado de la línea anterior de código. No se ejecutó porque el resultado es muy extenso."
   ]
  },
  {
   "attachments": {
    "head_listado_estaciones_ecobici.png": {
     "image/png": "[encoded data removed]"
    }
   },
   "cell_type": "markdown",
   "metadata": {},
   "source": [
    "![head_listado_estaciones_ecobici.png](attachment:head_listado_estaciones_ecobici.png)"
   ]
  },
  {
   "cell_type": "markdown",
   "metadata": {},
   "source": [
    "**obtener disponibilidad de estaciones**"
   ]
  },
  {
   "cell_type": "markdown",
   "metadata": {},
   "source": [
    "Guardar en un objeto la fecha y hr del sistema para tener identificada la hr de consulta"
   ]
  },
  {
   "cell_type": "code",
   "execution_count": 21,
   "metadata": {},
   "outputs": [],
   "source": [
    "fecha_actual = datetime.date.today()\n",
    "now = datetime.datetime.now()"
   ]
  },
  {
   "cell_type": "code",
   "execution_count": 22,
   "metadata": {},
   "outputs": [],
   "source": [
    "anio = fecha_actual.isocalendar()[0]\n",
    "semana = fecha_actual.isocalendar()[1]"
   ]
  },
  {
   "cell_type": "code",
   "execution_count": 25,
   "metadata": {},
   "outputs": [
    {
     "name": "stdout",
     "output_type": "stream",
     "text": [
      "40\n"
     ]
    }
   ],
   "source": [
    "print(semana)"
   ]
  },
  {
   "cell_type": "code",
   "execution_count": 23,
   "metadata": {},
   "outputs": [],
   "source": [
    "mes = now.month\n",
    "dia = now.day\n",
    "\n",
    "hora = now.hour\n",
    "minuto = now.minute\n",
    "segundo = now.second"
   ]
  },
  {
   "cell_type": "code",
   "execution_count": 24,
   "metadata": {},
   "outputs": [
    {
     "name": "stdout",
     "output_type": "stream",
     "text": [
      "2022-10-08 13:00:50.974694\n"
     ]
    }
   ],
   "source": [
    "print(now)"
   ]
  },
  {
   "cell_type": "markdown",
   "metadata": {},
   "source": [
    "Definir url de consulta"
   ]
  },
  {
   "cell_type": "code",
   "execution_count": 26,
   "metadata": {},
   "outputs": [],
   "source": [
    "#url2 = 'https://pubsbapi-latam.smartbike.com/api/v1/stations/status.json?access_token=NDg4YjkwNDg5ZDIwODU3Yzk2NWZkZjc4MTEzZDBjYjU2NGJlYTZkZGRmYjI5MmQzYjEwNDU4MjM0YmNkMjIyMA'\n",
    "url2 = 'https://pubsbapi-latam.smartbike.com/api/v1/stations/status.json?access_token=' + token"
   ]
  },
  {
   "cell_type": "code",
   "execution_count": 27,
   "metadata": {},
   "outputs": [],
   "source": [
    "response_disponibilidad_estaciones = requests.get(url2)"
   ]
  },
  {
   "cell_type": "markdown",
   "metadata": {},
   "source": [
    "Inspeccionar los datos"
   ]
  },
  {
   "cell_type": "code",
   "execution_count": 28,
   "metadata": {},
   "outputs": [
    {
     "data": {
      "text/plain": [
       "dict_keys(['stationsStatus'])"
      ]
     },
     "execution_count": 28,
     "metadata": {},
     "output_type": "execute_result"
    }
   ],
   "source": [
    "response_disponibilidad_estaciones.json().keys()"
   ]
  },
  {
   "cell_type": "code",
   "execution_count": 29,
   "metadata": {},
   "outputs": [
    {
     "data": {
      "text/plain": [
       "310"
      ]
     },
     "execution_count": 29,
     "metadata": {},
     "output_type": "execute_result"
    }
   ],
   "source": [
    "len(response_disponibilidad_estaciones.json()['stationsStatus'])"
   ]
  },
  {
   "cell_type": "code",
   "execution_count": 30,
   "metadata": {},
   "outputs": [
    {
     "data": {
      "text/plain": [
       "dict_keys(['id', 'status', 'availability'])"
      ]
     },
     "execution_count": 30,
     "metadata": {},
     "output_type": "execute_result"
    }
   ],
   "source": [
    "response_disponibilidad_estaciones.json()['stationsStatus'][0].keys()"
   ]
  },
  {
   "cell_type": "code",
   "execution_count": 31,
   "metadata": {},
   "outputs": [],
   "source": [
    "# Formato amigable para el lector\n",
    "# print(json.dumps(response_disponibilidad_estaciones.json(), indent = 4))"
   ]
  },
  {
   "cell_type": "markdown",
   "metadata": {},
   "source": [
    "Así se ve el resultado de la línea anterior de código. No se ejecutó porque el resultado es muy extenso."
   ]
  },
  {
   "attachments": {
    "head_disponibilidad_estaciones_ecobici.png": {
     "image/png": "[encoded data removed]"
    }
   },
   "cell_type": "markdown",
   "metadata": {},
   "source": [
    "![head_disponibilidad_estaciones_ecobici.png](attachment:head_disponibilidad_estaciones_ecobici.png)"
   ]
  },
  {
   "cell_type": "markdown",
   "metadata": {},
   "source": [
    "**Guardar las consultas**"
   ]
  },
  {
   "cell_type": "code",
   "execution_count": 32,
   "metadata": {},
   "outputs": [
    {
     "data": {
      "text/plain": [
       "'/home/leonardo/Documentos/Acatlan/Repositorios/datos_masivos_II_2022/datos/Ecobici'"
      ]
     },
     "execution_count": 32,
     "metadata": {},
     "output_type": "execute_result"
    }
   ],
   "source": [
    "os.getcwd()"
   ]
  },
  {
   "cell_type": "markdown",
   "metadata": {},
   "source": [
    "Listado de estaciones"
   ]
  },
  {
   "cell_type": "code",
   "execution_count": 33,
   "metadata": {},
   "outputs": [
    {
     "data": {
      "text/plain": [
       "'datos/listado_estaciones_ecobici_2022_semana_40.json'"
      ]
     },
     "execution_count": 33,
     "metadata": {},
     "output_type": "execute_result"
    }
   ],
   "source": [
    "file1 = \"datos/listado_estaciones_ecobici_\" + str(anio) + \"_semana_\" + str(semana) + \".json\"\n",
    "file1"
   ]
  },
  {
   "cell_type": "code",
   "execution_count": 34,
   "metadata": {},
   "outputs": [],
   "source": [
    "out_file1 = open(file1, \"w\")    \n",
    "json.dump(response_listado_estaciones.json(), out_file1, indent = 4)  \n",
    "out_file1.close()  "
   ]
  },
  {
   "cell_type": "markdown",
   "metadata": {},
   "source": [
    "Disponibilidad"
   ]
  },
  {
   "cell_type": "code",
   "execution_count": 35,
   "metadata": {},
   "outputs": [
    {
     "data": {
      "text/plain": [
       "'datos/disponibilidad_estaciones_ecobici_anio2022_mes10_dia8_hr13_min0.json'"
      ]
     },
     "execution_count": 35,
     "metadata": {},
     "output_type": "execute_result"
    }
   ],
   "source": [
    "file2 = \"datos/disponibilidad_estaciones_ecobici_anio\" + str(anio) + \"_mes\" + str(mes) + \"_dia\" + str(dia) + \"_hr\" + str(hora) + \"_min\" + str(minuto) + \".json\"\n",
    "file2"
   ]
  },
  {
   "cell_type": "code",
   "execution_count": 36,
   "metadata": {},
   "outputs": [],
   "source": [
    "out_file2 = open(file2, \"w\")    \n",
    "json.dump(response_disponibilidad_estaciones.json(), out_file2, indent = 4)  \n",
    "out_file2.close()  "
   ]
  },
  {
   "cell_type": "markdown",
   "metadata": {},
   "source": [
    "---"
   ]
  },
  {
   "cell_type": "markdown",
   "metadata": {},
   "source": [
    "**Estructurar los datos en formato tabla**"
   ]
  },
  {
   "cell_type": "code",
   "execution_count": 37,
   "metadata": {},
   "outputs": [
    {
     "data": {
      "text/plain": [
       "dict_keys(['id', 'name', 'address', 'addressNumber', 'zipCode', 'districtCode', 'districtName', 'altitude', 'nearbyStations', 'location', 'stationType'])"
      ]
     },
     "execution_count": 37,
     "metadata": {},
     "output_type": "execute_result"
    }
   ],
   "source": [
    "response_listado_estaciones.json()['stations'][0].keys()"
   ]
  },
  {
   "cell_type": "code",
   "execution_count": 38,
   "metadata": {},
   "outputs": [],
   "source": [
    "lista_ids = []\n",
    "lista_names = []\n",
    "lista_address = []\n",
    "lista_addressNumber = []\n",
    "lista_zipCode = []\n",
    "lista_districtCode = []\n",
    "lista_districtName = []\n",
    "lista_altitude = []\n",
    "lista_nearbyStations = []\n",
    "lista_stationType = []\n",
    "lista_lat = []\n",
    "lista_lon = []\n",
    "\n",
    "\n",
    "for item in response_listado_estaciones.json()['stations']:\n",
    "    lista_ids.append(item['id'])\n",
    "    lista_names.append(item['name'])\n",
    "    lista_address.append(item['address'])\n",
    "    lista_addressNumber.append(item['addressNumber'])\n",
    "    lista_zipCode.append(item['zipCode'])\n",
    "    lista_districtCode.append(item['districtCode'])\n",
    "    lista_districtName.append(item['districtName'])\n",
    "    lista_altitude.append(item['altitude'])\n",
    "    lista_nearbyStations.append(item['nearbyStations'])\n",
    "    lista_stationType.append(item['stationType'])\n",
    "    lista_lat.append(item['location']['lat'])\n",
    "    lista_lon.append(item['location']['lon'])"
   ]
  },
  {
   "cell_type": "code",
   "execution_count": 39,
   "metadata": {},
   "outputs": [],
   "source": [
    "datos1 = pd.DataFrame()\n",
    "datos1['id'] = lista_ids\n",
    "datos1['name'] = lista_names\n",
    "datos1['address'] = lista_address\n",
    "datos1['addressNumber'] = lista_addressNumber\n",
    "datos1['zipCode'] = lista_zipCode\n",
    "datos1['districtCode'] = lista_districtCode\n",
    "datos1['districtName'] = lista_districtName\n",
    "datos1['altitude'] = lista_altitude\n",
    "datos1['nearbyStations'] = lista_nearbyStations\n",
    "datos1['stationType'] = lista_stationType\n",
    "datos1['lat'] = lista_lat\n",
    "datos1['lon'] = lista_lon"
   ]
  },
  {
   "cell_type": "markdown",
   "metadata": {},
   "source": [
    "**Importante**. Los valores de longitud y latitud son coordenadas de las cicloestaciones basadas en el Sistema Geodésico Mundial (WGS84), mientras que el sistema que usa Google Maps utiliza la proyección CRS = 4326 \n",
    "// CRS : Sistema de Referencia de Coordenadas"
   ]
  },
  {
   "cell_type": "code",
   "execution_count": 40,
   "metadata": {
    "scrolled": true
   },
   "outputs": [
    {
     "data": {
      "text/html": [
       "<div>\n",
       "<style scoped>\n",
       "    .dataframe tbody tr th:only-of-type {\n",
       "        vertical-align: middle;\n",
       "    }\n",
       "\n",
       "    .dataframe tbody tr th {\n",
       "        vertical-align: top;\n",
       "    }\n",
       "\n",
       "    .dataframe thead th {\n",
       "        text-align: right;\n",
       "    }\n",
       "</style>\n",
       "<table border=\"1\" class=\"dataframe\">\n",
       "  <thead>\n",
       "    <tr style=\"text-align: right;\">\n",
       "      <th></th>\n",
       "      <th>id</th>\n",
       "      <th>name</th>\n",
       "      <th>address</th>\n",
       "      <th>addressNumber</th>\n",
       "      <th>zipCode</th>\n",
       "      <th>districtCode</th>\n",
       "      <th>districtName</th>\n",
       "      <th>altitude</th>\n",
       "      <th>nearbyStations</th>\n",
       "      <th>stationType</th>\n",
       "      <th>lat</th>\n",
       "      <th>lon</th>\n",
       "    </tr>\n",
       "  </thead>\n",
       "  <tbody>\n",
       "    <tr>\n",
       "      <th>0</th>\n",
       "      <td>55</td>\n",
       "      <td>55 5 DE MAYO-BOLIVAR</td>\n",
       "      <td>055 - 5 de Mayo - Bolívar</td>\n",
       "      <td>S/N</td>\n",
       "      <td>06700</td>\n",
       "      <td>1</td>\n",
       "      <td>Ampliación Granada</td>\n",
       "      <td>None</td>\n",
       "      <td>[87]</td>\n",
       "      <td>BIKE,TPV</td>\n",
       "      <td>19.434356</td>\n",
       "      <td>-99.138064</td>\n",
       "    </tr>\n",
       "    <tr>\n",
       "      <th>1</th>\n",
       "      <td>124</td>\n",
       "      <td>124 CLAUDIO BERNARD-DR. LICEAGA</td>\n",
       "      <td>124 - Claudio Bernard-Dr. Liceaga</td>\n",
       "      <td>S/N</td>\n",
       "      <td>06500</td>\n",
       "      <td>1</td>\n",
       "      <td>Ampliación Granada</td>\n",
       "      <td>None</td>\n",
       "      <td>[133]</td>\n",
       "      <td>BIKE</td>\n",
       "      <td>19.422392</td>\n",
       "      <td>-99.150358</td>\n",
       "    </tr>\n",
       "    <tr>\n",
       "      <th>2</th>\n",
       "      <td>154</td>\n",
       "      <td>154 TUXPAN-TLAXCALA</td>\n",
       "      <td>154 - Tuxpan-Tlaxcala</td>\n",
       "      <td>S/N</td>\n",
       "      <td>06100</td>\n",
       "      <td>1</td>\n",
       "      <td>Ampliación Granada</td>\n",
       "      <td>None</td>\n",
       "      <td>[154]</td>\n",
       "      <td>BIKE,TPV</td>\n",
       "      <td>19.406683</td>\n",
       "      <td>-99.167962</td>\n",
       "    </tr>\n",
       "    <tr>\n",
       "      <th>3</th>\n",
       "      <td>159</td>\n",
       "      <td>159 HUATABAMPO-EJE 1 PTE. AV. CUAUHTÉMOC</td>\n",
       "      <td>159 - Huatabampo-Eje 1 Pte. Av. Cuauhtémoc</td>\n",
       "      <td>S/N</td>\n",
       "      <td>06760</td>\n",
       "      <td>1</td>\n",
       "      <td>Ampliación Granada</td>\n",
       "      <td>None</td>\n",
       "      <td>[158]</td>\n",
       "      <td>BIKE</td>\n",
       "      <td>19.407517</td>\n",
       "      <td>-99.155373</td>\n",
       "    </tr>\n",
       "    <tr>\n",
       "      <th>4</th>\n",
       "      <td>350</td>\n",
       "      <td>350 JOSE CLEMENTE OROZCO-CORREGGIO</td>\n",
       "      <td>350 - Jose Clemente Orozco-Correggio</td>\n",
       "      <td>S/N</td>\n",
       "      <td>3710</td>\n",
       "      <td>1</td>\n",
       "      <td>Ampliación Granada</td>\n",
       "      <td>None</td>\n",
       "      <td>[350]</td>\n",
       "      <td>BIKE</td>\n",
       "      <td>19.384062</td>\n",
       "      <td>-99.181482</td>\n",
       "    </tr>\n",
       "  </tbody>\n",
       "</table>\n",
       "</div>"
      ],
      "text/plain": [
       "    id                                      name  \\\n",
       "0   55                      55 5 DE MAYO-BOLIVAR   \n",
       "1  124           124 CLAUDIO BERNARD-DR. LICEAGA   \n",
       "2  154                       154 TUXPAN-TLAXCALA   \n",
       "3  159  159 HUATABAMPO-EJE 1 PTE. AV. CUAUHTÉMOC   \n",
       "4  350        350 JOSE CLEMENTE OROZCO-CORREGGIO   \n",
       "\n",
       "                                      address addressNumber zipCode  \\\n",
       "0                   055 - 5 de Mayo - Bolívar           S/N   06700   \n",
       "1           124 - Claudio Bernard-Dr. Liceaga           S/N   06500   \n",
       "2                       154 - Tuxpan-Tlaxcala           S/N   06100   \n",
       "3  159 - Huatabampo-Eje 1 Pte. Av. Cuauhtémoc           S/N   06760   \n",
       "4        350 - Jose Clemente Orozco-Correggio           S/N    3710   \n",
       "\n",
       "  districtCode        districtName altitude nearbyStations stationType  \\\n",
       "0            1  Ampliación Granada     None           [87]    BIKE,TPV   \n",
       "1            1  Ampliación Granada     None          [133]        BIKE   \n",
       "2            1  Ampliación Granada     None          [154]    BIKE,TPV   \n",
       "3            1  Ampliación Granada     None          [158]        BIKE   \n",
       "4            1  Ampliación Granada     None          [350]        BIKE   \n",
       "\n",
       "         lat        lon  \n",
       "0  19.434356 -99.138064  \n",
       "1  19.422392 -99.150358  \n",
       "2  19.406683 -99.167962  \n",
       "3  19.407517 -99.155373  \n",
       "4  19.384062 -99.181482  "
      ]
     },
     "execution_count": 40,
     "metadata": {},
     "output_type": "execute_result"
    }
   ],
   "source": [
    "datos1.head()"
   ]
  },
  {
   "cell_type": "code",
   "execution_count": 41,
   "metadata": {},
   "outputs": [],
   "source": [
    "datos1['unos'] = 1"
   ]
  },
  {
   "cell_type": "code",
   "execution_count": 42,
   "metadata": {},
   "outputs": [
    {
     "data": {
      "text/plain": [
       "stationType  unos\n",
       "BIKE         1       229\n",
       "BIKE,TPV     1        81\n",
       "Name: unos, dtype: int64"
      ]
     },
     "execution_count": 42,
     "metadata": {},
     "output_type": "execute_result"
    }
   ],
   "source": [
    "datos1.groupby('stationType').unos.value_counts()"
   ]
  },
  {
   "cell_type": "code",
   "execution_count": 43,
   "metadata": {},
   "outputs": [
    {
     "data": {
      "text/plain": [
       "districtName                      unos\n",
       "Lomas de Chapultepec Sección V    1        1\n",
       "Cuauhtémoc Pensil                 1        1\n",
       "Irrigación                        1        1\n",
       "Letran Valle                      1        1\n",
       "Lomas de Chapultepec Sección III  1        1\n",
       "Molino del Rey                    1        1\n",
       "Doctores                          1        1\n",
       "Ampliación Nápoles                1        1\n",
       "Residencial Emperadores           1        1\n",
       "Santa María Nonoalco              1        1\n",
       "Anáhuac Mariano Escobedo          1        1\n",
       "Noche Buena                       1        2\n",
       "General Pedro Maria Anaya         1        2\n",
       "Ciudad de los Deportes            1        2\n",
       "Insurgentes San Borja             1        2\n",
       "Acacias                           1        2\n",
       "Piedad Narvarte                   1        3\n",
       "Insurgentes Mixcoac               1        3\n",
       "Xoco                              1        3\n",
       "Actipan                           1        3\n",
       "Tabacalera                        1        4\n",
       "Bosque de Chapultepec             1        4\n",
       "Santa Cruz Atoyac                 1        5\n",
       "San Pedro de los Pinos            1        5\n",
       "Anáhuac I                         1        5\n",
       "Hipódromo Condesa                 1        5\n",
       "Tlacoquemecatl                    1        5\n",
       "Granada                           1        6\n",
       "Del Valle Sur                     1        6\n",
       "Ampliación Granada                1        6\n",
       "Nápoles                           1        7\n",
       "Del Valle Norte                   1        7\n",
       "Condesa                           1        8\n",
       "San Miguel Chapultepec            1        8\n",
       "Escandón                          1       10\n",
       "San Rafael                        1       10\n",
       "Narvarte Poniente                 1       10\n",
       "Hipódromo                         1       10\n",
       "Anzures                           1       11\n",
       "Roma Sur                          1       12\n",
       "Buenavista                        1       12\n",
       "Del Valle Centro                  1       15\n",
       "Centro                            1       15\n",
       "Cuauhtémoc                        1       16\n",
       "Roma Norte                        1       18\n",
       "Juárez                            1       24\n",
       "Polanco                           1       33\n",
       "Name: unos, dtype: int64"
      ]
     },
     "execution_count": 43,
     "metadata": {},
     "output_type": "execute_result"
    }
   ],
   "source": [
    "datos1.groupby('districtName').unos.value_counts().sort_values()"
   ]
  },
  {
   "cell_type": "code",
   "execution_count": 44,
   "metadata": {},
   "outputs": [
    {
     "data": {
      "text/plain": [
       "310"
      ]
     },
     "execution_count": 44,
     "metadata": {},
     "output_type": "execute_result"
    }
   ],
   "source": [
    "datos1.groupby('districtName').unos.value_counts().sum()"
   ]
  },
  {
   "cell_type": "markdown",
   "metadata": {},
   "source": [
    "---"
   ]
  },
  {
   "cell_type": "markdown",
   "metadata": {},
   "source": [
    "**tabla de disponibilidad**"
   ]
  },
  {
   "cell_type": "code",
   "execution_count": 45,
   "metadata": {},
   "outputs": [
    {
     "data": {
      "text/plain": [
       "dict_keys(['id', 'status', 'availability'])"
      ]
     },
     "execution_count": 45,
     "metadata": {},
     "output_type": "execute_result"
    }
   ],
   "source": [
    "response_disponibilidad_estaciones.json()['stationsStatus'][0].keys()"
   ]
  },
  {
   "cell_type": "code",
   "execution_count": 46,
   "metadata": {},
   "outputs": [],
   "source": [
    "lista_ids = []\n",
    "lista_status = []\n",
    "lista_bikes = []\n",
    "lista_slots = []\n",
    "lista_total = []\n",
    "\n",
    "for item in response_disponibilidad_estaciones.json()['stationsStatus']:\n",
    "    lista_ids.append(item['id'])\n",
    "    lista_status.append(item['status'])\n",
    "    lista_bikes.append(item['availability']['bikes'])\n",
    "    lista_slots.append(item['availability']['slots'])\n",
    "    # Crear la variable de total\n",
    "    lista_total.append(item['availability']['bikes'] + item['availability']['slots'])\n",
    "    "
   ]
  },
  {
   "cell_type": "markdown",
   "metadata": {},
   "source": [
    "Status:\n",
    "    - 'OPN': Estaciones abiertas\n",
    "    - 'CLS': Estaciones cerradas\n",
    "        \n",
    "Availability:\n",
    "    - 'bikes': número de bicicletas disponibles\n",
    "    - 'slots': número de slots sin bicicletas"
   ]
  },
  {
   "cell_type": "code",
   "execution_count": 47,
   "metadata": {},
   "outputs": [],
   "source": [
    "datos2 = pd.DataFrame()\n",
    "datos2['id'] = lista_ids\n",
    "datos2['status'] = lista_status\n",
    "datos2['bikes'] = lista_bikes\n",
    "datos2['slots'] = lista_slots\n",
    "datos2['total'] = lista_total"
   ]
  },
  {
   "cell_type": "code",
   "execution_count": 48,
   "metadata": {},
   "outputs": [
    {
     "data": {
      "text/html": [
       "<div>\n",
       "<style scoped>\n",
       "    .dataframe tbody tr th:only-of-type {\n",
       "        vertical-align: middle;\n",
       "    }\n",
       "\n",
       "    .dataframe tbody tr th {\n",
       "        vertical-align: top;\n",
       "    }\n",
       "\n",
       "    .dataframe thead th {\n",
       "        text-align: right;\n",
       "    }\n",
       "</style>\n",
       "<table border=\"1\" class=\"dataframe\">\n",
       "  <thead>\n",
       "    <tr style=\"text-align: right;\">\n",
       "      <th></th>\n",
       "      <th>id</th>\n",
       "      <th>status</th>\n",
       "      <th>bikes</th>\n",
       "      <th>slots</th>\n",
       "      <th>total</th>\n",
       "    </tr>\n",
       "  </thead>\n",
       "  <tbody>\n",
       "    <tr>\n",
       "      <th>0</th>\n",
       "      <td>1</td>\n",
       "      <td>OPN</td>\n",
       "      <td>0</td>\n",
       "      <td>23</td>\n",
       "      <td>23</td>\n",
       "    </tr>\n",
       "    <tr>\n",
       "      <th>1</th>\n",
       "      <td>3</td>\n",
       "      <td>CLS</td>\n",
       "      <td>0</td>\n",
       "      <td>34</td>\n",
       "      <td>34</td>\n",
       "    </tr>\n",
       "    <tr>\n",
       "      <th>2</th>\n",
       "      <td>4</td>\n",
       "      <td>OPN</td>\n",
       "      <td>6</td>\n",
       "      <td>9</td>\n",
       "      <td>15</td>\n",
       "    </tr>\n",
       "    <tr>\n",
       "      <th>3</th>\n",
       "      <td>5</td>\n",
       "      <td>CLS</td>\n",
       "      <td>0</td>\n",
       "      <td>11</td>\n",
       "      <td>11</td>\n",
       "    </tr>\n",
       "    <tr>\n",
       "      <th>4</th>\n",
       "      <td>6</td>\n",
       "      <td>CLS</td>\n",
       "      <td>0</td>\n",
       "      <td>15</td>\n",
       "      <td>15</td>\n",
       "    </tr>\n",
       "  </tbody>\n",
       "</table>\n",
       "</div>"
      ],
      "text/plain": [
       "   id status  bikes  slots  total\n",
       "0   1    OPN      0     23     23\n",
       "1   3    CLS      0     34     34\n",
       "2   4    OPN      6      9     15\n",
       "3   5    CLS      0     11     11\n",
       "4   6    CLS      0     15     15"
      ]
     },
     "execution_count": 48,
     "metadata": {},
     "output_type": "execute_result"
    }
   ],
   "source": [
    "datos2.head()"
   ]
  },
  {
   "cell_type": "markdown",
   "metadata": {},
   "source": [
    "Breve summary"
   ]
  },
  {
   "cell_type": "code",
   "execution_count": 49,
   "metadata": {},
   "outputs": [
    {
     "data": {
      "text/html": [
       "<div>\n",
       "<style scoped>\n",
       "    .dataframe tbody tr th:only-of-type {\n",
       "        vertical-align: middle;\n",
       "    }\n",
       "\n",
       "    .dataframe tbody tr th {\n",
       "        vertical-align: top;\n",
       "    }\n",
       "\n",
       "    .dataframe thead th {\n",
       "        text-align: right;\n",
       "    }\n",
       "</style>\n",
       "<table border=\"1\" class=\"dataframe\">\n",
       "  <thead>\n",
       "    <tr style=\"text-align: right;\">\n",
       "      <th></th>\n",
       "      <th>id</th>\n",
       "      <th>bikes</th>\n",
       "      <th>slots</th>\n",
       "      <th>total</th>\n",
       "    </tr>\n",
       "  </thead>\n",
       "  <tbody>\n",
       "    <tr>\n",
       "      <th>count</th>\n",
       "      <td>310.000000</td>\n",
       "      <td>310.000000</td>\n",
       "      <td>310.000000</td>\n",
       "      <td>310.000000</td>\n",
       "    </tr>\n",
       "    <tr>\n",
       "      <th>mean</th>\n",
       "      <td>222.041935</td>\n",
       "      <td>2.925806</td>\n",
       "      <td>21.422581</td>\n",
       "      <td>24.348387</td>\n",
       "    </tr>\n",
       "    <tr>\n",
       "      <th>std</th>\n",
       "      <td>134.766614</td>\n",
       "      <td>7.106060</td>\n",
       "      <td>9.783025</td>\n",
       "      <td>7.915487</td>\n",
       "    </tr>\n",
       "    <tr>\n",
       "      <th>min</th>\n",
       "      <td>1.000000</td>\n",
       "      <td>0.000000</td>\n",
       "      <td>0.000000</td>\n",
       "      <td>0.000000</td>\n",
       "    </tr>\n",
       "    <tr>\n",
       "      <th>25%</th>\n",
       "      <td>115.250000</td>\n",
       "      <td>0.000000</td>\n",
       "      <td>15.000000</td>\n",
       "      <td>20.000000</td>\n",
       "    </tr>\n",
       "    <tr>\n",
       "      <th>50%</th>\n",
       "      <td>216.000000</td>\n",
       "      <td>0.000000</td>\n",
       "      <td>23.000000</td>\n",
       "      <td>24.000000</td>\n",
       "    </tr>\n",
       "    <tr>\n",
       "      <th>75%</th>\n",
       "      <td>320.750000</td>\n",
       "      <td>1.000000</td>\n",
       "      <td>29.000000</td>\n",
       "      <td>30.000000</td>\n",
       "    </tr>\n",
       "    <tr>\n",
       "      <th>max</th>\n",
       "      <td>480.000000</td>\n",
       "      <td>35.000000</td>\n",
       "      <td>36.000000</td>\n",
       "      <td>36.000000</td>\n",
       "    </tr>\n",
       "  </tbody>\n",
       "</table>\n",
       "</div>"
      ],
      "text/plain": [
       "               id       bikes       slots       total\n",
       "count  310.000000  310.000000  310.000000  310.000000\n",
       "mean   222.041935    2.925806   21.422581   24.348387\n",
       "std    134.766614    7.106060    9.783025    7.915487\n",
       "min      1.000000    0.000000    0.000000    0.000000\n",
       "25%    115.250000    0.000000   15.000000   20.000000\n",
       "50%    216.000000    0.000000   23.000000   24.000000\n",
       "75%    320.750000    1.000000   29.000000   30.000000\n",
       "max    480.000000   35.000000   36.000000   36.000000"
      ]
     },
     "execution_count": 49,
     "metadata": {},
     "output_type": "execute_result"
    }
   ],
   "source": [
    "datos2.describe()"
   ]
  },
  {
   "cell_type": "code",
   "execution_count": 50,
   "metadata": {},
   "outputs": [
    {
     "data": {
      "text/html": [
       "<div>\n",
       "<style scoped>\n",
       "    .dataframe tbody tr th:only-of-type {\n",
       "        vertical-align: middle;\n",
       "    }\n",
       "\n",
       "    .dataframe tbody tr th {\n",
       "        vertical-align: top;\n",
       "    }\n",
       "\n",
       "    .dataframe thead tr th {\n",
       "        text-align: left;\n",
       "    }\n",
       "\n",
       "    .dataframe thead tr:last-of-type th {\n",
       "        text-align: right;\n",
       "    }\n",
       "</style>\n",
       "<table border=\"1\" class=\"dataframe\">\n",
       "  <thead>\n",
       "    <tr>\n",
       "      <th></th>\n",
       "      <th colspan=\"8\" halign=\"left\">id</th>\n",
       "      <th colspan=\"2\" halign=\"left\">bikes</th>\n",
       "      <th>...</th>\n",
       "      <th colspan=\"2\" halign=\"left\">slots</th>\n",
       "      <th colspan=\"8\" halign=\"left\">total</th>\n",
       "    </tr>\n",
       "    <tr>\n",
       "      <th></th>\n",
       "      <th>count</th>\n",
       "      <th>mean</th>\n",
       "      <th>std</th>\n",
       "      <th>min</th>\n",
       "      <th>25%</th>\n",
       "      <th>50%</th>\n",
       "      <th>75%</th>\n",
       "      <th>max</th>\n",
       "      <th>count</th>\n",
       "      <th>mean</th>\n",
       "      <th>...</th>\n",
       "      <th>75%</th>\n",
       "      <th>max</th>\n",
       "      <th>count</th>\n",
       "      <th>mean</th>\n",
       "      <th>std</th>\n",
       "      <th>min</th>\n",
       "      <th>25%</th>\n",
       "      <th>50%</th>\n",
       "      <th>75%</th>\n",
       "      <th>max</th>\n",
       "    </tr>\n",
       "    <tr>\n",
       "      <th>status</th>\n",
       "      <th></th>\n",
       "      <th></th>\n",
       "      <th></th>\n",
       "      <th></th>\n",
       "      <th></th>\n",
       "      <th></th>\n",
       "      <th></th>\n",
       "      <th></th>\n",
       "      <th></th>\n",
       "      <th></th>\n",
       "      <th></th>\n",
       "      <th></th>\n",
       "      <th></th>\n",
       "      <th></th>\n",
       "      <th></th>\n",
       "      <th></th>\n",
       "      <th></th>\n",
       "      <th></th>\n",
       "      <th></th>\n",
       "      <th></th>\n",
       "      <th></th>\n",
       "    </tr>\n",
       "  </thead>\n",
       "  <tbody>\n",
       "    <tr>\n",
       "      <th>CLS</th>\n",
       "      <td>183.0</td>\n",
       "      <td>250.387978</td>\n",
       "      <td>132.490129</td>\n",
       "      <td>3.0</td>\n",
       "      <td>151.5</td>\n",
       "      <td>279.0</td>\n",
       "      <td>355.5</td>\n",
       "      <td>477.0</td>\n",
       "      <td>183.0</td>\n",
       "      <td>0.256831</td>\n",
       "      <td>...</td>\n",
       "      <td>30.0</td>\n",
       "      <td>36.0</td>\n",
       "      <td>183.0</td>\n",
       "      <td>24.016393</td>\n",
       "      <td>8.376757</td>\n",
       "      <td>0.0</td>\n",
       "      <td>20.0</td>\n",
       "      <td>24.0</td>\n",
       "      <td>30.0</td>\n",
       "      <td>36.0</td>\n",
       "    </tr>\n",
       "    <tr>\n",
       "      <th>OPN</th>\n",
       "      <td>127.0</td>\n",
       "      <td>181.196850</td>\n",
       "      <td>127.814104</td>\n",
       "      <td>1.0</td>\n",
       "      <td>71.0</td>\n",
       "      <td>187.0</td>\n",
       "      <td>243.0</td>\n",
       "      <td>480.0</td>\n",
       "      <td>127.0</td>\n",
       "      <td>6.771654</td>\n",
       "      <td>...</td>\n",
       "      <td>26.0</td>\n",
       "      <td>36.0</td>\n",
       "      <td>127.0</td>\n",
       "      <td>24.826772</td>\n",
       "      <td>7.204600</td>\n",
       "      <td>2.0</td>\n",
       "      <td>19.5</td>\n",
       "      <td>24.0</td>\n",
       "      <td>31.0</td>\n",
       "      <td>36.0</td>\n",
       "    </tr>\n",
       "  </tbody>\n",
       "</table>\n",
       "<p>2 rows × 32 columns</p>\n",
       "</div>"
      ],
      "text/plain": [
       "           id                                                           bikes  \\\n",
       "        count        mean         std  min    25%    50%    75%    max  count   \n",
       "status                                                                          \n",
       "CLS     183.0  250.387978  132.490129  3.0  151.5  279.0  355.5  477.0  183.0   \n",
       "OPN     127.0  181.196850  127.814104  1.0   71.0  187.0  243.0  480.0  127.0   \n",
       "\n",
       "                  ... slots        total                                  \\\n",
       "            mean  ...   75%   max  count       mean       std  min   25%   \n",
       "status            ...                                                      \n",
       "CLS     0.256831  ...  30.0  36.0  183.0  24.016393  8.376757  0.0  20.0   \n",
       "OPN     6.771654  ...  26.0  36.0  127.0  24.826772  7.204600  2.0  19.5   \n",
       "\n",
       "                          \n",
       "         50%   75%   max  \n",
       "status                    \n",
       "CLS     24.0  30.0  36.0  \n",
       "OPN     24.0  31.0  36.0  \n",
       "\n",
       "[2 rows x 32 columns]"
      ]
     },
     "execution_count": 50,
     "metadata": {},
     "output_type": "execute_result"
    }
   ],
   "source": [
    "datos2.groupby('status').describe()"
   ]
  },
  {
   "cell_type": "markdown",
   "metadata": {},
   "source": [
    "Agregar histograma o boxplot para estaciones abiertas"
   ]
  },
  {
   "cell_type": "markdown",
   "metadata": {},
   "source": [
    "Total de bicis disponibles"
   ]
  },
  {
   "cell_type": "code",
   "execution_count": 51,
   "metadata": {},
   "outputs": [
    {
     "data": {
      "text/plain": [
       "status\n",
       "CLS     47\n",
       "OPN    860\n",
       "Name: bikes, dtype: int64"
      ]
     },
     "execution_count": 51,
     "metadata": {},
     "output_type": "execute_result"
    }
   ],
   "source": [
    "datos2.groupby('status').bikes.sum()"
   ]
  },
  {
   "cell_type": "markdown",
   "metadata": {},
   "source": [
    "Total de slots disponibles"
   ]
  },
  {
   "cell_type": "code",
   "execution_count": 52,
   "metadata": {},
   "outputs": [
    {
     "data": {
      "text/plain": [
       "status\n",
       "CLS    4348\n",
       "OPN    2293\n",
       "Name: slots, dtype: int64"
      ]
     },
     "execution_count": 52,
     "metadata": {},
     "output_type": "execute_result"
    }
   ],
   "source": [
    "datos2.groupby('status').slots.sum()"
   ]
  },
  {
   "cell_type": "markdown",
   "metadata": {},
   "source": [
    "promedio de disponibilidad de bicis por cicloestacion"
   ]
  },
  {
   "cell_type": "code",
   "execution_count": 53,
   "metadata": {},
   "outputs": [
    {
     "data": {
      "text/plain": [
       "status\n",
       "CLS    0.256831\n",
       "OPN    6.771654\n",
       "Name: bikes, dtype: float64"
      ]
     },
     "execution_count": 53,
     "metadata": {},
     "output_type": "execute_result"
    }
   ],
   "source": [
    "datos2.groupby('status').bikes.mean()"
   ]
  },
  {
   "cell_type": "markdown",
   "metadata": {},
   "source": [
    "Promedio de slots por cicloestacion"
   ]
  },
  {
   "cell_type": "code",
   "execution_count": 54,
   "metadata": {},
   "outputs": [
    {
     "data": {
      "text/plain": [
       "status\n",
       "CLS    23.759563\n",
       "OPN    18.055118\n",
       "Name: slots, dtype: float64"
      ]
     },
     "execution_count": 54,
     "metadata": {},
     "output_type": "execute_result"
    }
   ],
   "source": [
    "datos2.groupby('status').slots.mean()"
   ]
  },
  {
   "cell_type": "code",
   "execution_count": 55,
   "metadata": {},
   "outputs": [
    {
     "data": {
      "text/plain": [
       "status\n",
       "CLS    24.016393\n",
       "OPN    24.826772\n",
       "Name: total, dtype: float64"
      ]
     },
     "execution_count": 55,
     "metadata": {},
     "output_type": "execute_result"
    }
   ],
   "source": [
    "datos2.groupby('status').total.mean()"
   ]
  },
  {
   "cell_type": "code",
   "execution_count": 59,
   "metadata": {},
   "outputs": [],
   "source": [
    "#datos2.groupby('status').bikes.value_counts()"
   ]
  },
  {
   "cell_type": "code",
   "execution_count": 60,
   "metadata": {},
   "outputs": [],
   "source": [
    "#datos2.groupby('status').slots.value_counts()"
   ]
  },
  {
   "cell_type": "code",
   "execution_count": 61,
   "metadata": {},
   "outputs": [],
   "source": [
    "#datos2.groupby('status').total.value_counts()"
   ]
  },
  {
   "cell_type": "markdown",
   "metadata": {},
   "source": [
    "**Crear tabla con relación entre estaciones utilizando la variable nearby stations**"
   ]
  },
  {
   "cell_type": "markdown",
   "metadata": {},
   "source": [
    "> by Gustavo Álvarez Hernández"
   ]
  },
  {
   "cell_type": "code",
   "execution_count": 62,
   "metadata": {},
   "outputs": [],
   "source": [
    "lista_estacion1 = []\n",
    "lista_estacion2 = []\n",
    "\n",
    "for item in response_listado_estaciones.json()['stations']:\n",
    "    for nearby in item['nearbyStations']:\n",
    "        lista_estacion1.append(item['id'])\n",
    "        lista_estacion2.append(nearby)"
   ]
  },
  {
   "cell_type": "code",
   "execution_count": 63,
   "metadata": {},
   "outputs": [],
   "source": [
    "datos3 = pd.DataFrame()\n",
    "datos3['estacion1'] = lista_estacion1\n",
    "datos3['estacion2'] = lista_estacion2"
   ]
  },
  {
   "cell_type": "code",
   "execution_count": 64,
   "metadata": {},
   "outputs": [
    {
     "data": {
      "text/html": [
       "<div>\n",
       "<style scoped>\n",
       "    .dataframe tbody tr th:only-of-type {\n",
       "        vertical-align: middle;\n",
       "    }\n",
       "\n",
       "    .dataframe tbody tr th {\n",
       "        vertical-align: top;\n",
       "    }\n",
       "\n",
       "    .dataframe thead th {\n",
       "        text-align: right;\n",
       "    }\n",
       "</style>\n",
       "<table border=\"1\" class=\"dataframe\">\n",
       "  <thead>\n",
       "    <tr style=\"text-align: right;\">\n",
       "      <th></th>\n",
       "      <th>estacion1</th>\n",
       "      <th>estacion2</th>\n",
       "    </tr>\n",
       "  </thead>\n",
       "  <tbody>\n",
       "    <tr>\n",
       "      <th>0</th>\n",
       "      <td>55</td>\n",
       "      <td>87</td>\n",
       "    </tr>\n",
       "    <tr>\n",
       "      <th>1</th>\n",
       "      <td>124</td>\n",
       "      <td>133</td>\n",
       "    </tr>\n",
       "    <tr>\n",
       "      <th>2</th>\n",
       "      <td>154</td>\n",
       "      <td>154</td>\n",
       "    </tr>\n",
       "    <tr>\n",
       "      <th>3</th>\n",
       "      <td>159</td>\n",
       "      <td>158</td>\n",
       "    </tr>\n",
       "    <tr>\n",
       "      <th>4</th>\n",
       "      <td>350</td>\n",
       "      <td>350</td>\n",
       "    </tr>\n",
       "    <tr>\n",
       "      <th>5</th>\n",
       "      <td>463</td>\n",
       "      <td>197</td>\n",
       "    </tr>\n",
       "    <tr>\n",
       "      <th>6</th>\n",
       "      <td>463</td>\n",
       "      <td>242</td>\n",
       "    </tr>\n",
       "    <tr>\n",
       "      <th>7</th>\n",
       "      <td>463</td>\n",
       "      <td>462</td>\n",
       "    </tr>\n",
       "    <tr>\n",
       "      <th>8</th>\n",
       "      <td>470</td>\n",
       "      <td>471</td>\n",
       "    </tr>\n",
       "    <tr>\n",
       "      <th>9</th>\n",
       "      <td>471</td>\n",
       "      <td>470</td>\n",
       "    </tr>\n",
       "    <tr>\n",
       "      <th>10</th>\n",
       "      <td>471</td>\n",
       "      <td>474</td>\n",
       "    </tr>\n",
       "    <tr>\n",
       "      <th>11</th>\n",
       "      <td>473</td>\n",
       "      <td>471</td>\n",
       "    </tr>\n",
       "    <tr>\n",
       "      <th>12</th>\n",
       "      <td>473</td>\n",
       "      <td>474</td>\n",
       "    </tr>\n",
       "    <tr>\n",
       "      <th>13</th>\n",
       "      <td>473</td>\n",
       "      <td>478</td>\n",
       "    </tr>\n",
       "    <tr>\n",
       "      <th>14</th>\n",
       "      <td>452</td>\n",
       "      <td>452</td>\n",
       "    </tr>\n",
       "    <tr>\n",
       "      <th>15</th>\n",
       "      <td>246</td>\n",
       "      <td>246</td>\n",
       "    </tr>\n",
       "    <tr>\n",
       "      <th>16</th>\n",
       "      <td>248</td>\n",
       "      <td>246</td>\n",
       "    </tr>\n",
       "    <tr>\n",
       "      <th>17</th>\n",
       "      <td>248</td>\n",
       "      <td>249</td>\n",
       "    </tr>\n",
       "    <tr>\n",
       "      <th>18</th>\n",
       "      <td>249</td>\n",
       "      <td>250</td>\n",
       "    </tr>\n",
       "    <tr>\n",
       "      <th>19</th>\n",
       "      <td>249</td>\n",
       "      <td>251</td>\n",
       "    </tr>\n",
       "  </tbody>\n",
       "</table>\n",
       "</div>"
      ],
      "text/plain": [
       "    estacion1  estacion2\n",
       "0          55         87\n",
       "1         124        133\n",
       "2         154        154\n",
       "3         159        158\n",
       "4         350        350\n",
       "5         463        197\n",
       "6         463        242\n",
       "7         463        462\n",
       "8         470        471\n",
       "9         471        470\n",
       "10        471        474\n",
       "11        473        471\n",
       "12        473        474\n",
       "13        473        478\n",
       "14        452        452\n",
       "15        246        246\n",
       "16        248        246\n",
       "17        248        249\n",
       "18        249        250\n",
       "19        249        251"
      ]
     },
     "execution_count": 64,
     "metadata": {},
     "output_type": "execute_result"
    }
   ],
   "source": [
    "datos3.head(20)"
   ]
  },
  {
   "cell_type": "markdown",
   "metadata": {},
   "source": [
    "Guardar los datos"
   ]
  },
  {
   "cell_type": "code",
   "execution_count": 65,
   "metadata": {},
   "outputs": [
    {
     "data": {
      "text/plain": [
       "'datos/relacion_estaciones_ecobici_2022_semana_40.csv'"
      ]
     },
     "execution_count": 65,
     "metadata": {},
     "output_type": "execute_result"
    }
   ],
   "source": [
    "file_name = \"datos/relacion_estaciones_ecobici_\" + str(anio) + \"_semana_\" + str(semana) + \".csv\"\n",
    "file_name"
   ]
  },
  {
   "cell_type": "code",
   "execution_count": 66,
   "metadata": {},
   "outputs": [],
   "source": [
    "datos3.to_csv(file_name, index = False)"
   ]
  },
  {
   "cell_type": "markdown",
   "metadata": {},
   "source": [
    "---"
   ]
  },
  {
   "cell_type": "markdown",
   "metadata": {},
   "source": [
    "Compobar que los archivos guardados se pueden leer"
   ]
  },
  {
   "cell_type": "code",
   "execution_count": 87,
   "metadata": {},
   "outputs": [],
   "source": [
    "with open('/home/leonardo/Documentos/Ecobici/datos/listado_estaciones_ecobici_2022_semana_37.json') as archivo:\n",
    "    datos1 = json.load(archivo)"
   ]
  },
  {
   "cell_type": "code",
   "execution_count": 88,
   "metadata": {},
   "outputs": [
    {
     "data": {
      "text/plain": [
       "dict"
      ]
     },
     "execution_count": 88,
     "metadata": {},
     "output_type": "execute_result"
    }
   ],
   "source": [
    "type(datos1)"
   ]
  },
  {
   "cell_type": "code",
   "execution_count": 67,
   "metadata": {},
   "outputs": [],
   "source": [
    "#datos2.groupby('status').slots.mean()datos1"
   ]
  },
  {
   "cell_type": "code",
   "execution_count": null,
   "metadata": {},
   "outputs": [],
   "source": []
  },
  {
   "cell_type": "code",
   "execution_count": 90,
   "metadata": {},
   "outputs": [],
   "source": [
    "with open('/home/leonardo/Documentos/Ecobici/datos/disponibilidad_estaciones_ecobici_anio2022_mes9_dia16_hr21_min35.json') as archivo:\n",
    "    datos2 = json.load(archivo)"
   ]
  },
  {
   "cell_type": "code",
   "execution_count": 68,
   "metadata": {},
   "outputs": [],
   "source": [
    "#datos2"
   ]
  },
  {
   "cell_type": "markdown",
   "metadata": {},
   "source": [
    "Leer con pandas"
   ]
  },
  {
   "cell_type": "code",
   "execution_count": 75,
   "metadata": {},
   "outputs": [],
   "source": [
    "import pandas as pd"
   ]
  },
  {
   "cell_type": "code",
   "execution_count": 92,
   "metadata": {},
   "outputs": [],
   "source": [
    "datos1 = pd.read_json('/home/leonardo/Documentos/Ecobici/datos/listado_estaciones_ecobici_2022_semana_37.json')"
   ]
  },
  {
   "cell_type": "code",
   "execution_count": 93,
   "metadata": {},
   "outputs": [
    {
     "data": {
      "text/plain": [
       "pandas.core.frame.DataFrame"
      ]
     },
     "execution_count": 93,
     "metadata": {},
     "output_type": "execute_result"
    }
   ],
   "source": [
    "type(datos1)"
   ]
  },
  {
   "cell_type": "code",
   "execution_count": 94,
   "metadata": {},
   "outputs": [
    {
     "data": {
      "text/html": [
       "<div>\n",
       "<style scoped>\n",
       "    .dataframe tbody tr th:only-of-type {\n",
       "        vertical-align: middle;\n",
       "    }\n",
       "\n",
       "    .dataframe tbody tr th {\n",
       "        vertical-align: top;\n",
       "    }\n",
       "\n",
       "    .dataframe thead th {\n",
       "        text-align: right;\n",
       "    }\n",
       "</style>\n",
       "<table border=\"1\" class=\"dataframe\">\n",
       "  <thead>\n",
       "    <tr style=\"text-align: right;\">\n",
       "      <th></th>\n",
       "      <th>stations</th>\n",
       "    </tr>\n",
       "  </thead>\n",
       "  <tbody>\n",
       "    <tr>\n",
       "      <th>0</th>\n",
       "      <td>{'id': 55, 'name': '55 5 DE MAYO-BOLIVAR', 'ad...</td>\n",
       "    </tr>\n",
       "    <tr>\n",
       "      <th>1</th>\n",
       "      <td>{'id': 124, 'name': '124 CLAUDIO BERNARD-DR. L...</td>\n",
       "    </tr>\n",
       "    <tr>\n",
       "      <th>2</th>\n",
       "      <td>{'id': 159, 'name': '159 HUATABAMPO-EJE 1 PTE....</td>\n",
       "    </tr>\n",
       "    <tr>\n",
       "      <th>3</th>\n",
       "      <td>{'id': 241, 'name': 'E241 EJERCITO NAL-JUAN VA...</td>\n",
       "    </tr>\n",
       "    <tr>\n",
       "      <th>4</th>\n",
       "      <td>{'id': 243, 'name': '243 MIGUEL DE CERVANTES S...</td>\n",
       "    </tr>\n",
       "  </tbody>\n",
       "</table>\n",
       "</div>"
      ],
      "text/plain": [
       "                                            stations\n",
       "0  {'id': 55, 'name': '55 5 DE MAYO-BOLIVAR', 'ad...\n",
       "1  {'id': 124, 'name': '124 CLAUDIO BERNARD-DR. L...\n",
       "2  {'id': 159, 'name': '159 HUATABAMPO-EJE 1 PTE....\n",
       "3  {'id': 241, 'name': 'E241 EJERCITO NAL-JUAN VA...\n",
       "4  {'id': 243, 'name': '243 MIGUEL DE CERVANTES S..."
      ]
     },
     "execution_count": 94,
     "metadata": {},
     "output_type": "execute_result"
    }
   ],
   "source": [
    "datos1.head()"
   ]
  },
  {
   "cell_type": "code",
   "execution_count": 95,
   "metadata": {},
   "outputs": [],
   "source": [
    "datos2 = pd.read_json('/home/leonardo/Documentos/Ecobici/datos/disponibilidad_estaciones_ecobici_anio2022_mes9_dia16_hr21_min35.json')"
   ]
  },
  {
   "cell_type": "code",
   "execution_count": 96,
   "metadata": {},
   "outputs": [
    {
     "data": {
      "text/plain": [
       "pandas.core.frame.DataFrame"
      ]
     },
     "execution_count": 96,
     "metadata": {},
     "output_type": "execute_result"
    }
   ],
   "source": [
    "type(datos2)"
   ]
  },
  {
   "cell_type": "code",
   "execution_count": 97,
   "metadata": {},
   "outputs": [
    {
     "data": {
      "text/html": [
       "<div>\n",
       "<style scoped>\n",
       "    .dataframe tbody tr th:only-of-type {\n",
       "        vertical-align: middle;\n",
       "    }\n",
       "\n",
       "    .dataframe tbody tr th {\n",
       "        vertical-align: top;\n",
       "    }\n",
       "\n",
       "    .dataframe thead th {\n",
       "        text-align: right;\n",
       "    }\n",
       "</style>\n",
       "<table border=\"1\" class=\"dataframe\">\n",
       "  <thead>\n",
       "    <tr style=\"text-align: right;\">\n",
       "      <th></th>\n",
       "      <th>stationsStatus</th>\n",
       "    </tr>\n",
       "  </thead>\n",
       "  <tbody>\n",
       "    <tr>\n",
       "      <th>0</th>\n",
       "      <td>{'id': 1, 'status': 'OPN', 'availability': {'b...</td>\n",
       "    </tr>\n",
       "    <tr>\n",
       "      <th>1</th>\n",
       "      <td>{'id': 2, 'status': 'OPN', 'availability': {'b...</td>\n",
       "    </tr>\n",
       "    <tr>\n",
       "      <th>2</th>\n",
       "      <td>{'id': 3, 'status': 'CLS', 'availability': {'b...</td>\n",
       "    </tr>\n",
       "    <tr>\n",
       "      <th>3</th>\n",
       "      <td>{'id': 4, 'status': 'OPN', 'availability': {'b...</td>\n",
       "    </tr>\n",
       "    <tr>\n",
       "      <th>4</th>\n",
       "      <td>{'id': 5, 'status': 'CLS', 'availability': {'b...</td>\n",
       "    </tr>\n",
       "  </tbody>\n",
       "</table>\n",
       "</div>"
      ],
      "text/plain": [
       "                                      stationsStatus\n",
       "0  {'id': 1, 'status': 'OPN', 'availability': {'b...\n",
       "1  {'id': 2, 'status': 'OPN', 'availability': {'b...\n",
       "2  {'id': 3, 'status': 'CLS', 'availability': {'b...\n",
       "3  {'id': 4, 'status': 'OPN', 'availability': {'b...\n",
       "4  {'id': 5, 'status': 'CLS', 'availability': {'b..."
      ]
     },
     "execution_count": 97,
     "metadata": {},
     "output_type": "execute_result"
    }
   ],
   "source": [
    "datos2.head(json.loadsjson.loadsjson.loads)"
   ]
  },
  {
   "cell_type": "code",
   "execution_count": null,
   "metadata": {},
   "outputs": [],
   "source": []
  }
 ],
 "metadata": {
  "kernelspec": {
   "display_name": "Python 3",
   "language": "python",
   "name": "python3"
  },
  "language_info": {
   "codemirror_mode": {
    "name": "ipython",
    "version": 3
   },
   "file_extension": ".py",
   "mimetype": "text/x-python",
   "name": "python",
   "nbconvert_exporter": "python",
   "pygments_lexer": "ipython3",
   "version": "3.7.3"
  }
 },
 "nbformat": 4,
 "nbformat_minor": 2
}

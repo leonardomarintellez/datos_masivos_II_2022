{
 "cells": [
  {
   "cell_type": "code",
   "execution_count": 1,
   "metadata": {
    "colab": {
     "base_uri": "https://localhost:8080/"
    },
    "id": "3YvZF6xsYFeh",
    "outputId": "ae34847f-e42a-4b10-f0dd-9b1bb106757c"
   },
   "outputs": [
    {
     "name": "stdout",
     "output_type": "stream",
     "text": [
      "Looking in indexes: https://pypi.org/simple, https://us-python.pkg.dev/colab-wheels/public/simple/\n",
      "Collecting kshingle\n",
      "  Downloading kshingle-0.10.0.tar.gz (28 kB)\n",
      "Requirement already satisfied: numpy<2,>=1.19.0 in /usr/local/lib/python3.7/dist-packages (from kshingle) (1.21.6)\n",
      "Requirement already satisfied: numba>=0.52.0 in /usr/local/lib/python3.7/dist-packages (from kshingle) (0.56.3)\n",
      "Requirement already satisfied: setuptools in /usr/local/lib/python3.7/dist-packages (from numba>=0.52.0->kshingle) (57.4.0)\n",
      "Requirement already satisfied: llvmlite<0.40,>=0.39.0dev0 in /usr/local/lib/python3.7/dist-packages (from numba>=0.52.0->kshingle) (0.39.1)\n",
      "Requirement already satisfied: importlib-metadata in /usr/local/lib/python3.7/dist-packages (from numba>=0.52.0->kshingle) (4.13.0)\n",
      "Requirement already satisfied: zipp>=0.5 in /usr/local/lib/python3.7/dist-packages (from importlib-metadata->numba>=0.52.0->kshingle) (3.9.0)\n",
      "Requirement already satisfied: typing-extensions>=3.6.4 in /usr/local/lib/python3.7/dist-packages (from importlib-metadata->numba>=0.52.0->kshingle) (4.1.1)\n",
      "Building wheels for collected packages: kshingle\n",
      "  Building wheel for kshingle (setup.py) ... \u001b[?25l\u001b[?25hdone\n",
      "  Created wheel for kshingle: filename=kshingle-0.10.0-py3-none-any.whl size=22432 sha256=17e0f50e89760f0e1cf55e350d72e7b0055bb53987bcfd4ae09c92d6a4b14c3e\n",
      "  Stored in directory: /root/.cache/pip/wheels/af/c4/f9/460389ab2b762694cb48cb102cef7dcad6e4ee5066a3439039\n",
      "Successfully built kshingle\n",
      "Installing collected packages: kshingle\n",
      "Successfully installed kshingle-0.10.0\n"
     ]
    }
   ],
   "source": [
    "!pip install kshingle"
   ]
  },
  {
   "cell_type": "markdown",
   "metadata": {
    "id": "XmPva9vAYFel"
   },
   "source": [
    "### Ejemplos usando similitud de Jaccard"
   ]
  },
  {
   "cell_type": "markdown",
   "metadata": {
    "id": "OkvNe8AtYFen"
   },
   "source": [
    "1. Similitud entre textos"
   ]
  },
  {
   "cell_type": "markdown",
   "metadata": {
    "id": "1rNV6R_qYFen"
   },
   "source": [
    "Para el ejemplo haremos uso de tejas."
   ]
  },
  {
   "cell_type": "markdown",
   "metadata": {
    "id": "_zubrWnBYFen"
   },
   "source": [
    "**Tejas (shingles)** \n",
    "\n",
    "Sea k>0 un entero. Las k-tejas (k-shingles) de un documento es el conjunto de todas las corridas (distintas) de k carácteres sucesivos.\n"
   ]
  },
  {
   "cell_type": "markdown",
   "metadata": {
    "id": "OQTKkhuhYFeo"
   },
   "source": [
    "Intuitivamente, para documentos/textos que sean similares, tendremos tejas similares . Tomemos de ejemplo el  RFC “_ABC010101DEF”, sus tejas  de longitud 1 y longitud 5 quedan de la siguiente forma."
   ]
  },
  {
   "cell_type": "markdown",
   "metadata": {
    "id": "YxdyMcnUYFeo"
   },
   "source": [
    "Tejas de longitud 1: \n",
    "\"_\", \"A\", \"B\", \"C\", \"0\", \"1\", \"D\", \"E\", \"F\","
   ]
  },
  {
   "cell_type": "markdown",
   "metadata": {
    "id": "LjeFlA4pYFep"
   },
   "source": [
    "Tejas de longitud 5: \n",
    "\"_ABC0\", \"ABC01\", \"BC010\", \"C0101\", \"01010\", \"10101\", \"0101D\", \"101DE\", \"01DEF\""
   ]
  },
  {
   "cell_type": "markdown",
   "metadata": {
    "id": "SmSCWHu8YFeq"
   },
   "source": [
    "Ejemplo. La oración \"Ciencia de datos\" con tejas de tamaño 3"
   ]
  },
  {
   "cell_type": "code",
   "execution_count": 2,
   "metadata": {
    "id": "xsxs4KnwYFeq"
   },
   "outputs": [],
   "source": [
    "import kshingle as ks"
   ]
  },
  {
   "cell_type": "code",
   "execution_count": 3,
   "metadata": {
    "colab": {
     "base_uri": "https://localhost:8080/"
    },
    "id": "QkIRdBC1YFer",
    "outputId": "ec34c651-6226-4906-bb97-3a69ccb1708c"
   },
   "outputs": [
    {
     "data": {
      "text/plain": [
       "{' Da',\n",
       " ' de',\n",
       " 'Cie',\n",
       " 'Dat',\n",
       " 'a d',\n",
       " 'ato',\n",
       " 'cia',\n",
       " 'de ',\n",
       " 'e D',\n",
       " 'enc',\n",
       " 'ia ',\n",
       " 'ien',\n",
       " 'nci',\n",
       " 'tos'}"
      ]
     },
     "execution_count": 3,
     "metadata": {},
     "output_type": "execute_result"
    }
   ],
   "source": [
    "tejas = ks.shingleset_list(\"Ciencia de Datos\", [3])\n",
    "tejas"
   ]
  },
  {
   "cell_type": "code",
   "execution_count": 4,
   "metadata": {
    "colab": {
     "base_uri": "https://localhost:8080/"
    },
    "id": "iwrrCzZdYFer",
    "outputId": "d32d8cbc-e04d-4021-a52e-10c138f4faeb"
   },
   "outputs": [
    {
     "data": {
      "text/plain": [
       "14"
      ]
     },
     "execution_count": 4,
     "metadata": {},
     "output_type": "execute_result"
    }
   ],
   "source": [
    "len(tejas)"
   ]
  },
  {
   "cell_type": "code",
   "execution_count": 5,
   "metadata": {
    "colab": {
     "base_uri": "https://localhost:8080/"
    },
    "id": "NYXVT4eBYFes",
    "outputId": "41b0e5f2-cdc6-479b-f0e5-a4058a820bba"
   },
   "outputs": [
    {
     "data": {
      "text/plain": [
       "set"
      ]
     },
     "execution_count": 5,
     "metadata": {},
     "output_type": "execute_result"
    }
   ],
   "source": [
    "type(tejas)"
   ]
  },
  {
   "cell_type": "markdown",
   "metadata": {
    "id": "xV3vqONBYFes"
   },
   "source": [
    "**Similitud de tejas**"
   ]
  },
  {
   "cell_type": "markdown",
   "metadata": {
    "id": "zr2KGFibYFes"
   },
   "source": [
    "Inicialmente podríamos pensar que usar tejas más finas nos lleva aresultados más acertados, pero no siempre es el caso. Se debe hacer prueba y error con el tipo de datos que tengamos.\n",
    "\n"
   ]
  },
  {
   "cell_type": "code",
   "execution_count": 6,
   "metadata": {
    "id": "DZ2sClH6YFes"
   },
   "outputs": [],
   "source": [
    "def jaccard_sim(list1, list2):\n",
    "    intersection = len(list(set(list1).intersection(list2)))\n",
    "    union = (len(list1) + len(list2)) - intersection\n",
    "    return float(intersection) / union"
   ]
  },
  {
   "cell_type": "markdown",
   "metadata": {
    "id": "wahec0ShYFet"
   },
   "source": [
    "Recordemos que la similitud de Jaccard de dos conjuntos A y B, cuantifica que tan cerca está la unión de A y B de su intersección."
   ]
  },
  {
   "cell_type": "markdown",
   "metadata": {
    "id": "6awcwkgSYFet"
   },
   "source": [
    "Ejemplo con distintos RFCs, para identificar RFCs similares. El objetivo es identificar aquellos RFCs que pudieran tener un typo."
   ]
  },
  {
   "cell_type": "markdown",
   "metadata": {
    "id": "hY5vW8y2YFet"
   },
   "source": [
    "![tejas0.PNG](attachment:tejas0.PNG)![tejas0.PNG](data:image/png;base64,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)"
   ]
  },
  {
   "cell_type": "markdown",
   "metadata": {
    "id": "rRkl8kjAYFeu"
   },
   "source": [
    "**Participación alumnos**. ¿Qué dificultades identifican en el problema?, ¿qué soluciones tradicionales se les ocurren?"
   ]
  },
  {
   "cell_type": "markdown",
   "metadata": {
    "id": "avdrjrLAYFeu"
   },
   "source": [
    "En el siguiente ejemplo observamos como utilizar tejas de longitud 1 puede llevarnos a resultados erróneos, veamos la primera comparación de la tabla, se trata de acreditados distintos que comparten los mismos caracteres en distinto orden, por lo que obtenemos la similitud más alta (uno) al utilizar tejas de longitud 1. \n",
    "\n",
    "Utilizar tejas de mayor longitud resuelve el problema anterior."
   ]
  },
  {
   "cell_type": "markdown",
   "metadata": {
    "id": "zVXdiEkwYFeu"
   },
   "source": [
    "La similitud para distinto tamaño de tejas es"
   ]
  },
  {
   "cell_type": "markdown",
   "metadata": {
    "id": "e3__ids5YFeu"
   },
   "source": [
    "![tejas1.PNG](data:image/png;base64,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)"
   ]
  },
  {
   "cell_type": "code",
   "execution_count": 7,
   "metadata": {
    "id": "I9UXxeVoYFeu"
   },
   "outputs": [],
   "source": [
    "rfc1 = \"_ABC010101DEF\"\n",
    "rfc2 = \"_FED101010CBA\""
   ]
  },
  {
   "cell_type": "code",
   "execution_count": 8,
   "metadata": {
    "colab": {
     "base_uri": "https://localhost:8080/"
    },
    "id": "5CkOM4rQYFev",
    "outputId": "9f4e3186-d26b-4077-c6df-c1a1c20c8d30"
   },
   "outputs": [
    {
     "data": {
      "text/plain": [
       "{'0', '1', 'A', 'B', 'C', 'D', 'E', 'F', '_'}"
      ]
     },
     "execution_count": 8,
     "metadata": {},
     "output_type": "execute_result"
    }
   ],
   "source": [
    "tejas_k1_rfc1 = ks.shingleset_list(rfc1, [1])\n",
    "tejas_k1_rfc1"
   ]
  },
  {
   "cell_type": "code",
   "execution_count": 9,
   "metadata": {
    "colab": {
     "base_uri": "https://localhost:8080/"
    },
    "id": "Ug0YsnY9YFev",
    "outputId": "19a40f49-6d96-44c4-bf1d-2f670ac794df"
   },
   "outputs": [
    {
     "data": {
      "text/plain": [
       "9"
      ]
     },
     "execution_count": 9,
     "metadata": {},
     "output_type": "execute_result"
    }
   ],
   "source": [
    "len(tejas_k1_rfc1)"
   ]
  },
  {
   "cell_type": "code",
   "execution_count": 10,
   "metadata": {
    "colab": {
     "base_uri": "https://localhost:8080/"
    },
    "id": "rJM7tDGnYFev",
    "outputId": "b6e6acea-b950-46d3-f568-66847844a8d5"
   },
   "outputs": [
    {
     "data": {
      "text/plain": [
       "{'01010',\n",
       " '0101D',\n",
       " '01DEF',\n",
       " '10101',\n",
       " '101DE',\n",
       " 'ABC01',\n",
       " 'BC010',\n",
       " 'C0101',\n",
       " '_ABC0'}"
      ]
     },
     "execution_count": 10,
     "metadata": {},
     "output_type": "execute_result"
    }
   ],
   "source": [
    "tejas_k5_rfc1 = ks.shingleset_list(rfc1, [5])\n",
    "tejas_k5_rfc1"
   ]
  },
  {
   "cell_type": "code",
   "execution_count": 11,
   "metadata": {
    "colab": {
     "base_uri": "https://localhost:8080/"
    },
    "id": "HLQg6cvnYFev",
    "outputId": "12027531-0c30-4aab-f801-0bdc5c2fc504"
   },
   "outputs": [
    {
     "data": {
      "text/plain": [
       "9"
      ]
     },
     "execution_count": 11,
     "metadata": {},
     "output_type": "execute_result"
    }
   ],
   "source": [
    "len(tejas_k5_rfc1)"
   ]
  },
  {
   "cell_type": "code",
   "execution_count": 12,
   "metadata": {
    "colab": {
     "base_uri": "https://localhost:8080/"
    },
    "id": "HU7-mTU3YFew",
    "outputId": "1d97d59f-06c6-4378-9ae2-808d81878b57"
   },
   "outputs": [
    {
     "data": {
      "text/plain": [
       "{'01010',\n",
       " '010CB',\n",
       " '10101',\n",
       " '1010C',\n",
       " '10CBA',\n",
       " 'D1010',\n",
       " 'ED101',\n",
       " 'FED10',\n",
       " '_FED1'}"
      ]
     },
     "execution_count": 12,
     "metadata": {},
     "output_type": "execute_result"
    }
   ],
   "source": [
    "tejas_k5_rfc2 = ks.shingleset_list(rfc2, [5])\n",
    "tejas_k5_rfc2"
   ]
  },
  {
   "cell_type": "code",
   "execution_count": 13,
   "metadata": {
    "colab": {
     "base_uri": "https://localhost:8080/"
    },
    "id": "NHf-JLLHYFew",
    "outputId": "84e52b87-aca1-4b9f-a870-68f1e00313ea"
   },
   "outputs": [
    {
     "data": {
      "text/plain": [
       "0.125"
      ]
     },
     "execution_count": 13,
     "metadata": {},
     "output_type": "execute_result"
    }
   ],
   "source": [
    "jaccard_sim(tejas_k5_rfc1,tejas_k5_rfc2)"
   ]
  },
  {
   "cell_type": "code",
   "execution_count": 14,
   "metadata": {
    "colab": {
     "base_uri": "https://localhost:8080/"
    },
    "id": "9Fn7jukfYFew",
    "outputId": "2489cbef-8faa-48ca-a0bf-d545f1f79ee0"
   },
   "outputs": [
    {
     "data": {
      "text/plain": [
       "1.0"
      ]
     },
     "execution_count": 14,
     "metadata": {},
     "output_type": "execute_result"
    }
   ],
   "source": [
    "# tejas de tamaño 1\n",
    "tejas_k1_rfc1 = ks.shingleset_list(rfc1, [1])\n",
    "tejas_k1_rfc2 = ks.shingleset_list(rfc2, [1])\n",
    "jaccard_sim(tejas_k1_rfc1,tejas_k1_rfc2)"
   ]
  },
  {
   "cell_type": "markdown",
   "metadata": {
    "id": "ODLZlgddYFex"
   },
   "source": [
    "**Ejercicio**. Calcular la similutud para tejas de tamaño 3"
   ]
  },
  {
   "cell_type": "code",
   "execution_count": 15,
   "metadata": {
    "colab": {
     "base_uri": "https://localhost:8080/"
    },
    "id": "HIxXbS5MYFex",
    "outputId": "0465dc6c-128b-4e19-e257-652a1772e9af"
   },
   "outputs": [
    {
     "data": {
      "text/plain": [
       "0.125"
      ]
     },
     "execution_count": 15,
     "metadata": {},
     "output_type": "execute_result"
    }
   ],
   "source": [
    "tejas_k3_rfc1 = ks.shingleset_list(rfc1, [3])\n",
    "tejas_k3_rfc2 = ks.shingleset_list(rfc2, [3])\n",
    "jaccard_sim(tejas_k3_rfc1,tejas_k3_rfc2)"
   ]
  },
  {
   "cell_type": "code",
   "execution_count": 16,
   "metadata": {
    "colab": {
     "base_uri": "https://localhost:8080/"
    },
    "id": "eWfa7dqlYFex",
    "outputId": "8729e2e4-3fc4-4c05-f97b-30d1b559d308"
   },
   "outputs": [
    {
     "data": {
      "text/plain": [
       "{'010', '01D', '101', '1DE', 'ABC', 'BC0', 'C01', 'DEF', '_AB'}"
      ]
     },
     "execution_count": 16,
     "metadata": {},
     "output_type": "execute_result"
    }
   ],
   "source": [
    "tejas_k3_rfc1"
   ]
  },
  {
   "cell_type": "code",
   "execution_count": 17,
   "metadata": {
    "colab": {
     "base_uri": "https://localhost:8080/"
    },
    "id": "vKa66xpcYFex",
    "outputId": "5b90119e-df17-44ae-c6e0-a83625748c0d"
   },
   "outputs": [
    {
     "data": {
      "text/plain": [
       "{'010', '0CB', '101', '10C', 'CBA', 'D10', 'ED1', 'FED', '_FE'}"
      ]
     },
     "execution_count": 17,
     "metadata": {},
     "output_type": "execute_result"
    }
   ],
   "source": [
    "tejas_k3_rfc2"
   ]
  },
  {
   "cell_type": "markdown",
   "metadata": {
    "id": "X2GpThpOYFey"
   },
   "source": [
    "Calcular similitud para RFCs con typo. Nota: en la práctica esto no lo sabríamos, es lo que queremos resolver."
   ]
  },
  {
   "cell_type": "code",
   "execution_count": 18,
   "metadata": {
    "id": "VuYqBB1hYFey"
   },
   "outputs": [],
   "source": [
    "rfc3 = '_AAD0901084D1'\n",
    "rfc4 = '_AAD090108AD1'"
   ]
  },
  {
   "cell_type": "code",
   "execution_count": 19,
   "metadata": {
    "colab": {
     "base_uri": "https://localhost:8080/"
    },
    "id": "etkKkUNNYFey",
    "outputId": "ed7dabaf-cd0d-47ec-9c71-c381769cafc3"
   },
   "outputs": [
    {
     "data": {
      "text/plain": [
       "0.875"
      ]
     },
     "execution_count": 19,
     "metadata": {},
     "output_type": "execute_result"
    }
   ],
   "source": [
    "# tejas de tamaño 1\n",
    "tejas_k1_rfc3 = ks.shingleset_list(rfc3, [1])\n",
    "tejas_k1_rfc4 = ks.shingleset_list(rfc4, [1])\n",
    "jaccard_sim(tejas_k1_rfc3,tejas_k1_rfc4)"
   ]
  },
  {
   "cell_type": "code",
   "execution_count": 20,
   "metadata": {
    "colab": {
     "base_uri": "https://localhost:8080/"
    },
    "id": "m9p8b303YFey",
    "outputId": "c186a083-208b-46f5-9ee8-46b29dbd26da"
   },
   "outputs": [
    {
     "data": {
      "text/plain": [
       "0.5"
      ]
     },
     "execution_count": 20,
     "metadata": {},
     "output_type": "execute_result"
    }
   ],
   "source": [
    "# tejas de tamaño 5\n",
    "tejas_k5_rfc3 = ks.shingleset_list(rfc3, [5])\n",
    "tejas_k5_rfc4 = ks.shingleset_list(rfc4, [5])\n",
    "jaccard_sim(tejas_k5_rfc3,tejas_k5_rfc4)"
   ]
  },
  {
   "cell_type": "code",
   "execution_count": 21,
   "metadata": {
    "colab": {
     "base_uri": "https://localhost:8080/"
    },
    "id": "7pfAP4M-YFez",
    "outputId": "92a966da-9b72-4991-cb3f-a1b658a180b9"
   },
   "outputs": [
    {
     "data": {
      "text/plain": [
       "0.5714285714285714"
      ]
     },
     "execution_count": 21,
     "metadata": {},
     "output_type": "execute_result"
    }
   ],
   "source": [
    "# tejas de tamaño 3\n",
    "tejas_k3_rfc3 = ks.shingleset_list(rfc3, [3])\n",
    "tejas_k3_rfc4 = ks.shingleset_list(rfc4, [3])\n",
    "jaccard_sim(tejas_k3_rfc3,tejas_k3_rfc4)"
   ]
  },
  {
   "cell_type": "markdown",
   "metadata": {
    "id": "qGrOg8qbYFez"
   },
   "source": [
    "**Participación alumnos**\n",
    "\n",
    "- ¿Qué aplicaciones se les ocurren?\n",
    "- ¿Consideran necesario algún tipo de pre procesamiento?"
   ]
  },
  {
   "cell_type": "markdown",
   "metadata": {
    "id": "B280pqqyYFez",
    "scrolled": true
   },
   "source": [
    "---"
   ]
  },
  {
   "cell_type": "markdown",
   "metadata": {
    "id": "OpkpO8a9YFez"
   },
   "source": [
    "2. Similitud entre listas de palabras"
   ]
  },
  {
   "cell_type": "markdown",
   "metadata": {
    "id": "ZGZzUUeFYFez"
   },
   "source": [
    "Los datos de este ejemplo provienen del capítulo 4 del libro **Data Science at the Command Line** by Jeroen Jannsens"
   ]
  },
  {
   "cell_type": "code",
   "execution_count": 3,
   "metadata": {
    "colab": {
     "base_uri": "https://localhost:8080/"
    },
    "id": "g22Ed14AYFez",
    "outputId": "c4767a89-16d1-4033-9e96-56f34b6bb7b2"
   },
   "outputs": [
    {
     "name": "stdout",
     "output_type": "stream",
     "text": [
      "﻿The Project Gutenberg eBook of Alice’s Adventures in Wonderland, by Lewis Carroll\r\n",
      "\r\n",
      "This eBook is for the use of anyone anywhere in the United States and\r\n",
      "most other parts of the world at no cost and with almost no restrictions\r\n",
      "whatsoever. You may copy it, give it away or re-use it under the terms\r\n",
      "of the Project Gutenberg License included with this eBook or online at\r\n",
      "www.gutenberg.org. If you are not located in the United States, you\r\n",
      "will have to check the laws of the country where you are located before\r\n",
      "using this eBook.\r\n",
      "\r\n",
      "Title: Alice’s Adventures in Wonderland\r\n",
      "\r\n",
      "Author: Lewis Carroll\r\n",
      "\r\n",
      "Release Date: January, 1991 [eBook #11]\r\n",
      "[Most recently updated: October 12, 2020]\r\n",
      "\r\n",
      "Language: English\r\n",
      "\r\n",
      "Character set encoding: UTF-8\r\n",
      "\r\n",
      "Produced by: Arthur DiBianca and David Widger\r\n",
      "\r\n",
      "*** START OF THE PROJECT GUTENBERG EBOOK ALICE’S ADVENTURES IN WONDERLAND ***\r\n",
      "\r\n",
      "[Illustration]\r\n",
      "\r\n",
      "\r\n",
      "\r\n",
      "\r\n",
      "Alice’s Adventures in Wonderland\r\n",
      "\r\n",
      "by Lewis Carroll\r\n",
      "\r\n",
      "THE MILLENNIUM FULCRUM EDITION 3.0\r\n",
      "\r\n",
      "Contents\r\n",
      "\r\n",
      " CHAPTER I.     Down the Rabbit-Hole\r\n",
      " CHAPTER II.    The Pool of Tears\r\n",
      " CHAPTER III.   A Caucus-Race and a Long Tale\r\n",
      " CHAPTER IV.    The Rabbit Sends in a Little Bill\r\n",
      " CHAPTER V.     Advice from a Caterpillar\r\n",
      " CHAPTER VI.    Pig and Pepper\r\n",
      " CHAPTER VII.   A Mad Tea-Party\r\n",
      " CHAPTER VIII.  The Queen’s Croquet-Ground\r\n",
      " CHAPTER IX.    The Mock Turtle’s Story\r\n",
      " CHAPTER X.     The Lobster Quadrille\r\n",
      " CHAPTER XI.    Who Stole the Tarts?\r\n",
      " CHAPTER XII.   Alice’s Evidence\r\n"
     ]
    }
   ],
   "source": [
    "!curl -sL \"https://www.gutenberg.org/files/11/11-0.txt\" | head -n 50"
   ]
  },
  {
   "cell_type": "code",
   "execution_count": 23,
   "metadata": {
    "colab": {
     "base_uri": "https://localhost:8080/"
    },
    "id": "7kAODM_mYFez",
    "outputId": "e5f442f3-1ef3-44cf-e56a-3f15f3381d39"
   },
   "outputs": [
    {
     "name": "stdout",
     "output_type": "stream",
     "text": [
      "   1839 the\n",
      "    942 and\n",
      "    811 to\n",
      "    638 of\n",
      "    610 it\n",
      "    553 she\n",
      "    486 you\n",
      "    462 said\n",
      "    435 in\n",
      "    403 alice\n"
     ]
    }
   ],
   "source": [
    "%%bash\n",
    "curl -sL \"https://www.gutenberg.org/files/11/11-0.txt\" | \n",
    "tr '[:upper:]' '[:lower:]' | \n",
    "grep -oE \"[a-z\\']{2,}\" | \n",
    "sort | \n",
    "uniq -c | \n",
    "sort -nr | \n",
    "head -n 10"
   ]
  },
  {
   "cell_type": "markdown",
   "metadata": {
    "id": "5qfcff2mYxot"
   },
   "source": [
    "La siguiente es una lista de stopwords en inglés"
   ]
  },
  {
   "cell_type": "code",
   "execution_count": 25,
   "metadata": {
    "colab": {
     "base_uri": "https://localhost:8080/"
    },
    "id": "VR7i7E9pYFe0",
    "outputId": "28470764-5f8a-42b8-976a-63693b8d2998"
   },
   "outputs": [
    {
     "name": "stdout",
     "output_type": "stream",
     "text": [
      "10\n",
      "39\n",
      "a\n",
      "able\n",
      "ableabout\n",
      "about\n",
      "above\n",
      "abroad\n",
      "abst\n",
      "accordance\n",
      "according\n",
      "accordingly\n",
      "across\n",
      "act\n",
      "actually\n",
      "ad\n",
      "added\n",
      "adj\n",
      "adopted\n",
      "ae\n",
      "af\n",
      "affected\n",
      "affecting\n",
      "affects\n",
      "after\n"
     ]
    }
   ],
   "source": [
    "%%bash\n",
    "curl -sL \"https://raw.githubusercontent.com/stopwords-iso/stopwords-en/master/stopwords-en.txt\" | sort | head -n 25"
   ]
  },
  {
   "cell_type": "markdown",
   "metadata": {
    "id": "LjFJPO-sYFe0"
   },
   "source": [
    "Eliminado _stopwords_ queda de la siguiente manera"
   ]
  },
  {
   "cell_type": "markdown",
   "metadata": {
    "id": "nhOXI3P5YFe0"
   },
   "source": [
    "Alice's Adventures in Wonderland"
   ]
  },
  {
   "cell_type": "code",
   "execution_count": 27,
   "metadata": {
    "id": "Vj4VZXaUYFe0"
   },
   "outputs": [],
   "source": [
    "wonderland = ['alice','gutenberg','project','queen','time','king','turtle','mock','hatter','gryphon']\n"
   ]
  },
  {
   "cell_type": "markdown",
   "metadata": {
    "id": "UMdo22TxYFe0"
   },
   "source": [
    "Through the Looking-Glass"
   ]
  },
  {
   "cell_type": "code",
   "execution_count": 28,
   "metadata": {
    "id": "vDKTiOTgYFe0"
   },
   "outputs": [],
   "source": [
    "glass = ['alice','queen','gutenberg','project','time','red','white','king','head','knight']"
   ]
  },
  {
   "cell_type": "code",
   "execution_count": 28,
   "metadata": {
    "id": "P5Y5NWQnYFe1"
   },
   "outputs": [],
   "source": []
  },
  {
   "cell_type": "code",
   "execution_count": 29,
   "metadata": {
    "colab": {
     "base_uri": "https://localhost:8080/"
    },
    "id": "9sZe-H5fYFe1",
    "outputId": "74d4ca7b-ab95-4c7f-c266-a408f3b9d099"
   },
   "outputs": [
    {
     "data": {
      "text/plain": [
       "0.42857142857142855"
      ]
     },
     "execution_count": 29,
     "metadata": {},
     "output_type": "execute_result"
    }
   ],
   "source": [
    "jaccard_sim(wonderland,glass)"
   ]
  },
  {
   "cell_type": "code",
   "execution_count": 30,
   "metadata": {
    "colab": {
     "base_uri": "https://localhost:8080/"
    },
    "id": "riFAQw7SYFe1",
    "outputId": "ff872cb7-92af-4e3a-ced8-992459af5c5d"
   },
   "outputs": [
    {
     "data": {
      "text/plain": [
       "6"
      ]
     },
     "execution_count": 30,
     "metadata": {},
     "output_type": "execute_result"
    }
   ],
   "source": [
    "#interseccion\n",
    "interseccion = len(list(set(wonderland).intersection(glass)))\n",
    "interseccion"
   ]
  },
  {
   "cell_type": "code",
   "execution_count": 31,
   "metadata": {
    "colab": {
     "base_uri": "https://localhost:8080/"
    },
    "id": "uIuLRr-LYFe1",
    "outputId": "183ceaa3-583c-4494-b38e-b079a2cafb40"
   },
   "outputs": [
    {
     "data": {
      "text/plain": [
       "['king', 'project', 'queen', 'gutenberg', 'alice', 'time']"
      ]
     },
     "execution_count": 31,
     "metadata": {},
     "output_type": "execute_result"
    }
   ],
   "source": [
    "list(set(wonderland).intersection(glass))"
   ]
  },
  {
   "cell_type": "code",
   "execution_count": 32,
   "metadata": {
    "colab": {
     "base_uri": "https://localhost:8080/"
    },
    "id": "ICp1ZDEcYFe1",
    "outputId": "bcbc0d9a-9a4c-49a5-beb5-d51e958ac09f"
   },
   "outputs": [
    {
     "data": {
      "text/plain": [
       "14"
      ]
     },
     "execution_count": 32,
     "metadata": {},
     "output_type": "execute_result"
    }
   ],
   "source": [
    "#union\n",
    "union = (len(wonderland) + len(glass)) - interseccion\n",
    "union"
   ]
  },
  {
   "cell_type": "code",
   "execution_count": null,
   "metadata": {
    "id": "Utwo43MLYFe2"
   },
   "outputs": [],
   "source": []
  }
 ],
 "metadata": {
  "colab": {
   "collapsed_sections": [],
   "provenance": []
  },
  "kernelspec": {
   "display_name": "Python 3",
   "language": "python",
   "name": "python3"
  },
  "language_info": {
   "codemirror_mode": {
    "name": "ipython",
    "version": 3
   },
   "file_extension": ".py",
   "mimetype": "text/x-python",
   "name": "python",
   "nbconvert_exporter": "python",
   "pygments_lexer": "ipython3",
   "version": "3.7.3"
  }
 },
 "nbformat": 4,
 "nbformat_minor": 5
}
